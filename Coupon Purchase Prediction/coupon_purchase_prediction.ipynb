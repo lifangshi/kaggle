{
 "cells": [
  {
   "cell_type": "code",
   "execution_count": 108,
   "id": "9b431010",
   "metadata": {},
   "outputs": [],
   "source": [
    "import pandas as pd\n",
    "from pandas import DataFrame,Series\n",
    "import numpy as np\n",
    "import matplotlib.pyplot as plt \n",
    "from sklearn.linear_model import LogisticRegression\n",
    "from tqdm.auto import tqdm\n",
    "import lightgbm as lgb\n",
    "from sklearn import preprocessing\n",
    "import sklearn\n",
    "import datetime\n",
    "#from sklearn.model_selection import cross_val_score\n",
    "from sklearn.model_selection import KFold\n",
    "from imblearn.over_sampling import SVMSMOTE, SMOTE\n",
    "from sklearn.metrics import roc_auc_score, f1_score, classification_report\n"
   ]
  },
  {
   "cell_type": "code",
   "execution_count": 109,
   "id": "61adeb0f",
   "metadata": {},
   "outputs": [],
   "source": [
    "coupon_area_train = pd.read_csv('./coupon-purchase-prediction/coupon_area_train.csv')\n",
    "coupon_detail_train = pd.read_csv('./coupon-purchase-prediction/coupon_detail_train.csv')\n",
    "coupon_list_train = pd.read_csv('./coupon-purchase-prediction/coupon_list_train.csv')\n",
    "coupon_visit_train = pd.read_csv('./coupon-purchase-prediction/coupon_visit_train.csv')\n",
    "prefecture_locations = pd.read_csv('./coupon-purchase-prediction/prefecture_locations.csv')\n",
    "sample_submission = pd.read_csv('./coupon-purchase-prediction/sample_submission.csv')\n",
    "user_list = pd.read_csv('./coupon-purchase-prediction/user_list.csv')"
   ]
  },
  {
   "cell_type": "code",
   "execution_count": 195,
   "id": "90765c74",
   "metadata": {},
   "outputs": [],
   "source": [
    "coupon_area_test = pd.read_csv('./coupon-purchase-prediction/coupon_area_test.csv')\n",
    "coupon_list_test = pd.read_csv('./coupon-purchase-prediction/coupon_list_test.csv')"
   ]
  },
  {
   "cell_type": "code",
   "execution_count": 17,
   "id": "e482d4a9",
   "metadata": {},
   "outputs": [
    {
     "data": {
      "text/plain": [
       "(2165, 3)"
      ]
     },
     "execution_count": 17,
     "metadata": {},
     "output_type": "execute_result"
    }
   ],
   "source": [
    "coupon_area_test.shape"
   ]
  },
  {
   "cell_type": "code",
   "execution_count": 18,
   "id": "572c1e15",
   "metadata": {},
   "outputs": [
    {
     "data": {
      "text/html": [
       "<div>\n",
       "<style scoped>\n",
       "    .dataframe tbody tr th:only-of-type {\n",
       "        vertical-align: middle;\n",
       "    }\n",
       "\n",
       "    .dataframe tbody tr th {\n",
       "        vertical-align: top;\n",
       "    }\n",
       "\n",
       "    .dataframe thead th {\n",
       "        text-align: right;\n",
       "    }\n",
       "</style>\n",
       "<table border=\"1\" class=\"dataframe\">\n",
       "  <thead>\n",
       "    <tr style=\"text-align: right;\">\n",
       "      <th></th>\n",
       "      <th>SMALL_AREA_NAME</th>\n",
       "      <th>PREF_NAME</th>\n",
       "      <th>COUPON_ID_hash</th>\n",
       "    </tr>\n",
       "  </thead>\n",
       "  <tbody>\n",
       "    <tr>\n",
       "      <th>0</th>\n",
       "      <td>京都</td>\n",
       "      <td>京都府</td>\n",
       "      <td>c76ea297ebd3a5a4d3bf9f75269f66fa</td>\n",
       "    </tr>\n",
       "    <tr>\n",
       "      <th>1</th>\n",
       "      <td>ミナミ他</td>\n",
       "      <td>大阪府</td>\n",
       "      <td>c76ea297ebd3a5a4d3bf9f75269f66fa</td>\n",
       "    </tr>\n",
       "    <tr>\n",
       "      <th>2</th>\n",
       "      <td>銀座・新橋・東京・上野</td>\n",
       "      <td>東京都</td>\n",
       "      <td>dd74dc95ca294afa02db40a543ae1763</td>\n",
       "    </tr>\n",
       "    <tr>\n",
       "      <th>3</th>\n",
       "      <td>川崎・湘南・箱根他</td>\n",
       "      <td>神奈川県</td>\n",
       "      <td>c65b550cbef918796ad53b1d5b7165c1</td>\n",
       "    </tr>\n",
       "    <tr>\n",
       "      <th>4</th>\n",
       "      <td>埼玉</td>\n",
       "      <td>埼玉県</td>\n",
       "      <td>c65b550cbef918796ad53b1d5b7165c1</td>\n",
       "    </tr>\n",
       "  </tbody>\n",
       "</table>\n",
       "</div>"
      ],
      "text/plain": [
       "  SMALL_AREA_NAME PREF_NAME                    COUPON_ID_hash\n",
       "0              京都       京都府  c76ea297ebd3a5a4d3bf9f75269f66fa\n",
       "1            ミナミ他       大阪府  c76ea297ebd3a5a4d3bf9f75269f66fa\n",
       "2     銀座・新橋・東京・上野       東京都  dd74dc95ca294afa02db40a543ae1763\n",
       "3       川崎・湘南・箱根他      神奈川県  c65b550cbef918796ad53b1d5b7165c1\n",
       "4              埼玉       埼玉県  c65b550cbef918796ad53b1d5b7165c1"
      ]
     },
     "execution_count": 18,
     "metadata": {},
     "output_type": "execute_result"
    }
   ],
   "source": [
    "coupon_area_test.head()"
   ]
  },
  {
   "cell_type": "code",
   "execution_count": 19,
   "id": "8c53ae3f",
   "metadata": {},
   "outputs": [
    {
     "data": {
      "text/html": [
       "<div>\n",
       "<style scoped>\n",
       "    .dataframe tbody tr th:only-of-type {\n",
       "        vertical-align: middle;\n",
       "    }\n",
       "\n",
       "    .dataframe tbody tr th {\n",
       "        vertical-align: top;\n",
       "    }\n",
       "\n",
       "    .dataframe thead th {\n",
       "        text-align: right;\n",
       "    }\n",
       "</style>\n",
       "<table border=\"1\" class=\"dataframe\">\n",
       "  <thead>\n",
       "    <tr style=\"text-align: right;\">\n",
       "      <th></th>\n",
       "      <th>SMALL_AREA_NAME</th>\n",
       "      <th>PREF_NAME</th>\n",
       "      <th>COUPON_ID_hash</th>\n",
       "    </tr>\n",
       "  </thead>\n",
       "  <tbody>\n",
       "    <tr>\n",
       "      <th>0</th>\n",
       "      <td>埼玉</td>\n",
       "      <td>埼玉県</td>\n",
       "      <td>6b263844241eea98c5a97f1335ea82af</td>\n",
       "    </tr>\n",
       "    <tr>\n",
       "      <th>1</th>\n",
       "      <td>千葉</td>\n",
       "      <td>千葉県</td>\n",
       "      <td>cc031f250e8bad1e24060263b9fc0ddd</td>\n",
       "    </tr>\n",
       "    <tr>\n",
       "      <th>2</th>\n",
       "      <td>千葉</td>\n",
       "      <td>千葉県</td>\n",
       "      <td>ba5e9b7453ca52ff711635a5d2e8102d</td>\n",
       "    </tr>\n",
       "    <tr>\n",
       "      <th>3</th>\n",
       "      <td>千葉</td>\n",
       "      <td>千葉県</td>\n",
       "      <td>3e1ffbedca3569f9e8032d401e8cb4e6</td>\n",
       "    </tr>\n",
       "    <tr>\n",
       "      <th>4</th>\n",
       "      <td>千葉</td>\n",
       "      <td>千葉県</td>\n",
       "      <td>782934b6c815b4030ea204eef7d4a734</td>\n",
       "    </tr>\n",
       "  </tbody>\n",
       "</table>\n",
       "</div>"
      ],
      "text/plain": [
       "  SMALL_AREA_NAME PREF_NAME                    COUPON_ID_hash\n",
       "0              埼玉       埼玉県  6b263844241eea98c5a97f1335ea82af\n",
       "1              千葉       千葉県  cc031f250e8bad1e24060263b9fc0ddd\n",
       "2              千葉       千葉県  ba5e9b7453ca52ff711635a5d2e8102d\n",
       "3              千葉       千葉県  3e1ffbedca3569f9e8032d401e8cb4e6\n",
       "4              千葉       千葉県  782934b6c815b4030ea204eef7d4a734"
      ]
     },
     "execution_count": 19,
     "metadata": {},
     "output_type": "execute_result"
    }
   ],
   "source": [
    "coupon_area_train.head()"
   ]
  },
  {
   "cell_type": "code",
   "execution_count": 20,
   "id": "0321f23c",
   "metadata": {},
   "outputs": [
    {
     "data": {
      "text/html": [
       "<div>\n",
       "<style scoped>\n",
       "    .dataframe tbody tr th:only-of-type {\n",
       "        vertical-align: middle;\n",
       "    }\n",
       "\n",
       "    .dataframe tbody tr th {\n",
       "        vertical-align: top;\n",
       "    }\n",
       "\n",
       "    .dataframe thead th {\n",
       "        text-align: right;\n",
       "    }\n",
       "</style>\n",
       "<table border=\"1\" class=\"dataframe\">\n",
       "  <thead>\n",
       "    <tr style=\"text-align: right;\">\n",
       "      <th></th>\n",
       "      <th>ITEM_COUNT</th>\n",
       "      <th>I_DATE</th>\n",
       "      <th>SMALL_AREA_NAME</th>\n",
       "      <th>PURCHASEID_hash</th>\n",
       "      <th>USER_ID_hash</th>\n",
       "      <th>COUPON_ID_hash</th>\n",
       "    </tr>\n",
       "  </thead>\n",
       "  <tbody>\n",
       "    <tr>\n",
       "      <th>0</th>\n",
       "      <td>1</td>\n",
       "      <td>2012-03-28 15:06:06</td>\n",
       "      <td>兵庫</td>\n",
       "      <td>c820a8882374a4e472f0984a8825893f</td>\n",
       "      <td>d9dca3cb44bab12ba313eaa681f663eb</td>\n",
       "      <td>34c48f84026e08355dc3bd19b427f09a</td>\n",
       "    </tr>\n",
       "    <tr>\n",
       "      <th>1</th>\n",
       "      <td>1</td>\n",
       "      <td>2011-07-04 23:52:54</td>\n",
       "      <td>銀座・新橋・東京・上野</td>\n",
       "      <td>1b4eb2435421ede98c8931c42e8220ec</td>\n",
       "      <td>560574a339f1b25e57b0221e486907ed</td>\n",
       "      <td>767673b7a777854a92b73b0934ddfae7</td>\n",
       "    </tr>\n",
       "    <tr>\n",
       "      <th>2</th>\n",
       "      <td>1</td>\n",
       "      <td>2011-07-16 00:52:49</td>\n",
       "      <td>恵比寿・目黒・品川</td>\n",
       "      <td>36b5f9ba46c44b65587d0b16f2e4c77f</td>\n",
       "      <td>560574a339f1b25e57b0221e486907ed</td>\n",
       "      <td>4f3b5b91d9831192557c056022fdc1f2</td>\n",
       "    </tr>\n",
       "    <tr>\n",
       "      <th>3</th>\n",
       "      <td>1</td>\n",
       "      <td>2011-07-16 00:54:53</td>\n",
       "      <td>恵比寿・目黒・品川</td>\n",
       "      <td>2f30f46937cc9004774e576914b2aa1a</td>\n",
       "      <td>560574a339f1b25e57b0221e486907ed</td>\n",
       "      <td>4f3b5b91d9831192557c056022fdc1f2</td>\n",
       "    </tr>\n",
       "    <tr>\n",
       "      <th>4</th>\n",
       "      <td>1</td>\n",
       "      <td>2011-07-16 00:55:52</td>\n",
       "      <td>恵比寿・目黒・品川</td>\n",
       "      <td>4d000c64a55ac573d0ae1a8f03677f50</td>\n",
       "      <td>560574a339f1b25e57b0221e486907ed</td>\n",
       "      <td>4f3b5b91d9831192557c056022fdc1f2</td>\n",
       "    </tr>\n",
       "  </tbody>\n",
       "</table>\n",
       "</div>"
      ],
      "text/plain": [
       "   ITEM_COUNT               I_DATE SMALL_AREA_NAME  \\\n",
       "0           1  2012-03-28 15:06:06              兵庫   \n",
       "1           1  2011-07-04 23:52:54     銀座・新橋・東京・上野   \n",
       "2           1  2011-07-16 00:52:49       恵比寿・目黒・品川   \n",
       "3           1  2011-07-16 00:54:53       恵比寿・目黒・品川   \n",
       "4           1  2011-07-16 00:55:52       恵比寿・目黒・品川   \n",
       "\n",
       "                    PURCHASEID_hash                      USER_ID_hash  \\\n",
       "0  c820a8882374a4e472f0984a8825893f  d9dca3cb44bab12ba313eaa681f663eb   \n",
       "1  1b4eb2435421ede98c8931c42e8220ec  560574a339f1b25e57b0221e486907ed   \n",
       "2  36b5f9ba46c44b65587d0b16f2e4c77f  560574a339f1b25e57b0221e486907ed   \n",
       "3  2f30f46937cc9004774e576914b2aa1a  560574a339f1b25e57b0221e486907ed   \n",
       "4  4d000c64a55ac573d0ae1a8f03677f50  560574a339f1b25e57b0221e486907ed   \n",
       "\n",
       "                     COUPON_ID_hash  \n",
       "0  34c48f84026e08355dc3bd19b427f09a  \n",
       "1  767673b7a777854a92b73b0934ddfae7  \n",
       "2  4f3b5b91d9831192557c056022fdc1f2  \n",
       "3  4f3b5b91d9831192557c056022fdc1f2  \n",
       "4  4f3b5b91d9831192557c056022fdc1f2  "
      ]
     },
     "execution_count": 20,
     "metadata": {},
     "output_type": "execute_result"
    }
   ],
   "source": [
    "coupon_detail_train.head()"
   ]
  },
  {
   "cell_type": "code",
   "execution_count": 21,
   "id": "9d9ee7f1",
   "metadata": {},
   "outputs": [
    {
     "data": {
      "text/plain": [
       "Index(['ITEM_COUNT', 'I_DATE', 'SMALL_AREA_NAME', 'PURCHASEID_hash',\n",
       "       'USER_ID_hash', 'COUPON_ID_hash'],\n",
       "      dtype='object')"
      ]
     },
     "execution_count": 21,
     "metadata": {},
     "output_type": "execute_result"
    }
   ],
   "source": [
    "coupon_detail_train.columns"
   ]
  },
  {
   "cell_type": "code",
   "execution_count": 22,
   "id": "336bf54a",
   "metadata": {},
   "outputs": [
    {
     "data": {
      "text/html": [
       "<div>\n",
       "<style scoped>\n",
       "    .dataframe tbody tr th:only-of-type {\n",
       "        vertical-align: middle;\n",
       "    }\n",
       "\n",
       "    .dataframe tbody tr th {\n",
       "        vertical-align: top;\n",
       "    }\n",
       "\n",
       "    .dataframe thead th {\n",
       "        text-align: right;\n",
       "    }\n",
       "</style>\n",
       "<table border=\"1\" class=\"dataframe\">\n",
       "  <thead>\n",
       "    <tr style=\"text-align: right;\">\n",
       "      <th></th>\n",
       "      <th>CAPSULE_TEXT</th>\n",
       "      <th>GENRE_NAME</th>\n",
       "      <th>PRICE_RATE</th>\n",
       "      <th>CATALOG_PRICE</th>\n",
       "      <th>DISCOUNT_PRICE</th>\n",
       "      <th>DISPFROM</th>\n",
       "      <th>DISPEND</th>\n",
       "      <th>DISPPERIOD</th>\n",
       "      <th>VALIDFROM</th>\n",
       "      <th>VALIDEND</th>\n",
       "      <th>...</th>\n",
       "      <th>USABLE_DATE_THU</th>\n",
       "      <th>USABLE_DATE_FRI</th>\n",
       "      <th>USABLE_DATE_SAT</th>\n",
       "      <th>USABLE_DATE_SUN</th>\n",
       "      <th>USABLE_DATE_HOLIDAY</th>\n",
       "      <th>USABLE_DATE_BEFORE_HOLIDAY</th>\n",
       "      <th>large_area_name</th>\n",
       "      <th>ken_name</th>\n",
       "      <th>small_area_name</th>\n",
       "      <th>COUPON_ID_hash</th>\n",
       "    </tr>\n",
       "  </thead>\n",
       "  <tbody>\n",
       "    <tr>\n",
       "      <th>0</th>\n",
       "      <td>グルメ</td>\n",
       "      <td>グルメ</td>\n",
       "      <td>52</td>\n",
       "      <td>5659</td>\n",
       "      <td>2690</td>\n",
       "      <td>2012-06-26 12:00:00</td>\n",
       "      <td>2012-06-30 12:00:00</td>\n",
       "      <td>4</td>\n",
       "      <td>2012-07-01</td>\n",
       "      <td>2012-10-27</td>\n",
       "      <td>...</td>\n",
       "      <td>1.0</td>\n",
       "      <td>1.0</td>\n",
       "      <td>1.0</td>\n",
       "      <td>1.0</td>\n",
       "      <td>1.0</td>\n",
       "      <td>1.0</td>\n",
       "      <td>関西</td>\n",
       "      <td>大阪府</td>\n",
       "      <td>ミナミ他</td>\n",
       "      <td>c76ea297ebd3a5a4d3bf9f75269f66fa</td>\n",
       "    </tr>\n",
       "    <tr>\n",
       "      <th>1</th>\n",
       "      <td>グルメ</td>\n",
       "      <td>グルメ</td>\n",
       "      <td>52</td>\n",
       "      <td>18000</td>\n",
       "      <td>8500</td>\n",
       "      <td>2012-06-27 12:00:00</td>\n",
       "      <td>2012-07-04 12:00:00</td>\n",
       "      <td>7</td>\n",
       "      <td>2012-07-05</td>\n",
       "      <td>2012-10-13</td>\n",
       "      <td>...</td>\n",
       "      <td>1.0</td>\n",
       "      <td>1.0</td>\n",
       "      <td>1.0</td>\n",
       "      <td>0.0</td>\n",
       "      <td>0.0</td>\n",
       "      <td>1.0</td>\n",
       "      <td>関東</td>\n",
       "      <td>東京都</td>\n",
       "      <td>銀座・新橋・東京・上野</td>\n",
       "      <td>dd74dc95ca294afa02db40a543ae1763</td>\n",
       "    </tr>\n",
       "    <tr>\n",
       "      <th>2</th>\n",
       "      <td>グルメ</td>\n",
       "      <td>グルメ</td>\n",
       "      <td>51</td>\n",
       "      <td>7200</td>\n",
       "      <td>3480</td>\n",
       "      <td>2012-06-28 12:00:00</td>\n",
       "      <td>2012-07-05 12:00:00</td>\n",
       "      <td>7</td>\n",
       "      <td>2012-07-06</td>\n",
       "      <td>2012-12-28</td>\n",
       "      <td>...</td>\n",
       "      <td>1.0</td>\n",
       "      <td>1.0</td>\n",
       "      <td>1.0</td>\n",
       "      <td>1.0</td>\n",
       "      <td>1.0</td>\n",
       "      <td>1.0</td>\n",
       "      <td>関東</td>\n",
       "      <td>神奈川県</td>\n",
       "      <td>横浜</td>\n",
       "      <td>c65b550cbef918796ad53b1d5b7165c1</td>\n",
       "    </tr>\n",
       "    <tr>\n",
       "      <th>3</th>\n",
       "      <td>グルメ</td>\n",
       "      <td>グルメ</td>\n",
       "      <td>50</td>\n",
       "      <td>3300</td>\n",
       "      <td>1650</td>\n",
       "      <td>2012-06-24 12:00:00</td>\n",
       "      <td>2012-06-29 12:00:00</td>\n",
       "      <td>5</td>\n",
       "      <td>2012-06-30</td>\n",
       "      <td>2012-10-31</td>\n",
       "      <td>...</td>\n",
       "      <td>1.0</td>\n",
       "      <td>2.0</td>\n",
       "      <td>2.0</td>\n",
       "      <td>1.0</td>\n",
       "      <td>1.0</td>\n",
       "      <td>2.0</td>\n",
       "      <td>関西</td>\n",
       "      <td>兵庫県</td>\n",
       "      <td>兵庫</td>\n",
       "      <td>f93dc6e223935d817e1237f8f73b56a2</td>\n",
       "    </tr>\n",
       "    <tr>\n",
       "      <th>4</th>\n",
       "      <td>グルメ</td>\n",
       "      <td>グルメ</td>\n",
       "      <td>56</td>\n",
       "      <td>3650</td>\n",
       "      <td>1600</td>\n",
       "      <td>2012-06-26 12:00:00</td>\n",
       "      <td>2012-07-03 12:00:00</td>\n",
       "      <td>7</td>\n",
       "      <td>2012-07-04</td>\n",
       "      <td>2012-11-10</td>\n",
       "      <td>...</td>\n",
       "      <td>1.0</td>\n",
       "      <td>1.0</td>\n",
       "      <td>1.0</td>\n",
       "      <td>1.0</td>\n",
       "      <td>1.0</td>\n",
       "      <td>1.0</td>\n",
       "      <td>東海</td>\n",
       "      <td>愛知県</td>\n",
       "      <td>愛知</td>\n",
       "      <td>86c64391318f1d751647bf8e1882cf1d</td>\n",
       "    </tr>\n",
       "  </tbody>\n",
       "</table>\n",
       "<p>5 rows × 24 columns</p>\n",
       "</div>"
      ],
      "text/plain": [
       "  CAPSULE_TEXT GENRE_NAME  PRICE_RATE  CATALOG_PRICE  DISCOUNT_PRICE  \\\n",
       "0          グルメ        グルメ          52           5659            2690   \n",
       "1          グルメ        グルメ          52          18000            8500   \n",
       "2          グルメ        グルメ          51           7200            3480   \n",
       "3          グルメ        グルメ          50           3300            1650   \n",
       "4          グルメ        グルメ          56           3650            1600   \n",
       "\n",
       "              DISPFROM              DISPEND  DISPPERIOD   VALIDFROM  \\\n",
       "0  2012-06-26 12:00:00  2012-06-30 12:00:00           4  2012-07-01   \n",
       "1  2012-06-27 12:00:00  2012-07-04 12:00:00           7  2012-07-05   \n",
       "2  2012-06-28 12:00:00  2012-07-05 12:00:00           7  2012-07-06   \n",
       "3  2012-06-24 12:00:00  2012-06-29 12:00:00           5  2012-06-30   \n",
       "4  2012-06-26 12:00:00  2012-07-03 12:00:00           7  2012-07-04   \n",
       "\n",
       "     VALIDEND  ...  USABLE_DATE_THU  USABLE_DATE_FRI  USABLE_DATE_SAT  \\\n",
       "0  2012-10-27  ...              1.0              1.0              1.0   \n",
       "1  2012-10-13  ...              1.0              1.0              1.0   \n",
       "2  2012-12-28  ...              1.0              1.0              1.0   \n",
       "3  2012-10-31  ...              1.0              2.0              2.0   \n",
       "4  2012-11-10  ...              1.0              1.0              1.0   \n",
       "\n",
       "   USABLE_DATE_SUN  USABLE_DATE_HOLIDAY  USABLE_DATE_BEFORE_HOLIDAY  \\\n",
       "0              1.0                  1.0                         1.0   \n",
       "1              0.0                  0.0                         1.0   \n",
       "2              1.0                  1.0                         1.0   \n",
       "3              1.0                  1.0                         2.0   \n",
       "4              1.0                  1.0                         1.0   \n",
       "\n",
       "   large_area_name  ken_name  small_area_name  \\\n",
       "0               関西       大阪府             ミナミ他   \n",
       "1               関東       東京都      銀座・新橋・東京・上野   \n",
       "2               関東      神奈川県               横浜   \n",
       "3               関西       兵庫県               兵庫   \n",
       "4               東海       愛知県               愛知   \n",
       "\n",
       "                     COUPON_ID_hash  \n",
       "0  c76ea297ebd3a5a4d3bf9f75269f66fa  \n",
       "1  dd74dc95ca294afa02db40a543ae1763  \n",
       "2  c65b550cbef918796ad53b1d5b7165c1  \n",
       "3  f93dc6e223935d817e1237f8f73b56a2  \n",
       "4  86c64391318f1d751647bf8e1882cf1d  \n",
       "\n",
       "[5 rows x 24 columns]"
      ]
     },
     "execution_count": 22,
     "metadata": {},
     "output_type": "execute_result"
    }
   ],
   "source": [
    "coupon_list_test.head()"
   ]
  },
  {
   "cell_type": "code",
   "execution_count": 146,
   "id": "e9c97637",
   "metadata": {
    "scrolled": true
   },
   "outputs": [
    {
     "name": "stdout",
     "output_type": "stream",
     "text": [
      "[('三重県', '三重県'), ('京都府', '京都府'), ('佐賀県', '佐賀県'), ('兵庫県', '兵庫県'), ('北海道', '北海道'), ('千葉県', '千葉県'), ('和歌山県', '和歌山県'), ('埼玉県', '埼玉県'), ('大分県', '大分県'), ('大阪府', '大阪府'), ('奈良県', '奈良県'), ('宮城県', '宮城県'), ('宮崎県', '宮崎県'), ('富山県', '富山県'), ('山口県', '山口県'), ('山形県', '山形県'), ('山梨県', '山梨県'), ('岐阜県', '岐阜県'), ('岡山県', '岡山県'), ('岩手県', '岩手県'), ('島根県', '島根県'), ('広島県', '広島県'), ('徳島県', '徳島県'), ('愛媛県', '愛媛県'), ('愛知県', '愛知県'), ('新潟県', '新潟県'), ('東京都', '東京都'), ('栃木県', '栃木県'), ('沖縄県', '沖縄県'), ('滋賀県', '滋賀県'), ('熊本県', '熊本県'), ('石川県', '石川県'), ('神奈川県', '神奈川県'), ('福井県', '福井県'), ('福岡県', '福岡県'), ('福島県', '福島県'), ('秋田県', '秋田県'), ('群馬県', '群馬県'), ('茨城県', '茨城県'), ('長崎県', '長崎県'), ('長野県', '長野県'), ('青森県', '青森県'), ('静岡県', '静岡県'), ('香川県', '香川県'), ('高知県', '高知県'), ('鳥取県', '鳥取県'), ('鹿児島県', '鹿児島県')]\n"
     ]
    }
   ],
   "source": [
    "print(list(zip(sorted(coupon_list_train['ken_name'].unique()),sorted(prefecture_locations['PREF_NAME'].unique()))))"
   ]
  },
  {
   "cell_type": "code",
   "execution_count": 149,
   "id": "5e98cac1",
   "metadata": {},
   "outputs": [
    {
     "data": {
      "text/plain": [
       "True"
      ]
     },
     "execution_count": 149,
     "metadata": {},
     "output_type": "execute_result"
    }
   ],
   "source": [
    "'埼玉県' in prefecture_locations['PREF_NAME'].unique()"
   ]
  },
  {
   "cell_type": "code",
   "execution_count": 23,
   "id": "c4ab85d2",
   "metadata": {},
   "outputs": [
    {
     "data": {
      "text/plain": [
       "Index(['CAPSULE_TEXT', 'GENRE_NAME', 'PRICE_RATE', 'CATALOG_PRICE',\n",
       "       'DISCOUNT_PRICE', 'DISPFROM', 'DISPEND', 'DISPPERIOD', 'VALIDFROM',\n",
       "       'VALIDEND', 'VALIDPERIOD', 'USABLE_DATE_MON', 'USABLE_DATE_TUE',\n",
       "       'USABLE_DATE_WED', 'USABLE_DATE_THU', 'USABLE_DATE_FRI',\n",
       "       'USABLE_DATE_SAT', 'USABLE_DATE_SUN', 'USABLE_DATE_HOLIDAY',\n",
       "       'USABLE_DATE_BEFORE_HOLIDAY', 'large_area_name', 'ken_name',\n",
       "       'small_area_name', 'COUPON_ID_hash'],\n",
       "      dtype='object')"
      ]
     },
     "execution_count": 23,
     "metadata": {},
     "output_type": "execute_result"
    }
   ],
   "source": [
    "coupon_list_test.columns"
   ]
  },
  {
   "cell_type": "code",
   "execution_count": 24,
   "id": "ec50c69c",
   "metadata": {},
   "outputs": [
    {
     "data": {
      "text/html": [
       "<div>\n",
       "<style scoped>\n",
       "    .dataframe tbody tr th:only-of-type {\n",
       "        vertical-align: middle;\n",
       "    }\n",
       "\n",
       "    .dataframe tbody tr th {\n",
       "        vertical-align: top;\n",
       "    }\n",
       "\n",
       "    .dataframe thead th {\n",
       "        text-align: right;\n",
       "    }\n",
       "</style>\n",
       "<table border=\"1\" class=\"dataframe\">\n",
       "  <thead>\n",
       "    <tr style=\"text-align: right;\">\n",
       "      <th></th>\n",
       "      <th>CAPSULE_TEXT</th>\n",
       "      <th>GENRE_NAME</th>\n",
       "      <th>PRICE_RATE</th>\n",
       "      <th>CATALOG_PRICE</th>\n",
       "      <th>DISCOUNT_PRICE</th>\n",
       "      <th>DISPFROM</th>\n",
       "      <th>DISPEND</th>\n",
       "      <th>DISPPERIOD</th>\n",
       "      <th>VALIDFROM</th>\n",
       "      <th>VALIDEND</th>\n",
       "      <th>...</th>\n",
       "      <th>USABLE_DATE_THU</th>\n",
       "      <th>USABLE_DATE_FRI</th>\n",
       "      <th>USABLE_DATE_SAT</th>\n",
       "      <th>USABLE_DATE_SUN</th>\n",
       "      <th>USABLE_DATE_HOLIDAY</th>\n",
       "      <th>USABLE_DATE_BEFORE_HOLIDAY</th>\n",
       "      <th>large_area_name</th>\n",
       "      <th>ken_name</th>\n",
       "      <th>small_area_name</th>\n",
       "      <th>COUPON_ID_hash</th>\n",
       "    </tr>\n",
       "  </thead>\n",
       "  <tbody>\n",
       "    <tr>\n",
       "      <th>0</th>\n",
       "      <td>グルメ</td>\n",
       "      <td>グルメ</td>\n",
       "      <td>50</td>\n",
       "      <td>3000</td>\n",
       "      <td>1500</td>\n",
       "      <td>2011-07-08 12:00:00</td>\n",
       "      <td>2011-07-09 12:00:00</td>\n",
       "      <td>1</td>\n",
       "      <td>2011-07-10</td>\n",
       "      <td>2011-12-08</td>\n",
       "      <td>...</td>\n",
       "      <td>1.0</td>\n",
       "      <td>0.0</td>\n",
       "      <td>0.0</td>\n",
       "      <td>1.0</td>\n",
       "      <td>1.0</td>\n",
       "      <td>0.0</td>\n",
       "      <td>関東</td>\n",
       "      <td>埼玉県</td>\n",
       "      <td>埼玉</td>\n",
       "      <td>6b263844241eea98c5a97f1335ea82af</td>\n",
       "    </tr>\n",
       "    <tr>\n",
       "      <th>1</th>\n",
       "      <td>グルメ</td>\n",
       "      <td>グルメ</td>\n",
       "      <td>51</td>\n",
       "      <td>2080</td>\n",
       "      <td>1000</td>\n",
       "      <td>2011-07-01 12:00:00</td>\n",
       "      <td>2011-07-02 12:00:00</td>\n",
       "      <td>1</td>\n",
       "      <td>2011-07-03</td>\n",
       "      <td>2011-12-04</td>\n",
       "      <td>...</td>\n",
       "      <td>1.0</td>\n",
       "      <td>1.0</td>\n",
       "      <td>1.0</td>\n",
       "      <td>1.0</td>\n",
       "      <td>1.0</td>\n",
       "      <td>1.0</td>\n",
       "      <td>関東</td>\n",
       "      <td>千葉県</td>\n",
       "      <td>千葉</td>\n",
       "      <td>cc031f250e8bad1e24060263b9fc0ddd</td>\n",
       "    </tr>\n",
       "    <tr>\n",
       "      <th>2</th>\n",
       "      <td>グルメ</td>\n",
       "      <td>グルメ</td>\n",
       "      <td>50</td>\n",
       "      <td>7000</td>\n",
       "      <td>3500</td>\n",
       "      <td>2011-07-12 12:00:00</td>\n",
       "      <td>2011-07-15 12:00:00</td>\n",
       "      <td>3</td>\n",
       "      <td>2011-07-16</td>\n",
       "      <td>2012-01-11</td>\n",
       "      <td>...</td>\n",
       "      <td>1.0</td>\n",
       "      <td>1.0</td>\n",
       "      <td>1.0</td>\n",
       "      <td>1.0</td>\n",
       "      <td>1.0</td>\n",
       "      <td>1.0</td>\n",
       "      <td>関東</td>\n",
       "      <td>千葉県</td>\n",
       "      <td>千葉</td>\n",
       "      <td>ba5e9b7453ca52ff711635a5d2e8102d</td>\n",
       "    </tr>\n",
       "    <tr>\n",
       "      <th>3</th>\n",
       "      <td>グルメ</td>\n",
       "      <td>グルメ</td>\n",
       "      <td>50</td>\n",
       "      <td>3000</td>\n",
       "      <td>1500</td>\n",
       "      <td>2011-07-09 12:00:00</td>\n",
       "      <td>2011-07-11 12:00:00</td>\n",
       "      <td>2</td>\n",
       "      <td>2011-07-12</td>\n",
       "      <td>2011-12-01</td>\n",
       "      <td>...</td>\n",
       "      <td>1.0</td>\n",
       "      <td>0.0</td>\n",
       "      <td>0.0</td>\n",
       "      <td>1.0</td>\n",
       "      <td>1.0</td>\n",
       "      <td>1.0</td>\n",
       "      <td>関東</td>\n",
       "      <td>千葉県</td>\n",
       "      <td>千葉</td>\n",
       "      <td>3e1ffbedca3569f9e8032d401e8cb4e6</td>\n",
       "    </tr>\n",
       "    <tr>\n",
       "      <th>4</th>\n",
       "      <td>グルメ</td>\n",
       "      <td>グルメ</td>\n",
       "      <td>50</td>\n",
       "      <td>2000</td>\n",
       "      <td>1000</td>\n",
       "      <td>2011-07-05 12:00:00</td>\n",
       "      <td>2011-07-06 12:00:00</td>\n",
       "      <td>1</td>\n",
       "      <td>2011-07-07</td>\n",
       "      <td>2011-12-30</td>\n",
       "      <td>...</td>\n",
       "      <td>1.0</td>\n",
       "      <td>0.0</td>\n",
       "      <td>0.0</td>\n",
       "      <td>1.0</td>\n",
       "      <td>1.0</td>\n",
       "      <td>0.0</td>\n",
       "      <td>関東</td>\n",
       "      <td>千葉県</td>\n",
       "      <td>千葉</td>\n",
       "      <td>782934b6c815b4030ea204eef7d4a734</td>\n",
       "    </tr>\n",
       "  </tbody>\n",
       "</table>\n",
       "<p>5 rows × 24 columns</p>\n",
       "</div>"
      ],
      "text/plain": [
       "  CAPSULE_TEXT GENRE_NAME  PRICE_RATE  CATALOG_PRICE  DISCOUNT_PRICE  \\\n",
       "0          グルメ        グルメ          50           3000            1500   \n",
       "1          グルメ        グルメ          51           2080            1000   \n",
       "2          グルメ        グルメ          50           7000            3500   \n",
       "3          グルメ        グルメ          50           3000            1500   \n",
       "4          グルメ        グルメ          50           2000            1000   \n",
       "\n",
       "              DISPFROM              DISPEND  DISPPERIOD   VALIDFROM  \\\n",
       "0  2011-07-08 12:00:00  2011-07-09 12:00:00           1  2011-07-10   \n",
       "1  2011-07-01 12:00:00  2011-07-02 12:00:00           1  2011-07-03   \n",
       "2  2011-07-12 12:00:00  2011-07-15 12:00:00           3  2011-07-16   \n",
       "3  2011-07-09 12:00:00  2011-07-11 12:00:00           2  2011-07-12   \n",
       "4  2011-07-05 12:00:00  2011-07-06 12:00:00           1  2011-07-07   \n",
       "\n",
       "     VALIDEND  ...  USABLE_DATE_THU  USABLE_DATE_FRI  USABLE_DATE_SAT  \\\n",
       "0  2011-12-08  ...              1.0              0.0              0.0   \n",
       "1  2011-12-04  ...              1.0              1.0              1.0   \n",
       "2  2012-01-11  ...              1.0              1.0              1.0   \n",
       "3  2011-12-01  ...              1.0              0.0              0.0   \n",
       "4  2011-12-30  ...              1.0              0.0              0.0   \n",
       "\n",
       "   USABLE_DATE_SUN  USABLE_DATE_HOLIDAY  USABLE_DATE_BEFORE_HOLIDAY  \\\n",
       "0              1.0                  1.0                         0.0   \n",
       "1              1.0                  1.0                         1.0   \n",
       "2              1.0                  1.0                         1.0   \n",
       "3              1.0                  1.0                         1.0   \n",
       "4              1.0                  1.0                         0.0   \n",
       "\n",
       "   large_area_name  ken_name  small_area_name  \\\n",
       "0               関東       埼玉県               埼玉   \n",
       "1               関東       千葉県               千葉   \n",
       "2               関東       千葉県               千葉   \n",
       "3               関東       千葉県               千葉   \n",
       "4               関東       千葉県               千葉   \n",
       "\n",
       "                     COUPON_ID_hash  \n",
       "0  6b263844241eea98c5a97f1335ea82af  \n",
       "1  cc031f250e8bad1e24060263b9fc0ddd  \n",
       "2  ba5e9b7453ca52ff711635a5d2e8102d  \n",
       "3  3e1ffbedca3569f9e8032d401e8cb4e6  \n",
       "4  782934b6c815b4030ea204eef7d4a734  \n",
       "\n",
       "[5 rows x 24 columns]"
      ]
     },
     "execution_count": 24,
     "metadata": {},
     "output_type": "execute_result"
    }
   ],
   "source": [
    "coupon_list_train.head()"
   ]
  },
  {
   "cell_type": "code",
   "execution_count": 25,
   "id": "f527e8f0",
   "metadata": {},
   "outputs": [
    {
     "data": {
      "text/html": [
       "<div>\n",
       "<style scoped>\n",
       "    .dataframe tbody tr th:only-of-type {\n",
       "        vertical-align: middle;\n",
       "    }\n",
       "\n",
       "    .dataframe tbody tr th {\n",
       "        vertical-align: top;\n",
       "    }\n",
       "\n",
       "    .dataframe thead th {\n",
       "        text-align: right;\n",
       "    }\n",
       "</style>\n",
       "<table border=\"1\" class=\"dataframe\">\n",
       "  <thead>\n",
       "    <tr style=\"text-align: right;\">\n",
       "      <th></th>\n",
       "      <th>PURCHASE_FLG</th>\n",
       "      <th>I_DATE</th>\n",
       "      <th>PAGE_SERIAL</th>\n",
       "      <th>REFERRER_hash</th>\n",
       "      <th>VIEW_COUPON_ID_hash</th>\n",
       "      <th>USER_ID_hash</th>\n",
       "      <th>SESSION_ID_hash</th>\n",
       "      <th>PURCHASEID_hash</th>\n",
       "    </tr>\n",
       "  </thead>\n",
       "  <tbody>\n",
       "    <tr>\n",
       "      <th>0</th>\n",
       "      <td>0</td>\n",
       "      <td>2012-03-28 14:15:00</td>\n",
       "      <td>7</td>\n",
       "      <td>7d3892e54acb559ae36c459978489330</td>\n",
       "      <td>34c48f84026e08355dc3bd19b427f09a</td>\n",
       "      <td>d9dca3cb44bab12ba313eaa681f663eb</td>\n",
       "      <td>673af822615593249e7c6a9a1a6bbb1a</td>\n",
       "      <td>NaN</td>\n",
       "    </tr>\n",
       "    <tr>\n",
       "      <th>1</th>\n",
       "      <td>0</td>\n",
       "      <td>2012-03-28 14:17:28</td>\n",
       "      <td>9</td>\n",
       "      <td>7d3892e54acb559ae36c459978489330</td>\n",
       "      <td>34c48f84026e08355dc3bd19b427f09a</td>\n",
       "      <td>d9dca3cb44bab12ba313eaa681f663eb</td>\n",
       "      <td>673af822615593249e7c6a9a1a6bbb1a</td>\n",
       "      <td>NaN</td>\n",
       "    </tr>\n",
       "    <tr>\n",
       "      <th>2</th>\n",
       "      <td>0</td>\n",
       "      <td>2012-03-28 14:20:05</td>\n",
       "      <td>16</td>\n",
       "      <td>7d3892e54acb559ae36c459978489330</td>\n",
       "      <td>17c450c3b470c045d35ec22b02daa690</td>\n",
       "      <td>d9dca3cb44bab12ba313eaa681f663eb</td>\n",
       "      <td>673af822615593249e7c6a9a1a6bbb1a</td>\n",
       "      <td>NaN</td>\n",
       "    </tr>\n",
       "    <tr>\n",
       "      <th>3</th>\n",
       "      <td>0</td>\n",
       "      <td>2012-03-28 14:23:16</td>\n",
       "      <td>18</td>\n",
       "      <td>7d3892e54acb559ae36c459978489330</td>\n",
       "      <td>91a15e6a95d09e5e01b50747833b317d</td>\n",
       "      <td>d9dca3cb44bab12ba313eaa681f663eb</td>\n",
       "      <td>673af822615593249e7c6a9a1a6bbb1a</td>\n",
       "      <td>NaN</td>\n",
       "    </tr>\n",
       "    <tr>\n",
       "      <th>4</th>\n",
       "      <td>0</td>\n",
       "      <td>2012-03-28 14:26:25</td>\n",
       "      <td>20</td>\n",
       "      <td>7d3892e54acb559ae36c459978489330</td>\n",
       "      <td>96fcbc8f6e45d5a2de1661eb140c6e82</td>\n",
       "      <td>d9dca3cb44bab12ba313eaa681f663eb</td>\n",
       "      <td>673af822615593249e7c6a9a1a6bbb1a</td>\n",
       "      <td>NaN</td>\n",
       "    </tr>\n",
       "  </tbody>\n",
       "</table>\n",
       "</div>"
      ],
      "text/plain": [
       "   PURCHASE_FLG               I_DATE  PAGE_SERIAL  \\\n",
       "0             0  2012-03-28 14:15:00            7   \n",
       "1             0  2012-03-28 14:17:28            9   \n",
       "2             0  2012-03-28 14:20:05           16   \n",
       "3             0  2012-03-28 14:23:16           18   \n",
       "4             0  2012-03-28 14:26:25           20   \n",
       "\n",
       "                      REFERRER_hash               VIEW_COUPON_ID_hash  \\\n",
       "0  7d3892e54acb559ae36c459978489330  34c48f84026e08355dc3bd19b427f09a   \n",
       "1  7d3892e54acb559ae36c459978489330  34c48f84026e08355dc3bd19b427f09a   \n",
       "2  7d3892e54acb559ae36c459978489330  17c450c3b470c045d35ec22b02daa690   \n",
       "3  7d3892e54acb559ae36c459978489330  91a15e6a95d09e5e01b50747833b317d   \n",
       "4  7d3892e54acb559ae36c459978489330  96fcbc8f6e45d5a2de1661eb140c6e82   \n",
       "\n",
       "                       USER_ID_hash                   SESSION_ID_hash  \\\n",
       "0  d9dca3cb44bab12ba313eaa681f663eb  673af822615593249e7c6a9a1a6bbb1a   \n",
       "1  d9dca3cb44bab12ba313eaa681f663eb  673af822615593249e7c6a9a1a6bbb1a   \n",
       "2  d9dca3cb44bab12ba313eaa681f663eb  673af822615593249e7c6a9a1a6bbb1a   \n",
       "3  d9dca3cb44bab12ba313eaa681f663eb  673af822615593249e7c6a9a1a6bbb1a   \n",
       "4  d9dca3cb44bab12ba313eaa681f663eb  673af822615593249e7c6a9a1a6bbb1a   \n",
       "\n",
       "  PURCHASEID_hash  \n",
       "0             NaN  \n",
       "1             NaN  \n",
       "2             NaN  \n",
       "3             NaN  \n",
       "4             NaN  "
      ]
     },
     "execution_count": 25,
     "metadata": {},
     "output_type": "execute_result"
    }
   ],
   "source": [
    "coupon_visit_train.head()"
   ]
  },
  {
   "cell_type": "code",
   "execution_count": 26,
   "id": "7ceda270",
   "metadata": {},
   "outputs": [
    {
     "data": {
      "text/plain": [
       "114775"
      ]
     },
     "execution_count": 26,
     "metadata": {},
     "output_type": "execute_result"
    }
   ],
   "source": [
    "coupon_purchased = coupon_visit_train.PURCHASEID_hash.unique()\n",
    "len(coupon_purchased)"
   ]
  },
  {
   "cell_type": "code",
   "execution_count": 13,
   "id": "4bd11833",
   "metadata": {
    "scrolled": true
   },
   "outputs": [
    {
     "data": {
      "text/html": [
       "<div>\n",
       "<style scoped>\n",
       "    .dataframe tbody tr th:only-of-type {\n",
       "        vertical-align: middle;\n",
       "    }\n",
       "\n",
       "    .dataframe tbody tr th {\n",
       "        vertical-align: top;\n",
       "    }\n",
       "\n",
       "    .dataframe thead th {\n",
       "        text-align: right;\n",
       "    }\n",
       "</style>\n",
       "<table border=\"1\" class=\"dataframe\">\n",
       "  <thead>\n",
       "    <tr style=\"text-align: right;\">\n",
       "      <th></th>\n",
       "      <th>PREF_NAME</th>\n",
       "      <th>PREFECTUAL_OFFICE</th>\n",
       "      <th>LATITUDE</th>\n",
       "      <th>LONGITUDE</th>\n",
       "    </tr>\n",
       "  </thead>\n",
       "  <tbody>\n",
       "    <tr>\n",
       "      <th>0</th>\n",
       "      <td>北海道</td>\n",
       "      <td>札幌市</td>\n",
       "      <td>43.063968</td>\n",
       "      <td>141.347899</td>\n",
       "    </tr>\n",
       "    <tr>\n",
       "      <th>1</th>\n",
       "      <td>青森県</td>\n",
       "      <td>青森市</td>\n",
       "      <td>40.824623</td>\n",
       "      <td>140.740593</td>\n",
       "    </tr>\n",
       "    <tr>\n",
       "      <th>2</th>\n",
       "      <td>岩手県</td>\n",
       "      <td>盛岡市</td>\n",
       "      <td>39.703531</td>\n",
       "      <td>141.152667</td>\n",
       "    </tr>\n",
       "    <tr>\n",
       "      <th>3</th>\n",
       "      <td>宮城県</td>\n",
       "      <td>仙台市</td>\n",
       "      <td>38.268839</td>\n",
       "      <td>140.872103</td>\n",
       "    </tr>\n",
       "    <tr>\n",
       "      <th>4</th>\n",
       "      <td>秋田県</td>\n",
       "      <td>秋田市</td>\n",
       "      <td>39.718600</td>\n",
       "      <td>140.102334</td>\n",
       "    </tr>\n",
       "  </tbody>\n",
       "</table>\n",
       "</div>"
      ],
      "text/plain": [
       "  PREF_NAME PREFECTUAL_OFFICE   LATITUDE   LONGITUDE\n",
       "0       北海道               札幌市  43.063968  141.347899\n",
       "1       青森県               青森市  40.824623  140.740593\n",
       "2       岩手県               盛岡市  39.703531  141.152667\n",
       "3       宮城県               仙台市  38.268839  140.872103\n",
       "4       秋田県               秋田市  39.718600  140.102334"
      ]
     },
     "execution_count": 13,
     "metadata": {},
     "output_type": "execute_result"
    }
   ],
   "source": [
    "prefecture_locations.head()"
   ]
  },
  {
   "cell_type": "code",
   "execution_count": null,
   "id": "3da26fac",
   "metadata": {},
   "outputs": [],
   "source": []
  },
  {
   "cell_type": "code",
   "execution_count": 14,
   "id": "8e2d66ea",
   "metadata": {
    "scrolled": true
   },
   "outputs": [
    {
     "data": {
      "text/html": [
       "<div>\n",
       "<style scoped>\n",
       "    .dataframe tbody tr th:only-of-type {\n",
       "        vertical-align: middle;\n",
       "    }\n",
       "\n",
       "    .dataframe tbody tr th {\n",
       "        vertical-align: top;\n",
       "    }\n",
       "\n",
       "    .dataframe thead th {\n",
       "        text-align: right;\n",
       "    }\n",
       "</style>\n",
       "<table border=\"1\" class=\"dataframe\">\n",
       "  <thead>\n",
       "    <tr style=\"text-align: right;\">\n",
       "      <th></th>\n",
       "      <th>USER_ID_hash</th>\n",
       "      <th>PURCHASED_COUPONS</th>\n",
       "    </tr>\n",
       "  </thead>\n",
       "  <tbody>\n",
       "    <tr>\n",
       "      <th>0</th>\n",
       "      <td>0000b53e182165208887ba65c079fc21</td>\n",
       "      <td>NaN</td>\n",
       "    </tr>\n",
       "    <tr>\n",
       "      <th>1</th>\n",
       "      <td>00035b86e6884589ec8d28fbf2fe7757</td>\n",
       "      <td>NaN</td>\n",
       "    </tr>\n",
       "    <tr>\n",
       "      <th>2</th>\n",
       "      <td>0005b1068d5f2b8f2a7c978fcfe1ca06</td>\n",
       "      <td>NaN</td>\n",
       "    </tr>\n",
       "    <tr>\n",
       "      <th>3</th>\n",
       "      <td>000cc06982785a19e2a2fdb40b1c9d59</td>\n",
       "      <td>NaN</td>\n",
       "    </tr>\n",
       "    <tr>\n",
       "      <th>4</th>\n",
       "      <td>0013518e41c416cd6a181d277dd8ca0b</td>\n",
       "      <td>NaN</td>\n",
       "    </tr>\n",
       "  </tbody>\n",
       "</table>\n",
       "</div>"
      ],
      "text/plain": [
       "                       USER_ID_hash  PURCHASED_COUPONS\n",
       "0  0000b53e182165208887ba65c079fc21                NaN\n",
       "1  00035b86e6884589ec8d28fbf2fe7757                NaN\n",
       "2  0005b1068d5f2b8f2a7c978fcfe1ca06                NaN\n",
       "3  000cc06982785a19e2a2fdb40b1c9d59                NaN\n",
       "4  0013518e41c416cd6a181d277dd8ca0b                NaN"
      ]
     },
     "execution_count": 14,
     "metadata": {},
     "output_type": "execute_result"
    }
   ],
   "source": [
    "sample_submission.head()"
   ]
  },
  {
   "cell_type": "code",
   "execution_count": 15,
   "id": "80f41321",
   "metadata": {},
   "outputs": [
    {
     "data": {
      "text/html": [
       "<div>\n",
       "<style scoped>\n",
       "    .dataframe tbody tr th:only-of-type {\n",
       "        vertical-align: middle;\n",
       "    }\n",
       "\n",
       "    .dataframe tbody tr th {\n",
       "        vertical-align: top;\n",
       "    }\n",
       "\n",
       "    .dataframe thead th {\n",
       "        text-align: right;\n",
       "    }\n",
       "</style>\n",
       "<table border=\"1\" class=\"dataframe\">\n",
       "  <thead>\n",
       "    <tr style=\"text-align: right;\">\n",
       "      <th></th>\n",
       "      <th>REG_DATE</th>\n",
       "      <th>SEX_ID</th>\n",
       "      <th>AGE</th>\n",
       "      <th>WITHDRAW_DATE</th>\n",
       "      <th>PREF_NAME</th>\n",
       "      <th>USER_ID_hash</th>\n",
       "    </tr>\n",
       "  </thead>\n",
       "  <tbody>\n",
       "    <tr>\n",
       "      <th>0</th>\n",
       "      <td>2012-03-28 14:14:18</td>\n",
       "      <td>f</td>\n",
       "      <td>25</td>\n",
       "      <td>NaN</td>\n",
       "      <td>NaN</td>\n",
       "      <td>d9dca3cb44bab12ba313eaa681f663eb</td>\n",
       "    </tr>\n",
       "    <tr>\n",
       "      <th>1</th>\n",
       "      <td>2011-05-18 00:41:48</td>\n",
       "      <td>f</td>\n",
       "      <td>34</td>\n",
       "      <td>NaN</td>\n",
       "      <td>東京都</td>\n",
       "      <td>560574a339f1b25e57b0221e486907ed</td>\n",
       "    </tr>\n",
       "    <tr>\n",
       "      <th>2</th>\n",
       "      <td>2011-06-13 16:36:58</td>\n",
       "      <td>m</td>\n",
       "      <td>41</td>\n",
       "      <td>NaN</td>\n",
       "      <td>愛知県</td>\n",
       "      <td>e66ae91b978b3229f8fd858c80615b73</td>\n",
       "    </tr>\n",
       "    <tr>\n",
       "      <th>3</th>\n",
       "      <td>2012-02-08 12:56:15</td>\n",
       "      <td>m</td>\n",
       "      <td>25</td>\n",
       "      <td>NaN</td>\n",
       "      <td>NaN</td>\n",
       "      <td>43fc18f32eafb05713ec02935e2c2825</td>\n",
       "    </tr>\n",
       "    <tr>\n",
       "      <th>4</th>\n",
       "      <td>2011-05-22 23:43:56</td>\n",
       "      <td>m</td>\n",
       "      <td>62</td>\n",
       "      <td>NaN</td>\n",
       "      <td>神奈川県</td>\n",
       "      <td>dc6df8aa860f8db0d710ce9d4839840f</td>\n",
       "    </tr>\n",
       "  </tbody>\n",
       "</table>\n",
       "</div>"
      ],
      "text/plain": [
       "              REG_DATE SEX_ID  AGE WITHDRAW_DATE PREF_NAME  \\\n",
       "0  2012-03-28 14:14:18      f   25           NaN       NaN   \n",
       "1  2011-05-18 00:41:48      f   34           NaN       東京都   \n",
       "2  2011-06-13 16:36:58      m   41           NaN       愛知県   \n",
       "3  2012-02-08 12:56:15      m   25           NaN       NaN   \n",
       "4  2011-05-22 23:43:56      m   62           NaN      神奈川県   \n",
       "\n",
       "                       USER_ID_hash  \n",
       "0  d9dca3cb44bab12ba313eaa681f663eb  \n",
       "1  560574a339f1b25e57b0221e486907ed  \n",
       "2  e66ae91b978b3229f8fd858c80615b73  \n",
       "3  43fc18f32eafb05713ec02935e2c2825  \n",
       "4  dc6df8aa860f8db0d710ce9d4839840f  "
      ]
     },
     "execution_count": 15,
     "metadata": {},
     "output_type": "execute_result"
    }
   ],
   "source": [
    "user_list.head()"
   ]
  },
  {
   "cell_type": "code",
   "execution_count": 16,
   "id": "c63e66c3",
   "metadata": {},
   "outputs": [
    {
     "data": {
      "text/plain": [
       "Index(['REG_DATE', 'SEX_ID', 'AGE', 'WITHDRAW_DATE', 'PREF_NAME',\n",
       "       'USER_ID_hash'],\n",
       "      dtype='object')"
      ]
     },
     "execution_count": 16,
     "metadata": {},
     "output_type": "execute_result"
    }
   ],
   "source": [
    "user_list.columns"
   ]
  },
  {
   "cell_type": "code",
   "execution_count": 100,
   "id": "ba28ac01",
   "metadata": {},
   "outputs": [],
   "source": [
    "model = LogisticRegression(random_state=0).fit(train_x, train_y)\n",
    "prediction = model.predict(train_x)"
   ]
  },
  {
   "cell_type": "code",
   "execution_count": 43,
   "id": "7a97b683",
   "metadata": {},
   "outputs": [
    {
     "data": {
      "text/plain": [
       "array([[0.95946523, 0.04053477],\n",
       "       [0.95946523, 0.04053477],\n",
       "       [0.95946523, 0.04053477],\n",
       "       ...,\n",
       "       [0.94878797, 0.05121203],\n",
       "       [0.94878797, 0.05121203],\n",
       "       [0.95370281, 0.04629719]])"
      ]
     },
     "execution_count": 43,
     "metadata": {},
     "output_type": "execute_result"
    }
   ],
   "source": [
    "model.predict_proba(train_x)"
   ]
  },
  {
   "cell_type": "code",
   "execution_count": 44,
   "id": "8b5c046f",
   "metadata": {},
   "outputs": [
    {
     "data": {
      "text/plain": [
       "0.9513790289710099"
      ]
     },
     "execution_count": 44,
     "metadata": {},
     "output_type": "execute_result"
    }
   ],
   "source": [
    "model.score(train_x, train_y)"
   ]
  },
  {
   "cell_type": "code",
   "execution_count": 96,
   "id": "9c50d13c",
   "metadata": {
    "scrolled": false
   },
   "outputs": [
    {
     "data": {
      "application/vnd.jupyter.widget-view+json": {
       "model_id": "f91cb0590dca4d3cbb7f6e9eb5338615",
       "version_major": 2,
       "version_minor": 0
      },
      "text/plain": [
       "  0%|          | 0/310 [00:00<?, ?it/s]"
      ]
     },
     "metadata": {},
     "output_type": "display_data"
    }
   ],
   "source": [
    "# test_x = pd.DataFrame(columns=['PRICE_RATE', 'COUPON_ID_hash', 'SEX_ID', 'USER_ID_hash'])\n",
    "test_x = []\n",
    "for i in tqdm(coupon_list_test.iterrows(), total=len(coupon_list_test)):\n",
    "    for j in user_list.iterrows():\n",
    "        x = pd.concat([i[1][['PRICE_RATE', 'COUPON_ID_hash']],j[1][['SEX_ID', 'USER_ID_hash']]])\n",
    "#         test_x = test_x.append(x, ignore_index=True)\n",
    "        test_x.append(x)\n",
    "test_x = pd.DataFrame(test_x)"
   ]
  },
  {
   "cell_type": "code",
   "execution_count": 97,
   "id": "f34aed31",
   "metadata": {
    "scrolled": true
   },
   "outputs": [
    {
     "data": {
      "text/html": [
       "<div>\n",
       "<style scoped>\n",
       "    .dataframe tbody tr th:only-of-type {\n",
       "        vertical-align: middle;\n",
       "    }\n",
       "\n",
       "    .dataframe tbody tr th {\n",
       "        vertical-align: top;\n",
       "    }\n",
       "\n",
       "    .dataframe thead th {\n",
       "        text-align: right;\n",
       "    }\n",
       "</style>\n",
       "<table border=\"1\" class=\"dataframe\">\n",
       "  <thead>\n",
       "    <tr style=\"text-align: right;\">\n",
       "      <th></th>\n",
       "      <th>PRICE_RATE</th>\n",
       "      <th>COUPON_ID_hash</th>\n",
       "      <th>SEX_ID</th>\n",
       "      <th>USER_ID_hash</th>\n",
       "    </tr>\n",
       "  </thead>\n",
       "  <tbody>\n",
       "    <tr>\n",
       "      <th>0</th>\n",
       "      <td>52</td>\n",
       "      <td>c76ea297ebd3a5a4d3bf9f75269f66fa</td>\n",
       "      <td>f</td>\n",
       "      <td>d9dca3cb44bab12ba313eaa681f663eb</td>\n",
       "    </tr>\n",
       "    <tr>\n",
       "      <th>Unnamed 0</th>\n",
       "      <td>52</td>\n",
       "      <td>c76ea297ebd3a5a4d3bf9f75269f66fa</td>\n",
       "      <td>f</td>\n",
       "      <td>560574a339f1b25e57b0221e486907ed</td>\n",
       "    </tr>\n",
       "    <tr>\n",
       "      <th>Unnamed 1</th>\n",
       "      <td>52</td>\n",
       "      <td>c76ea297ebd3a5a4d3bf9f75269f66fa</td>\n",
       "      <td>m</td>\n",
       "      <td>e66ae91b978b3229f8fd858c80615b73</td>\n",
       "    </tr>\n",
       "    <tr>\n",
       "      <th>Unnamed 2</th>\n",
       "      <td>52</td>\n",
       "      <td>c76ea297ebd3a5a4d3bf9f75269f66fa</td>\n",
       "      <td>m</td>\n",
       "      <td>43fc18f32eafb05713ec02935e2c2825</td>\n",
       "    </tr>\n",
       "    <tr>\n",
       "      <th>Unnamed 3</th>\n",
       "      <td>52</td>\n",
       "      <td>c76ea297ebd3a5a4d3bf9f75269f66fa</td>\n",
       "      <td>m</td>\n",
       "      <td>dc6df8aa860f8db0d710ce9d4839840f</td>\n",
       "    </tr>\n",
       "  </tbody>\n",
       "</table>\n",
       "</div>"
      ],
      "text/plain": [
       "           PRICE_RATE                    COUPON_ID_hash SEX_ID  \\\n",
       "0                  52  c76ea297ebd3a5a4d3bf9f75269f66fa      f   \n",
       "Unnamed 0          52  c76ea297ebd3a5a4d3bf9f75269f66fa      f   \n",
       "Unnamed 1          52  c76ea297ebd3a5a4d3bf9f75269f66fa      m   \n",
       "Unnamed 2          52  c76ea297ebd3a5a4d3bf9f75269f66fa      m   \n",
       "Unnamed 3          52  c76ea297ebd3a5a4d3bf9f75269f66fa      m   \n",
       "\n",
       "                               USER_ID_hash  \n",
       "0          d9dca3cb44bab12ba313eaa681f663eb  \n",
       "Unnamed 0  560574a339f1b25e57b0221e486907ed  \n",
       "Unnamed 1  e66ae91b978b3229f8fd858c80615b73  \n",
       "Unnamed 2  43fc18f32eafb05713ec02935e2c2825  \n",
       "Unnamed 3  dc6df8aa860f8db0d710ce9d4839840f  "
      ]
     },
     "execution_count": 97,
     "metadata": {},
     "output_type": "execute_result"
    }
   ],
   "source": [
    "test_x.head()"
   ]
  },
  {
   "cell_type": "code",
   "execution_count": 75,
   "id": "993f64f1",
   "metadata": {},
   "outputs": [
    {
     "data": {
      "text/html": [
       "<div>\n",
       "<style scoped>\n",
       "    .dataframe tbody tr th:only-of-type {\n",
       "        vertical-align: middle;\n",
       "    }\n",
       "\n",
       "    .dataframe tbody tr th {\n",
       "        vertical-align: top;\n",
       "    }\n",
       "\n",
       "    .dataframe thead th {\n",
       "        text-align: right;\n",
       "    }\n",
       "</style>\n",
       "<table border=\"1\" class=\"dataframe\">\n",
       "  <thead>\n",
       "    <tr style=\"text-align: right;\">\n",
       "      <th></th>\n",
       "      <th>PRICE_RATE</th>\n",
       "      <th>COUPON_ID_hash</th>\n",
       "      <th>SEX_ID</th>\n",
       "      <th>USER_ID_hash</th>\n",
       "    </tr>\n",
       "  </thead>\n",
       "  <tbody>\n",
       "  </tbody>\n",
       "</table>\n",
       "</div>"
      ],
      "text/plain": [
       "Empty DataFrame\n",
       "Columns: [PRICE_RATE, COUPON_ID_hash, SEX_ID, USER_ID_hash]\n",
       "Index: []"
      ]
     },
     "execution_count": 75,
     "metadata": {},
     "output_type": "execute_result"
    }
   ],
   "source": [
    "test_x"
   ]
  },
  {
   "cell_type": "code",
   "execution_count": 99,
   "id": "c1dae0b9",
   "metadata": {},
   "outputs": [],
   "source": [
    "test_x.set_index(['COUPON_ID_hash', 'USER_ID_hash'], inplace = True)"
   ]
  },
  {
   "cell_type": "code",
   "execution_count": 102,
   "id": "b474fc52",
   "metadata": {},
   "outputs": [
    {
     "name": "stderr",
     "output_type": "stream",
     "text": [
      "<ipython-input-102-9e97ad19b14e>:1: SettingWithCopyWarning: \n",
      "A value is trying to be set on a copy of a slice from a DataFrame\n",
      "\n",
      "See the caveats in the documentation: https://pandas.pydata.org/pandas-docs/stable/user_guide/indexing.html#returning-a-view-versus-a-copy\n",
      "  test_x['SEX_ID'][test_x['SEX_ID']=='m'] = 1\n",
      "<ipython-input-102-9e97ad19b14e>:2: SettingWithCopyWarning: \n",
      "A value is trying to be set on a copy of a slice from a DataFrame\n",
      "\n",
      "See the caveats in the documentation: https://pandas.pydata.org/pandas-docs/stable/user_guide/indexing.html#returning-a-view-versus-a-copy\n",
      "  test_x['SEX_ID'][test_x['SEX_ID']=='f'] = 0\n"
     ]
    }
   ],
   "source": [
    "test_x['SEX_ID'][test_x['SEX_ID']=='m'] = 1\n",
    "test_x['SEX_ID'][test_x['SEX_ID']=='f'] = 0"
   ]
  },
  {
   "cell_type": "code",
   "execution_count": 114,
   "id": "f4a1daa9",
   "metadata": {
    "scrolled": true
   },
   "outputs": [
    {
     "data": {
      "text/html": [
       "<div>\n",
       "<style scoped>\n",
       "    .dataframe tbody tr th:only-of-type {\n",
       "        vertical-align: middle;\n",
       "    }\n",
       "\n",
       "    .dataframe tbody tr th {\n",
       "        vertical-align: top;\n",
       "    }\n",
       "\n",
       "    .dataframe thead th {\n",
       "        text-align: right;\n",
       "    }\n",
       "</style>\n",
       "<table border=\"1\" class=\"dataframe\">\n",
       "  <thead>\n",
       "    <tr style=\"text-align: right;\">\n",
       "      <th></th>\n",
       "      <th>USER_ID_hash</th>\n",
       "      <th>PURCHASED_COUPONS</th>\n",
       "    </tr>\n",
       "  </thead>\n",
       "  <tbody>\n",
       "    <tr>\n",
       "      <th>0</th>\n",
       "      <td>0000b53e182165208887ba65c079fc21</td>\n",
       "      <td>NaN</td>\n",
       "    </tr>\n",
       "    <tr>\n",
       "      <th>1</th>\n",
       "      <td>00035b86e6884589ec8d28fbf2fe7757</td>\n",
       "      <td>NaN</td>\n",
       "    </tr>\n",
       "    <tr>\n",
       "      <th>2</th>\n",
       "      <td>0005b1068d5f2b8f2a7c978fcfe1ca06</td>\n",
       "      <td>NaN</td>\n",
       "    </tr>\n",
       "    <tr>\n",
       "      <th>3</th>\n",
       "      <td>000cc06982785a19e2a2fdb40b1c9d59</td>\n",
       "      <td>NaN</td>\n",
       "    </tr>\n",
       "    <tr>\n",
       "      <th>4</th>\n",
       "      <td>0013518e41c416cd6a181d277dd8ca0b</td>\n",
       "      <td>NaN</td>\n",
       "    </tr>\n",
       "  </tbody>\n",
       "</table>\n",
       "</div>"
      ],
      "text/plain": [
       "                       USER_ID_hash  PURCHASED_COUPONS\n",
       "0  0000b53e182165208887ba65c079fc21                NaN\n",
       "1  00035b86e6884589ec8d28fbf2fe7757                NaN\n",
       "2  0005b1068d5f2b8f2a7c978fcfe1ca06                NaN\n",
       "3  000cc06982785a19e2a2fdb40b1c9d59                NaN\n",
       "4  0013518e41c416cd6a181d277dd8ca0b                NaN"
      ]
     },
     "execution_count": 114,
     "metadata": {},
     "output_type": "execute_result"
    }
   ],
   "source": [
    "sample_submission.head()"
   ]
  },
  {
   "cell_type": "code",
   "execution_count": 194,
   "id": "84cde5cd",
   "metadata": {},
   "outputs": [
    {
     "data": {
      "text/html": [
       "<div>\n",
       "<style scoped>\n",
       "    .dataframe tbody tr th:only-of-type {\n",
       "        vertical-align: middle;\n",
       "    }\n",
       "\n",
       "    .dataframe tbody tr th {\n",
       "        vertical-align: top;\n",
       "    }\n",
       "\n",
       "    .dataframe thead th {\n",
       "        text-align: right;\n",
       "    }\n",
       "</style>\n",
       "<table border=\"1\" class=\"dataframe\">\n",
       "  <thead>\n",
       "    <tr style=\"text-align: right;\">\n",
       "      <th></th>\n",
       "      <th>COUPON_ID_hash</th>\n",
       "      <th>USER_ID_hash</th>\n",
       "      <th>PRICE_RATE</th>\n",
       "      <th>SEX_ID</th>\n",
       "    </tr>\n",
       "  </thead>\n",
       "  <tbody>\n",
       "    <tr>\n",
       "      <th>0</th>\n",
       "      <td>c76ea297ebd3a5a4d3bf9f75269f66fa</td>\n",
       "      <td>d9dca3cb44bab12ba313eaa681f663eb</td>\n",
       "      <td>52</td>\n",
       "      <td>0</td>\n",
       "    </tr>\n",
       "    <tr>\n",
       "      <th>1</th>\n",
       "      <td>c76ea297ebd3a5a4d3bf9f75269f66fa</td>\n",
       "      <td>560574a339f1b25e57b0221e486907ed</td>\n",
       "      <td>52</td>\n",
       "      <td>0</td>\n",
       "    </tr>\n",
       "    <tr>\n",
       "      <th>2</th>\n",
       "      <td>c76ea297ebd3a5a4d3bf9f75269f66fa</td>\n",
       "      <td>e66ae91b978b3229f8fd858c80615b73</td>\n",
       "      <td>52</td>\n",
       "      <td>1</td>\n",
       "    </tr>\n",
       "    <tr>\n",
       "      <th>3</th>\n",
       "      <td>c76ea297ebd3a5a4d3bf9f75269f66fa</td>\n",
       "      <td>43fc18f32eafb05713ec02935e2c2825</td>\n",
       "      <td>52</td>\n",
       "      <td>1</td>\n",
       "    </tr>\n",
       "    <tr>\n",
       "      <th>4</th>\n",
       "      <td>c76ea297ebd3a5a4d3bf9f75269f66fa</td>\n",
       "      <td>dc6df8aa860f8db0d710ce9d4839840f</td>\n",
       "      <td>52</td>\n",
       "      <td>1</td>\n",
       "    </tr>\n",
       "  </tbody>\n",
       "</table>\n",
       "</div>"
      ],
      "text/plain": [
       "                     COUPON_ID_hash                      USER_ID_hash  \\\n",
       "0  c76ea297ebd3a5a4d3bf9f75269f66fa  d9dca3cb44bab12ba313eaa681f663eb   \n",
       "1  c76ea297ebd3a5a4d3bf9f75269f66fa  560574a339f1b25e57b0221e486907ed   \n",
       "2  c76ea297ebd3a5a4d3bf9f75269f66fa  e66ae91b978b3229f8fd858c80615b73   \n",
       "3  c76ea297ebd3a5a4d3bf9f75269f66fa  43fc18f32eafb05713ec02935e2c2825   \n",
       "4  c76ea297ebd3a5a4d3bf9f75269f66fa  dc6df8aa860f8db0d710ce9d4839840f   \n",
       "\n",
       "   PRICE_RATE SEX_ID  \n",
       "0          52      0  \n",
       "1          52      0  \n",
       "2          52      1  \n",
       "3          52      1  \n",
       "4          52      1  "
      ]
     },
     "execution_count": 194,
     "metadata": {},
     "output_type": "execute_result"
    }
   ],
   "source": [
    "test_X.head()"
   ]
  },
  {
   "cell_type": "code",
   "execution_count": 252,
   "id": "1f2c2eb2",
   "metadata": {},
   "outputs": [
    {
     "data": {
      "application/vnd.jupyter.widget-view+json": {
       "model_id": "4be2927322c8490b9041eac83a67305c",
       "version_major": 2,
       "version_minor": 0
      },
      "text/plain": [
       "  0%|          | 0/22873 [00:00<?, ?it/s]"
      ]
     },
     "metadata": {},
     "output_type": "display_data"
    }
   ],
   "source": [
    "test_X = test_x.reset_index()\n",
    "for row in tqdm(sample_submission.iterrows(), total = len(sample_submission)):\n",
    "    idx = pred[test_X['USER_ID_hash'] == row[1]['USER_ID_hash']][:,1].argsort()[-10:]\n",
    "#     coupon_ids = test_X['COUPON_ID_hash'][test_X['USER_ID_hash'] == row[1]['USER_ID_hash']].reset_index().iloc[idx]['COUPON_ID_hash']\n",
    "    coupon_ids = coupon_list_test['COUPON_ID_hash'].iloc[idx]\n",
    "    sample_submission['PURCHASED_COUPONS'][sample_submission['USER_ID_hash'] == row[1]['USER_ID_hash']] = ', '.join(coupon_ids)\n"
   ]
  },
  {
   "cell_type": "code",
   "execution_count": 253,
   "id": "cdebd2dc",
   "metadata": {},
   "outputs": [
    {
     "data": {
      "text/html": [
       "<div>\n",
       "<style scoped>\n",
       "    .dataframe tbody tr th:only-of-type {\n",
       "        vertical-align: middle;\n",
       "    }\n",
       "\n",
       "    .dataframe tbody tr th {\n",
       "        vertical-align: top;\n",
       "    }\n",
       "\n",
       "    .dataframe thead th {\n",
       "        text-align: right;\n",
       "    }\n",
       "</style>\n",
       "<table border=\"1\" class=\"dataframe\">\n",
       "  <thead>\n",
       "    <tr style=\"text-align: right;\">\n",
       "      <th></th>\n",
       "      <th>USER_ID_hash</th>\n",
       "      <th>PURCHASED_COUPONS</th>\n",
       "    </tr>\n",
       "  </thead>\n",
       "  <tbody>\n",
       "    <tr>\n",
       "      <th>0</th>\n",
       "      <td>0000b53e182165208887ba65c079fc21</td>\n",
       "      <td>f8cd0c285f925936e2ef808eb3a8296a, b47340cbd4f4...</td>\n",
       "    </tr>\n",
       "    <tr>\n",
       "      <th>1</th>\n",
       "      <td>00035b86e6884589ec8d28fbf2fe7757</td>\n",
       "      <td>f8cd0c285f925936e2ef808eb3a8296a, b47340cbd4f4...</td>\n",
       "    </tr>\n",
       "    <tr>\n",
       "      <th>2</th>\n",
       "      <td>0005b1068d5f2b8f2a7c978fcfe1ca06</td>\n",
       "      <td>f8cd0c285f925936e2ef808eb3a8296a, b47340cbd4f4...</td>\n",
       "    </tr>\n",
       "    <tr>\n",
       "      <th>3</th>\n",
       "      <td>000cc06982785a19e2a2fdb40b1c9d59</td>\n",
       "      <td>f8cd0c285f925936e2ef808eb3a8296a, b47340cbd4f4...</td>\n",
       "    </tr>\n",
       "    <tr>\n",
       "      <th>4</th>\n",
       "      <td>0013518e41c416cd6a181d277dd8ca0b</td>\n",
       "      <td>f8cd0c285f925936e2ef808eb3a8296a, b47340cbd4f4...</td>\n",
       "    </tr>\n",
       "  </tbody>\n",
       "</table>\n",
       "</div>"
      ],
      "text/plain": [
       "                       USER_ID_hash  \\\n",
       "0  0000b53e182165208887ba65c079fc21   \n",
       "1  00035b86e6884589ec8d28fbf2fe7757   \n",
       "2  0005b1068d5f2b8f2a7c978fcfe1ca06   \n",
       "3  000cc06982785a19e2a2fdb40b1c9d59   \n",
       "4  0013518e41c416cd6a181d277dd8ca0b   \n",
       "\n",
       "                                   PURCHASED_COUPONS  \n",
       "0  f8cd0c285f925936e2ef808eb3a8296a, b47340cbd4f4...  \n",
       "1  f8cd0c285f925936e2ef808eb3a8296a, b47340cbd4f4...  \n",
       "2  f8cd0c285f925936e2ef808eb3a8296a, b47340cbd4f4...  \n",
       "3  f8cd0c285f925936e2ef808eb3a8296a, b47340cbd4f4...  \n",
       "4  f8cd0c285f925936e2ef808eb3a8296a, b47340cbd4f4...  "
      ]
     },
     "execution_count": 253,
     "metadata": {},
     "output_type": "execute_result"
    }
   ],
   "source": [
    "sample_submission.head()"
   ]
  },
  {
   "cell_type": "code",
   "execution_count": 239,
   "id": "0f48393e",
   "metadata": {},
   "outputs": [
    {
     "data": {
      "text/plain": [
       "'f8cd0c285f925936e2ef808eb3a8296a, b47340cbd4f4c57f32637cfb86462cc3, 64b92e53b6e56f7f7bd158ec31887f3d, 16eb5a39ed9efd47cedbfdf8985df147, 9e22b913cb077f8ef844112bcfc72787, 53e6af8b95c14358a345910643a85382, 3ac97c8d840663c600471b44895dc4c0, 784c1314b9f64ae9f3c6e217fb10d15c, 96d275611439e0029db651a914965ea3, c988d799bc7db9254fe865ee6cf2d4ff'"
      ]
     },
     "execution_count": 239,
     "metadata": {},
     "output_type": "execute_result"
    }
   ],
   "source": [
    "#', '.join(coupons.reset_index().iloc[idx]['COUPON_ID_hash'])"
   ]
  },
  {
   "cell_type": "code",
   "execution_count": 254,
   "id": "f8aa07e0",
   "metadata": {
    "scrolled": false
   },
   "outputs": [],
   "source": [
    "sample_submission.to_csv('result.csv', index=False)"
   ]
  },
  {
   "cell_type": "markdown",
   "id": "ce63dd9e",
   "metadata": {},
   "source": [
    "#  ************************\n",
    "#   ****************\n",
    "# ************************\n"
   ]
  },
  {
   "cell_type": "code",
   "execution_count": 178,
   "id": "c39620dd",
   "metadata": {},
   "outputs": [],
   "source": [
    "def getTrainData(user_list, coupon_list_train, coupon_visit_train):\n",
    "    user_features = user_list[['REG_DATE', 'SEX_ID', 'AGE', 'PREF_NAME', 'USER_ID_hash']]\n",
    "    coupon_features = coupon_list_train[['CAPSULE_TEXT', 'GENRE_NAME', 'PRICE_RATE', 'CATALOG_PRICE',\n",
    "       'DISCOUNT_PRICE', 'DISPFROM', 'DISPEND', 'DISPPERIOD', 'VALIDFROM',\n",
    "       'VALIDEND', 'VALIDPERIOD', 'USABLE_DATE_MON', 'USABLE_DATE_TUE',\n",
    "       'USABLE_DATE_WED', 'USABLE_DATE_THU', 'USABLE_DATE_FRI',\n",
    "       'USABLE_DATE_SAT', 'USABLE_DATE_SUN', 'USABLE_DATE_HOLIDAY',\n",
    "       'USABLE_DATE_BEFORE_HOLIDAY', 'large_area_name', 'ken_name',\n",
    "       'small_area_name', 'COUPON_ID_hash']]\n",
    "    prev = user_features.merge(coupon_visit_train, on = 'USER_ID_hash')\n",
    "    prev = coupon_features.merge(prev, left_on = 'COUPON_ID_hash', right_on = 'VIEW_COUPON_ID_hash')\n",
    "    trainData = prev[['PURCHASE_FLG','CAPSULE_TEXT', 'GENRE_NAME', 'PRICE_RATE', 'CATALOG_PRICE',\n",
    "       'DISCOUNT_PRICE', 'DISPFROM', 'DISPEND', 'DISPPERIOD', 'VALIDFROM',\n",
    "       'VALIDEND', 'VALIDPERIOD', 'USABLE_DATE_MON', 'USABLE_DATE_TUE',\n",
    "       'USABLE_DATE_WED', 'USABLE_DATE_THU', 'USABLE_DATE_FRI',\n",
    "       'USABLE_DATE_SAT', 'USABLE_DATE_SUN', 'USABLE_DATE_HOLIDAY',\n",
    "       'USABLE_DATE_BEFORE_HOLIDAY', 'large_area_name', 'ken_name',\n",
    "       'small_area_name', 'COUPON_ID_hash', 'REG_DATE', 'SEX_ID', 'AGE',\n",
    "       'PREF_NAME', 'USER_ID_hash']]\n",
    "    trainData.dropna(inplace = True)\n",
    "    trainData.set_index(['COUPON_ID_hash','USER_ID_hash'], inplace = True)\n",
    "    #train_y = train_x.pop('PURCHASE_FLG')\n",
    "    return trainData"
   ]
  },
  {
   "cell_type": "code",
   "execution_count": 120,
   "id": "176ee9a1",
   "metadata": {
    "scrolled": true
   },
   "outputs": [
    {
     "data": {
      "text/html": [
       "<div>\n",
       "<style scoped>\n",
       "    .dataframe tbody tr th:only-of-type {\n",
       "        vertical-align: middle;\n",
       "    }\n",
       "\n",
       "    .dataframe tbody tr th {\n",
       "        vertical-align: top;\n",
       "    }\n",
       "\n",
       "    .dataframe thead th {\n",
       "        text-align: right;\n",
       "    }\n",
       "</style>\n",
       "<table border=\"1\" class=\"dataframe\">\n",
       "  <thead>\n",
       "    <tr style=\"text-align: right;\">\n",
       "      <th></th>\n",
       "      <th></th>\n",
       "      <th>PURCHASE_FLG</th>\n",
       "      <th>CAPSULE_TEXT</th>\n",
       "      <th>GENRE_NAME</th>\n",
       "      <th>PRICE_RATE</th>\n",
       "      <th>CATALOG_PRICE</th>\n",
       "      <th>DISCOUNT_PRICE</th>\n",
       "      <th>DISPFROM</th>\n",
       "      <th>DISPEND</th>\n",
       "      <th>DISPPERIOD</th>\n",
       "      <th>VALIDFROM</th>\n",
       "      <th>...</th>\n",
       "      <th>USABLE_DATE_SUN</th>\n",
       "      <th>USABLE_DATE_HOLIDAY</th>\n",
       "      <th>USABLE_DATE_BEFORE_HOLIDAY</th>\n",
       "      <th>large_area_name</th>\n",
       "      <th>ken_name</th>\n",
       "      <th>small_area_name</th>\n",
       "      <th>REG_DATE</th>\n",
       "      <th>SEX_ID</th>\n",
       "      <th>AGE</th>\n",
       "      <th>PREF_NAME</th>\n",
       "    </tr>\n",
       "    <tr>\n",
       "      <th>COUPON_ID_hash</th>\n",
       "      <th>USER_ID_hash</th>\n",
       "      <th></th>\n",
       "      <th></th>\n",
       "      <th></th>\n",
       "      <th></th>\n",
       "      <th></th>\n",
       "      <th></th>\n",
       "      <th></th>\n",
       "      <th></th>\n",
       "      <th></th>\n",
       "      <th></th>\n",
       "      <th></th>\n",
       "      <th></th>\n",
       "      <th></th>\n",
       "      <th></th>\n",
       "      <th></th>\n",
       "      <th></th>\n",
       "      <th></th>\n",
       "      <th></th>\n",
       "      <th></th>\n",
       "      <th></th>\n",
       "      <th></th>\n",
       "    </tr>\n",
       "  </thead>\n",
       "  <tbody>\n",
       "    <tr>\n",
       "      <th rowspan=\"5\" valign=\"top\">6b263844241eea98c5a97f1335ea82af</th>\n",
       "      <th>6c3cbc5c3db3c673ffb52cd946dce194</th>\n",
       "      <td>0</td>\n",
       "      <td>10</td>\n",
       "      <td>10</td>\n",
       "      <td>50</td>\n",
       "      <td>3000</td>\n",
       "      <td>1500</td>\n",
       "      <td>1.310152e+09</td>\n",
       "      <td>1.310238e+09</td>\n",
       "      <td>1</td>\n",
       "      <td>1.310281e+09</td>\n",
       "      <td>...</td>\n",
       "      <td>1.0</td>\n",
       "      <td>1.0</td>\n",
       "      <td>0.0</td>\n",
       "      <td>7</td>\n",
       "      <td>18</td>\n",
       "      <td>5</td>\n",
       "      <td>1.289680e+09</td>\n",
       "      <td>0</td>\n",
       "      <td>52</td>\n",
       "      <td>17</td>\n",
       "    </tr>\n",
       "    <tr>\n",
       "      <th>6c3cbc5c3db3c673ffb52cd946dce194</th>\n",
       "      <td>0</td>\n",
       "      <td>10</td>\n",
       "      <td>10</td>\n",
       "      <td>50</td>\n",
       "      <td>3000</td>\n",
       "      <td>1500</td>\n",
       "      <td>1.310152e+09</td>\n",
       "      <td>1.310238e+09</td>\n",
       "      <td>1</td>\n",
       "      <td>1.310281e+09</td>\n",
       "      <td>...</td>\n",
       "      <td>1.0</td>\n",
       "      <td>1.0</td>\n",
       "      <td>0.0</td>\n",
       "      <td>7</td>\n",
       "      <td>18</td>\n",
       "      <td>5</td>\n",
       "      <td>1.289680e+09</td>\n",
       "      <td>0</td>\n",
       "      <td>52</td>\n",
       "      <td>17</td>\n",
       "    </tr>\n",
       "    <tr>\n",
       "      <th>6c3cbc5c3db3c673ffb52cd946dce194</th>\n",
       "      <td>0</td>\n",
       "      <td>10</td>\n",
       "      <td>10</td>\n",
       "      <td>50</td>\n",
       "      <td>3000</td>\n",
       "      <td>1500</td>\n",
       "      <td>1.310152e+09</td>\n",
       "      <td>1.310238e+09</td>\n",
       "      <td>1</td>\n",
       "      <td>1.310281e+09</td>\n",
       "      <td>...</td>\n",
       "      <td>1.0</td>\n",
       "      <td>1.0</td>\n",
       "      <td>0.0</td>\n",
       "      <td>7</td>\n",
       "      <td>18</td>\n",
       "      <td>5</td>\n",
       "      <td>1.289680e+09</td>\n",
       "      <td>0</td>\n",
       "      <td>52</td>\n",
       "      <td>17</td>\n",
       "    </tr>\n",
       "    <tr>\n",
       "      <th>cdeb7bb2ba2fb35aa988a78f2aac1ff1</th>\n",
       "      <td>0</td>\n",
       "      <td>10</td>\n",
       "      <td>10</td>\n",
       "      <td>50</td>\n",
       "      <td>3000</td>\n",
       "      <td>1500</td>\n",
       "      <td>1.310152e+09</td>\n",
       "      <td>1.310238e+09</td>\n",
       "      <td>1</td>\n",
       "      <td>1.310281e+09</td>\n",
       "      <td>...</td>\n",
       "      <td>1.0</td>\n",
       "      <td>1.0</td>\n",
       "      <td>0.0</td>\n",
       "      <td>7</td>\n",
       "      <td>18</td>\n",
       "      <td>5</td>\n",
       "      <td>1.289088e+09</td>\n",
       "      <td>1</td>\n",
       "      <td>39</td>\n",
       "      <td>18</td>\n",
       "    </tr>\n",
       "    <tr>\n",
       "      <th>48363bdca9fdfa03f93b1814414dc69f</th>\n",
       "      <td>0</td>\n",
       "      <td>10</td>\n",
       "      <td>10</td>\n",
       "      <td>50</td>\n",
       "      <td>3000</td>\n",
       "      <td>1500</td>\n",
       "      <td>1.310152e+09</td>\n",
       "      <td>1.310238e+09</td>\n",
       "      <td>1</td>\n",
       "      <td>1.310281e+09</td>\n",
       "      <td>...</td>\n",
       "      <td>1.0</td>\n",
       "      <td>1.0</td>\n",
       "      <td>0.0</td>\n",
       "      <td>7</td>\n",
       "      <td>18</td>\n",
       "      <td>5</td>\n",
       "      <td>1.289458e+09</td>\n",
       "      <td>1</td>\n",
       "      <td>36</td>\n",
       "      <td>18</td>\n",
       "    </tr>\n",
       "  </tbody>\n",
       "</table>\n",
       "<p>5 rows × 28 columns</p>\n",
       "</div>"
      ],
      "text/plain": [
       "                                                                   PURCHASE_FLG  \\\n",
       "COUPON_ID_hash                   USER_ID_hash                                     \n",
       "6b263844241eea98c5a97f1335ea82af 6c3cbc5c3db3c673ffb52cd946dce194             0   \n",
       "                                 6c3cbc5c3db3c673ffb52cd946dce194             0   \n",
       "                                 6c3cbc5c3db3c673ffb52cd946dce194             0   \n",
       "                                 cdeb7bb2ba2fb35aa988a78f2aac1ff1             0   \n",
       "                                 48363bdca9fdfa03f93b1814414dc69f             0   \n",
       "\n",
       "                                                                  CAPSULE_TEXT  \\\n",
       "COUPON_ID_hash                   USER_ID_hash                                    \n",
       "6b263844241eea98c5a97f1335ea82af 6c3cbc5c3db3c673ffb52cd946dce194           10   \n",
       "                                 6c3cbc5c3db3c673ffb52cd946dce194           10   \n",
       "                                 6c3cbc5c3db3c673ffb52cd946dce194           10   \n",
       "                                 cdeb7bb2ba2fb35aa988a78f2aac1ff1           10   \n",
       "                                 48363bdca9fdfa03f93b1814414dc69f           10   \n",
       "\n",
       "                                                                  GENRE_NAME  \\\n",
       "COUPON_ID_hash                   USER_ID_hash                                  \n",
       "6b263844241eea98c5a97f1335ea82af 6c3cbc5c3db3c673ffb52cd946dce194         10   \n",
       "                                 6c3cbc5c3db3c673ffb52cd946dce194         10   \n",
       "                                 6c3cbc5c3db3c673ffb52cd946dce194         10   \n",
       "                                 cdeb7bb2ba2fb35aa988a78f2aac1ff1         10   \n",
       "                                 48363bdca9fdfa03f93b1814414dc69f         10   \n",
       "\n",
       "                                                                   PRICE_RATE  \\\n",
       "COUPON_ID_hash                   USER_ID_hash                                   \n",
       "6b263844241eea98c5a97f1335ea82af 6c3cbc5c3db3c673ffb52cd946dce194          50   \n",
       "                                 6c3cbc5c3db3c673ffb52cd946dce194          50   \n",
       "                                 6c3cbc5c3db3c673ffb52cd946dce194          50   \n",
       "                                 cdeb7bb2ba2fb35aa988a78f2aac1ff1          50   \n",
       "                                 48363bdca9fdfa03f93b1814414dc69f          50   \n",
       "\n",
       "                                                                   CATALOG_PRICE  \\\n",
       "COUPON_ID_hash                   USER_ID_hash                                      \n",
       "6b263844241eea98c5a97f1335ea82af 6c3cbc5c3db3c673ffb52cd946dce194           3000   \n",
       "                                 6c3cbc5c3db3c673ffb52cd946dce194           3000   \n",
       "                                 6c3cbc5c3db3c673ffb52cd946dce194           3000   \n",
       "                                 cdeb7bb2ba2fb35aa988a78f2aac1ff1           3000   \n",
       "                                 48363bdca9fdfa03f93b1814414dc69f           3000   \n",
       "\n",
       "                                                                   DISCOUNT_PRICE  \\\n",
       "COUPON_ID_hash                   USER_ID_hash                                       \n",
       "6b263844241eea98c5a97f1335ea82af 6c3cbc5c3db3c673ffb52cd946dce194            1500   \n",
       "                                 6c3cbc5c3db3c673ffb52cd946dce194            1500   \n",
       "                                 6c3cbc5c3db3c673ffb52cd946dce194            1500   \n",
       "                                 cdeb7bb2ba2fb35aa988a78f2aac1ff1            1500   \n",
       "                                 48363bdca9fdfa03f93b1814414dc69f            1500   \n",
       "\n",
       "                                                                       DISPFROM  \\\n",
       "COUPON_ID_hash                   USER_ID_hash                                     \n",
       "6b263844241eea98c5a97f1335ea82af 6c3cbc5c3db3c673ffb52cd946dce194  1.310152e+09   \n",
       "                                 6c3cbc5c3db3c673ffb52cd946dce194  1.310152e+09   \n",
       "                                 6c3cbc5c3db3c673ffb52cd946dce194  1.310152e+09   \n",
       "                                 cdeb7bb2ba2fb35aa988a78f2aac1ff1  1.310152e+09   \n",
       "                                 48363bdca9fdfa03f93b1814414dc69f  1.310152e+09   \n",
       "\n",
       "                                                                        DISPEND  \\\n",
       "COUPON_ID_hash                   USER_ID_hash                                     \n",
       "6b263844241eea98c5a97f1335ea82af 6c3cbc5c3db3c673ffb52cd946dce194  1.310238e+09   \n",
       "                                 6c3cbc5c3db3c673ffb52cd946dce194  1.310238e+09   \n",
       "                                 6c3cbc5c3db3c673ffb52cd946dce194  1.310238e+09   \n",
       "                                 cdeb7bb2ba2fb35aa988a78f2aac1ff1  1.310238e+09   \n",
       "                                 48363bdca9fdfa03f93b1814414dc69f  1.310238e+09   \n",
       "\n",
       "                                                                   DISPPERIOD  \\\n",
       "COUPON_ID_hash                   USER_ID_hash                                   \n",
       "6b263844241eea98c5a97f1335ea82af 6c3cbc5c3db3c673ffb52cd946dce194           1   \n",
       "                                 6c3cbc5c3db3c673ffb52cd946dce194           1   \n",
       "                                 6c3cbc5c3db3c673ffb52cd946dce194           1   \n",
       "                                 cdeb7bb2ba2fb35aa988a78f2aac1ff1           1   \n",
       "                                 48363bdca9fdfa03f93b1814414dc69f           1   \n",
       "\n",
       "                                                                      VALIDFROM  \\\n",
       "COUPON_ID_hash                   USER_ID_hash                                     \n",
       "6b263844241eea98c5a97f1335ea82af 6c3cbc5c3db3c673ffb52cd946dce194  1.310281e+09   \n",
       "                                 6c3cbc5c3db3c673ffb52cd946dce194  1.310281e+09   \n",
       "                                 6c3cbc5c3db3c673ffb52cd946dce194  1.310281e+09   \n",
       "                                 cdeb7bb2ba2fb35aa988a78f2aac1ff1  1.310281e+09   \n",
       "                                 48363bdca9fdfa03f93b1814414dc69f  1.310281e+09   \n",
       "\n",
       "                                                                   ...  \\\n",
       "COUPON_ID_hash                   USER_ID_hash                      ...   \n",
       "6b263844241eea98c5a97f1335ea82af 6c3cbc5c3db3c673ffb52cd946dce194  ...   \n",
       "                                 6c3cbc5c3db3c673ffb52cd946dce194  ...   \n",
       "                                 6c3cbc5c3db3c673ffb52cd946dce194  ...   \n",
       "                                 cdeb7bb2ba2fb35aa988a78f2aac1ff1  ...   \n",
       "                                 48363bdca9fdfa03f93b1814414dc69f  ...   \n",
       "\n",
       "                                                                   USABLE_DATE_SUN  \\\n",
       "COUPON_ID_hash                   USER_ID_hash                                        \n",
       "6b263844241eea98c5a97f1335ea82af 6c3cbc5c3db3c673ffb52cd946dce194              1.0   \n",
       "                                 6c3cbc5c3db3c673ffb52cd946dce194              1.0   \n",
       "                                 6c3cbc5c3db3c673ffb52cd946dce194              1.0   \n",
       "                                 cdeb7bb2ba2fb35aa988a78f2aac1ff1              1.0   \n",
       "                                 48363bdca9fdfa03f93b1814414dc69f              1.0   \n",
       "\n",
       "                                                                   USABLE_DATE_HOLIDAY  \\\n",
       "COUPON_ID_hash                   USER_ID_hash                                            \n",
       "6b263844241eea98c5a97f1335ea82af 6c3cbc5c3db3c673ffb52cd946dce194                  1.0   \n",
       "                                 6c3cbc5c3db3c673ffb52cd946dce194                  1.0   \n",
       "                                 6c3cbc5c3db3c673ffb52cd946dce194                  1.0   \n",
       "                                 cdeb7bb2ba2fb35aa988a78f2aac1ff1                  1.0   \n",
       "                                 48363bdca9fdfa03f93b1814414dc69f                  1.0   \n",
       "\n",
       "                                                                   USABLE_DATE_BEFORE_HOLIDAY  \\\n",
       "COUPON_ID_hash                   USER_ID_hash                                                   \n",
       "6b263844241eea98c5a97f1335ea82af 6c3cbc5c3db3c673ffb52cd946dce194                         0.0   \n",
       "                                 6c3cbc5c3db3c673ffb52cd946dce194                         0.0   \n",
       "                                 6c3cbc5c3db3c673ffb52cd946dce194                         0.0   \n",
       "                                 cdeb7bb2ba2fb35aa988a78f2aac1ff1                         0.0   \n",
       "                                 48363bdca9fdfa03f93b1814414dc69f                         0.0   \n",
       "\n",
       "                                                                   large_area_name  \\\n",
       "COUPON_ID_hash                   USER_ID_hash                                        \n",
       "6b263844241eea98c5a97f1335ea82af 6c3cbc5c3db3c673ffb52cd946dce194                7   \n",
       "                                 6c3cbc5c3db3c673ffb52cd946dce194                7   \n",
       "                                 6c3cbc5c3db3c673ffb52cd946dce194                7   \n",
       "                                 cdeb7bb2ba2fb35aa988a78f2aac1ff1                7   \n",
       "                                 48363bdca9fdfa03f93b1814414dc69f                7   \n",
       "\n",
       "                                                                   ken_name  \\\n",
       "COUPON_ID_hash                   USER_ID_hash                                 \n",
       "6b263844241eea98c5a97f1335ea82af 6c3cbc5c3db3c673ffb52cd946dce194        18   \n",
       "                                 6c3cbc5c3db3c673ffb52cd946dce194        18   \n",
       "                                 6c3cbc5c3db3c673ffb52cd946dce194        18   \n",
       "                                 cdeb7bb2ba2fb35aa988a78f2aac1ff1        18   \n",
       "                                 48363bdca9fdfa03f93b1814414dc69f        18   \n",
       "\n",
       "                                                                   small_area_name  \\\n",
       "COUPON_ID_hash                   USER_ID_hash                                        \n",
       "6b263844241eea98c5a97f1335ea82af 6c3cbc5c3db3c673ffb52cd946dce194                5   \n",
       "                                 6c3cbc5c3db3c673ffb52cd946dce194                5   \n",
       "                                 6c3cbc5c3db3c673ffb52cd946dce194                5   \n",
       "                                 cdeb7bb2ba2fb35aa988a78f2aac1ff1                5   \n",
       "                                 48363bdca9fdfa03f93b1814414dc69f                5   \n",
       "\n",
       "                                                                       REG_DATE  \\\n",
       "COUPON_ID_hash                   USER_ID_hash                                     \n",
       "6b263844241eea98c5a97f1335ea82af 6c3cbc5c3db3c673ffb52cd946dce194  1.289680e+09   \n",
       "                                 6c3cbc5c3db3c673ffb52cd946dce194  1.289680e+09   \n",
       "                                 6c3cbc5c3db3c673ffb52cd946dce194  1.289680e+09   \n",
       "                                 cdeb7bb2ba2fb35aa988a78f2aac1ff1  1.289088e+09   \n",
       "                                 48363bdca9fdfa03f93b1814414dc69f  1.289458e+09   \n",
       "\n",
       "                                                                   SEX_ID  \\\n",
       "COUPON_ID_hash                   USER_ID_hash                               \n",
       "6b263844241eea98c5a97f1335ea82af 6c3cbc5c3db3c673ffb52cd946dce194       0   \n",
       "                                 6c3cbc5c3db3c673ffb52cd946dce194       0   \n",
       "                                 6c3cbc5c3db3c673ffb52cd946dce194       0   \n",
       "                                 cdeb7bb2ba2fb35aa988a78f2aac1ff1       1   \n",
       "                                 48363bdca9fdfa03f93b1814414dc69f       1   \n",
       "\n",
       "                                                                   AGE  \\\n",
       "COUPON_ID_hash                   USER_ID_hash                            \n",
       "6b263844241eea98c5a97f1335ea82af 6c3cbc5c3db3c673ffb52cd946dce194   52   \n",
       "                                 6c3cbc5c3db3c673ffb52cd946dce194   52   \n",
       "                                 6c3cbc5c3db3c673ffb52cd946dce194   52   \n",
       "                                 cdeb7bb2ba2fb35aa988a78f2aac1ff1   39   \n",
       "                                 48363bdca9fdfa03f93b1814414dc69f   36   \n",
       "\n",
       "                                                                   PREF_NAME  \n",
       "COUPON_ID_hash                   USER_ID_hash                                 \n",
       "6b263844241eea98c5a97f1335ea82af 6c3cbc5c3db3c673ffb52cd946dce194         17  \n",
       "                                 6c3cbc5c3db3c673ffb52cd946dce194         17  \n",
       "                                 6c3cbc5c3db3c673ffb52cd946dce194         17  \n",
       "                                 cdeb7bb2ba2fb35aa988a78f2aac1ff1         18  \n",
       "                                 48363bdca9fdfa03f93b1814414dc69f         18  \n",
       "\n",
       "[5 rows x 28 columns]"
      ]
     },
     "execution_count": 120,
     "metadata": {},
     "output_type": "execute_result"
    }
   ],
   "source": [
    "trainData.head()"
   ]
  },
  {
   "cell_type": "code",
   "execution_count": 188,
   "id": "8ecabdd3",
   "metadata": {
    "scrolled": false
   },
   "outputs": [
    {
     "name": "stderr",
     "output_type": "stream",
     "text": [
      "<ipython-input-178-87cf79b354ec>:20: SettingWithCopyWarning: \n",
      "A value is trying to be set on a copy of a slice from a DataFrame\n",
      "\n",
      "See the caveats in the documentation: https://pandas.pydata.org/pandas-docs/stable/user_guide/indexing.html#returning-a-view-versus-a-copy\n",
      "  trainData.dropna(inplace = True)\n"
     ]
    }
   ],
   "source": [
    "trainData = getTrainData(user_list, coupon_list_train, coupon_visit_train)"
   ]
  },
  {
   "cell_type": "code",
   "execution_count": 220,
   "id": "c986093d",
   "metadata": {},
   "outputs": [],
   "source": [
    "def calculate_euclidean_dist(start,end):\n",
    "    p = prefecture_locations[prefecture_locations['PREF_NAME'] == start]\n",
    "    q = prefecture_locations[prefecture_locations['PREF_NAME'] == end]\n",
    "    if len(p) + len(q) == 2: \n",
    "        return np.sqrt((p['LATITUDE'].values - q['LATITUDE'].values)**2 + (p['LONGITUDE'].values - q['LONGITUDE'].values)**2)[0]\n",
    "    return np.nan"
   ]
  },
  {
   "cell_type": "code",
   "execution_count": 216,
   "id": "f579baba",
   "metadata": {},
   "outputs": [
    {
     "data": {
      "application/vnd.jupyter.widget-view+json": {
       "model_id": "6aa2029cd1c9471d920c5aa4254c9e5f",
       "version_major": 2,
       "version_minor": 0
      },
      "text/plain": [
       "  0%|          | 0/1243831 [00:00<?, ?it/s]"
      ]
     },
     "metadata": {},
     "output_type": "display_data"
    },
    {
     "name": "stdout",
     "output_type": "stream",
     "text": [
      "[]\n"
     ]
    },
    {
     "ename": "IndexError",
     "evalue": "index 0 is out of bounds for axis 0 with size 0",
     "output_type": "error",
     "traceback": [
      "\u001b[0;31m---------------------------------------------------------------------------\u001b[0m",
      "\u001b[0;31mIndexError\u001b[0m                                Traceback (most recent call last)",
      "\u001b[0;32m<ipython-input-216-53d2789e0ba7>\u001b[0m in \u001b[0;36m<module>\u001b[0;34m\u001b[0m\n\u001b[1;32m     11\u001b[0m     \u001b[0mpref_name\u001b[0m \u001b[0;34m=\u001b[0m \u001b[0mrow\u001b[0m\u001b[0;34m[\u001b[0m\u001b[0;36m1\u001b[0m\u001b[0;34m]\u001b[0m\u001b[0;34m[\u001b[0m\u001b[0;34m'PREF_NAME'\u001b[0m\u001b[0;34m]\u001b[0m\u001b[0;34m\u001b[0m\u001b[0;34m\u001b[0m\u001b[0m\n\u001b[1;32m     12\u001b[0m     \u001b[0;32mif\u001b[0m \u001b[0;32mnot\u001b[0m \u001b[0;34m(\u001b[0m\u001b[0mken_name\u001b[0m\u001b[0;34m,\u001b[0m \u001b[0mpref_name\u001b[0m\u001b[0;34m)\u001b[0m \u001b[0;32min\u001b[0m \u001b[0mdist_dict\u001b[0m\u001b[0;34m:\u001b[0m\u001b[0;34m\u001b[0m\u001b[0;34m\u001b[0m\u001b[0m\n\u001b[0;32m---> 13\u001b[0;31m         \u001b[0mdist_dict\u001b[0m\u001b[0;34m[\u001b[0m\u001b[0;34m(\u001b[0m\u001b[0mken_name\u001b[0m\u001b[0;34m,\u001b[0m \u001b[0mpref_name\u001b[0m\u001b[0;34m)\u001b[0m\u001b[0;34m]\u001b[0m \u001b[0;34m=\u001b[0m \u001b[0;34m(\u001b[0m\u001b[0mcalculate_euclidean_dist\u001b[0m\u001b[0;34m(\u001b[0m\u001b[0mken_name\u001b[0m\u001b[0;34m,\u001b[0m \u001b[0mpref_name\u001b[0m\u001b[0;34m)\u001b[0m\u001b[0;34m)\u001b[0m\u001b[0;34m\u001b[0m\u001b[0;34m\u001b[0m\u001b[0m\n\u001b[0m\u001b[1;32m     14\u001b[0m         \u001b[0mdist_dict\u001b[0m\u001b[0;34m[\u001b[0m\u001b[0;34m(\u001b[0m\u001b[0mpref_name\u001b[0m\u001b[0;34m,\u001b[0m \u001b[0mken_name\u001b[0m\u001b[0;34m)\u001b[0m\u001b[0;34m]\u001b[0m \u001b[0;34m=\u001b[0m \u001b[0mdist_dict\u001b[0m\u001b[0;34m[\u001b[0m\u001b[0;34m(\u001b[0m\u001b[0mken_name\u001b[0m\u001b[0;34m,\u001b[0m \u001b[0mpref_name\u001b[0m\u001b[0;34m)\u001b[0m\u001b[0;34m]\u001b[0m\u001b[0;34m\u001b[0m\u001b[0;34m\u001b[0m\u001b[0m\n\u001b[1;32m     15\u001b[0m     \u001b[0meuclidean_dist\u001b[0m \u001b[0;34m=\u001b[0m \u001b[0mdist_dict\u001b[0m\u001b[0;34m[\u001b[0m\u001b[0;34m(\u001b[0m\u001b[0mken_name\u001b[0m\u001b[0;34m,\u001b[0m \u001b[0mpref_name\u001b[0m\u001b[0;34m)\u001b[0m\u001b[0;34m]\u001b[0m\u001b[0;34m\u001b[0m\u001b[0;34m\u001b[0m\u001b[0m\n",
      "\u001b[0;32m<ipython-input-216-53d2789e0ba7>\u001b[0m in \u001b[0;36mcalculate_euclidean_dist\u001b[0;34m(start, end)\u001b[0m\n\u001b[1;32m      3\u001b[0m     \u001b[0mq\u001b[0m \u001b[0;34m=\u001b[0m \u001b[0mprefecture_locations\u001b[0m\u001b[0;34m[\u001b[0m\u001b[0mprefecture_locations\u001b[0m\u001b[0;34m[\u001b[0m\u001b[0;34m'PREF_NAME'\u001b[0m\u001b[0;34m]\u001b[0m \u001b[0;34m==\u001b[0m \u001b[0mend\u001b[0m\u001b[0;34m]\u001b[0m\u001b[0;34m\u001b[0m\u001b[0;34m\u001b[0m\u001b[0m\n\u001b[1;32m      4\u001b[0m     \u001b[0mprint\u001b[0m\u001b[0;34m(\u001b[0m\u001b[0mnp\u001b[0m\u001b[0;34m.\u001b[0m\u001b[0msqrt\u001b[0m\u001b[0;34m(\u001b[0m\u001b[0;34m(\u001b[0m\u001b[0mp\u001b[0m\u001b[0;34m[\u001b[0m\u001b[0;34m'LATITUDE'\u001b[0m\u001b[0;34m]\u001b[0m\u001b[0;34m.\u001b[0m\u001b[0mvalues\u001b[0m \u001b[0;34m-\u001b[0m \u001b[0mq\u001b[0m\u001b[0;34m[\u001b[0m\u001b[0;34m'LATITUDE'\u001b[0m\u001b[0;34m]\u001b[0m\u001b[0;34m.\u001b[0m\u001b[0mvalues\u001b[0m\u001b[0;34m)\u001b[0m\u001b[0;34m**\u001b[0m\u001b[0;36m2\u001b[0m \u001b[0;34m+\u001b[0m \u001b[0;34m(\u001b[0m\u001b[0mp\u001b[0m\u001b[0;34m[\u001b[0m\u001b[0;34m'LONGITUDE'\u001b[0m\u001b[0;34m]\u001b[0m\u001b[0;34m.\u001b[0m\u001b[0mvalues\u001b[0m \u001b[0;34m-\u001b[0m \u001b[0mq\u001b[0m\u001b[0;34m[\u001b[0m\u001b[0;34m'LONGITUDE'\u001b[0m\u001b[0;34m]\u001b[0m\u001b[0;34m.\u001b[0m\u001b[0mvalues\u001b[0m\u001b[0;34m)\u001b[0m\u001b[0;34m**\u001b[0m\u001b[0;36m2\u001b[0m\u001b[0;34m)\u001b[0m\u001b[0;34m)\u001b[0m\u001b[0;34m\u001b[0m\u001b[0;34m\u001b[0m\u001b[0m\n\u001b[0;32m----> 5\u001b[0;31m     \u001b[0;32mreturn\u001b[0m \u001b[0mnp\u001b[0m\u001b[0;34m.\u001b[0m\u001b[0msqrt\u001b[0m\u001b[0;34m(\u001b[0m\u001b[0;34m(\u001b[0m\u001b[0mp\u001b[0m\u001b[0;34m[\u001b[0m\u001b[0;34m'LATITUDE'\u001b[0m\u001b[0;34m]\u001b[0m\u001b[0;34m.\u001b[0m\u001b[0mvalues\u001b[0m \u001b[0;34m-\u001b[0m \u001b[0mq\u001b[0m\u001b[0;34m[\u001b[0m\u001b[0;34m'LATITUDE'\u001b[0m\u001b[0;34m]\u001b[0m\u001b[0;34m.\u001b[0m\u001b[0mvalues\u001b[0m\u001b[0;34m)\u001b[0m\u001b[0;34m**\u001b[0m\u001b[0;36m2\u001b[0m \u001b[0;34m+\u001b[0m \u001b[0;34m(\u001b[0m\u001b[0mp\u001b[0m\u001b[0;34m[\u001b[0m\u001b[0;34m'LONGITUDE'\u001b[0m\u001b[0;34m]\u001b[0m\u001b[0;34m.\u001b[0m\u001b[0mvalues\u001b[0m \u001b[0;34m-\u001b[0m \u001b[0mq\u001b[0m\u001b[0;34m[\u001b[0m\u001b[0;34m'LONGITUDE'\u001b[0m\u001b[0;34m]\u001b[0m\u001b[0;34m.\u001b[0m\u001b[0mvalues\u001b[0m\u001b[0;34m)\u001b[0m\u001b[0;34m**\u001b[0m\u001b[0;36m2\u001b[0m\u001b[0;34m)\u001b[0m\u001b[0;34m[\u001b[0m\u001b[0;36m0\u001b[0m\u001b[0;34m]\u001b[0m\u001b[0;34m\u001b[0m\u001b[0;34m\u001b[0m\u001b[0m\n\u001b[0m\u001b[1;32m      6\u001b[0m \u001b[0;34m\u001b[0m\u001b[0m\n\u001b[1;32m      7\u001b[0m \u001b[0muser_coupon_dist\u001b[0m \u001b[0;34m=\u001b[0m \u001b[0;34m[\u001b[0m\u001b[0;34m]\u001b[0m\u001b[0;34m\u001b[0m\u001b[0;34m\u001b[0m\u001b[0m\n",
      "\u001b[0;31mIndexError\u001b[0m: index 0 is out of bounds for axis 0 with size 0"
     ]
    }
   ],
   "source": [
    "\n",
    "user_coupon_dist = []\n",
    "dist_dict = {}\n",
    "for row in tqdm(trainData.iterrows(), total = len(trainData)):\n",
    "    ken_name = row[1]['ken_name']\n",
    "    pref_name = row[1]['PREF_NAME']\n",
    "    if not (ken_name, pref_name) in dist_dict:\n",
    "        dist_dict[(ken_name, pref_name)] = (calculate_euclidean_dist(ken_name, pref_name))\n",
    "        dist_dict[(pref_name, ken_name)] = dist_dict[(ken_name, pref_name)]\n",
    "    euclidean_dist = dist_dict[(ken_name, pref_name)]\n",
    "    user_coupon_dist.append(euclidean_dist)\n",
    "trainData['EucliD'] = user_coupon_dist"
   ]
  },
  {
   "cell_type": "code",
   "execution_count": 189,
   "id": "b8096a64",
   "metadata": {},
   "outputs": [],
   "source": [
    "def processTime(X):\n",
    "    dates = ['DISPFROM', 'DISPEND', 'VALIDFROM', 'VALIDEND', 'REG_DATE']\n",
    "    for date_cat in dates:\n",
    "        X[date_cat] = list(map(lambda y:np.nan if str(y) == 'nan' else y.timestamp(), map(lambda x:np.nan if str(x) == 'nan' else datetime.datetime.fromisoformat(x), X[date_cat])))\n",
    "    return X\n",
    "\n",
    "categories = ['CAPSULE_TEXT', 'GENRE_NAME', 'large_area_name', 'ken_name', 'small_area_name', 'SEX_ID', 'PREF_NAME']\n",
    "def processData(X):\n",
    "    cat_encoder_dict = {}\n",
    "    for category in tqdm(categories):\n",
    "        cat_encoder_dict[category] = {}\n",
    "        counter = 0\n",
    "        for cat in list(set(X[category])):\n",
    "            cat_encoder_dict[category][cat] = counter\n",
    "            X[category][X[category]==cat] = counter\n",
    "            counter += 1\n",
    "    return X, cat_encoder_dict\n"
   ]
  },
  {
   "cell_type": "code",
   "execution_count": 190,
   "id": "888c2ef7",
   "metadata": {
    "scrolled": false
   },
   "outputs": [
    {
     "data": {
      "application/vnd.jupyter.widget-view+json": {
       "model_id": "c811eecd4be745fbba1e31518146aa4c",
       "version_major": 2,
       "version_minor": 0
      },
      "text/plain": [
       "  0%|          | 0/7 [00:00<?, ?it/s]"
      ]
     },
     "metadata": {},
     "output_type": "display_data"
    },
    {
     "name": "stderr",
     "output_type": "stream",
     "text": [
      "<ipython-input-189-da41797d7992>:15: SettingWithCopyWarning: \n",
      "A value is trying to be set on a copy of a slice from a DataFrame\n",
      "\n",
      "See the caveats in the documentation: https://pandas.pydata.org/pandas-docs/stable/user_guide/indexing.html#returning-a-view-versus-a-copy\n",
      "  X[category][X[category]==cat] = counter\n"
     ]
    }
   ],
   "source": [
    "trainData = processTime(trainData)\n",
    "trainData, cat_encoder_dict = processData(trainData)"
   ]
  },
  {
   "cell_type": "code",
   "execution_count": 165,
   "id": "a62cd177",
   "metadata": {},
   "outputs": [
    {
     "data": {
      "text/plain": [
       "COUPON_ID_hash                    USER_ID_hash                    \n",
       "6b263844241eea98c5a97f1335ea82af  6c3cbc5c3db3c673ffb52cd946dce194    0.537329\n",
       "                                  6c3cbc5c3db3c673ffb52cd946dce194    0.537329\n",
       "                                  6c3cbc5c3db3c673ffb52cd946dce194    0.537329\n",
       "                                  cdeb7bb2ba2fb35aa988a78f2aac1ff1    0.000000\n",
       "                                  48363bdca9fdfa03f93b1814414dc69f    0.000000\n",
       "                                                                        ...   \n",
       "ba5e9b7453ca52ff711635a5d2e8102d  04fbb09184583c6bc1def69fa72d7f4e    0.439791\n",
       "                                  d5af8e0cf27f1f5a98e989774e506abe    0.439791\n",
       "                                  51ff6b5ccfe7a2b2b2342aad6645cf66    0.439791\n",
       "                                  d29c79de3d92d04bbb7af780f62918c9    0.439791\n",
       "                                  841e0bb455e6ab87269b9d7b577cf46e    0.000000\n",
       "Name: EucliD, Length: 100, dtype: float64"
      ]
     },
     "execution_count": 165,
     "metadata": {},
     "output_type": "execute_result"
    }
   ],
   "source": [
    "trainData['EucliD'][:100]"
   ]
  },
  {
   "cell_type": "code",
   "execution_count": 170,
   "id": "90f20d86",
   "metadata": {},
   "outputs": [
    {
     "name": "stderr",
     "output_type": "stream",
     "text": [
      "/Users/lifangshi/miniconda3/envs/coupon_purchase_prediction/lib/python3.9/site-packages/lightgbm/basic.py:1551: UserWarning: Using categorical_feature in Dataset.\n",
      "  warnings.warn('Using categorical_feature in Dataset.')\n"
     ]
    },
    {
     "name": "stdout",
     "output_type": "stream",
     "text": [
      "[LightGBM] [Info] Number of positive: 962994, number of negative: 962994\n",
      "[LightGBM] [Warning] Auto-choosing row-wise multi-threading, the overhead of testing was 0.073715 seconds.\n",
      "You can set `force_row_wise=true` to remove the overhead.\n",
      "And if memory is not enough, you can set `force_col_wise=true`.\n",
      "[LightGBM] [Info] Total Bins 4934\n",
      "[LightGBM] [Info] Number of data points in the train set: 1925988, number of used features: 28\n",
      "[LightGBM] [Info] [binary:BoostFromScore]: pavg=0.500000 -> initscore=0.000000\n"
     ]
    },
    {
     "name": "stderr",
     "output_type": "stream",
     "text": [
      "/Users/lifangshi/miniconda3/envs/coupon_purchase_prediction/lib/python3.9/site-packages/lightgbm/basic.py:1551: UserWarning: Using categorical_feature in Dataset.\n",
      "  warnings.warn('Using categorical_feature in Dataset.')\n"
     ]
    },
    {
     "name": "stdout",
     "output_type": "stream",
     "text": [
      "[LightGBM] [Info] Number of positive: 961960, number of negative: 961960\n",
      "[LightGBM] [Warning] Auto-choosing row-wise multi-threading, the overhead of testing was 0.064063 seconds.\n",
      "You can set `force_row_wise=true` to remove the overhead.\n",
      "And if memory is not enough, you can set `force_col_wise=true`.\n",
      "[LightGBM] [Info] Total Bins 4918\n",
      "[LightGBM] [Info] Number of data points in the train set: 1923920, number of used features: 28\n",
      "[LightGBM] [Info] [binary:BoostFromScore]: pavg=0.500000 -> initscore=0.000000\n"
     ]
    },
    {
     "name": "stderr",
     "output_type": "stream",
     "text": [
      "/Users/lifangshi/miniconda3/envs/coupon_purchase_prediction/lib/python3.9/site-packages/lightgbm/basic.py:1551: UserWarning: Using categorical_feature in Dataset.\n",
      "  warnings.warn('Using categorical_feature in Dataset.')\n"
     ]
    },
    {
     "name": "stdout",
     "output_type": "stream",
     "text": [
      "[LightGBM] [Info] Number of positive: 961663, number of negative: 961663\n",
      "[LightGBM] [Warning] Auto-choosing row-wise multi-threading, the overhead of testing was 0.058806 seconds.\n",
      "You can set `force_row_wise=true` to remove the overhead.\n",
      "And if memory is not enough, you can set `force_col_wise=true`.\n",
      "[LightGBM] [Info] Total Bins 4938\n",
      "[LightGBM] [Info] Number of data points in the train set: 1923326, number of used features: 28\n",
      "[LightGBM] [Info] [binary:BoostFromScore]: pavg=0.500000 -> initscore=0.000000\n"
     ]
    },
    {
     "name": "stderr",
     "output_type": "stream",
     "text": [
      "/Users/lifangshi/miniconda3/envs/coupon_purchase_prediction/lib/python3.9/site-packages/lightgbm/basic.py:1551: UserWarning: Using categorical_feature in Dataset.\n",
      "  warnings.warn('Using categorical_feature in Dataset.')\n"
     ]
    },
    {
     "name": "stdout",
     "output_type": "stream",
     "text": [
      "[LightGBM] [Info] Number of positive: 961623, number of negative: 961623\n",
      "[LightGBM] [Warning] Auto-choosing row-wise multi-threading, the overhead of testing was 0.056853 seconds.\n",
      "You can set `force_row_wise=true` to remove the overhead.\n",
      "And if memory is not enough, you can set `force_col_wise=true`.\n",
      "[LightGBM] [Info] Total Bins 4933\n",
      "[LightGBM] [Info] Number of data points in the train set: 1923246, number of used features: 28\n",
      "[LightGBM] [Info] [binary:BoostFromScore]: pavg=0.500000 -> initscore=0.000000\n"
     ]
    },
    {
     "name": "stderr",
     "output_type": "stream",
     "text": [
      "/Users/lifangshi/miniconda3/envs/coupon_purchase_prediction/lib/python3.9/site-packages/lightgbm/basic.py:1551: UserWarning: Using categorical_feature in Dataset.\n",
      "  warnings.warn('Using categorical_feature in Dataset.')\n"
     ]
    },
    {
     "name": "stdout",
     "output_type": "stream",
     "text": [
      "[LightGBM] [Info] Number of positive: 962368, number of negative: 962368\n",
      "[LightGBM] [Warning] Auto-choosing row-wise multi-threading, the overhead of testing was 0.070823 seconds.\n",
      "You can set `force_row_wise=true` to remove the overhead.\n",
      "And if memory is not enough, you can set `force_col_wise=true`.\n",
      "[LightGBM] [Info] Total Bins 4939\n",
      "[LightGBM] [Info] Number of data points in the train set: 1924736, number of used features: 28\n",
      "[LightGBM] [Info] [binary:BoostFromScore]: pavg=0.500000 -> initscore=0.000000\n"
     ]
    }
   ],
   "source": [
    "kf = KFold(n_splits = 5)\n",
    "results = []\n",
    "y_truth = []\n",
    "for train, test in kf.split(trainData):\n",
    "    traindf = trainData.iloc[train]\n",
    "    testdf = trainData.iloc[test]\n",
    "    y_train = traindf.pop('PURCHASE_FLG')\n",
    "    x_train = traindf\n",
    "    y_test = testdf.pop('PURCHASE_FLG')\n",
    "    x_test = testdf\n",
    "    X_resampled, y_resampled = SMOTE().fit_resample(x_train, y_train)\n",
    "    train_data = lgb.Dataset(X_resampled.values, label = list(y_resampled.values),feature_name=list(X_resampled.columns), categorical_feature=categories)\n",
    "    param = {}\n",
    "    param['num_leaves'] = 5\n",
    "    param['objective'] = 'binary'\n",
    "    param['metric'] = 'auc'\n",
    "    # more num, easier overfit\n",
    "    param['max_depth'] = 4\n",
    "    # more num, harder overfit\n",
    "    # param['min_data_in_leaf'] = 10\n",
    "    # param['feature_pre_filter'] = False\n",
    "    param['bagging_fraction'] = .6\n",
    "    param['feature_fraction'] = .6\n",
    "    param['feature_fraction_bynode'] = .6\n",
    "    param['lambda_l1'] = .01\n",
    "    param['lambda_l2'] = .01\n",
    "    param['learning_rate'] = 0.01\n",
    "    num_round = 500\n",
    "    bst = lgb.train(param, train_data, num_round)\n",
    "    result = bst.predict(x_test.values)\n",
    "    results.extend(result)\n",
    "    y_truth.extend(y_test)"
   ]
  },
  {
   "cell_type": "code",
   "execution_count": 167,
   "id": "f681457a",
   "metadata": {
    "scrolled": false
   },
   "outputs": [
    {
     "data": {
      "text/plain": [
       "0.5942034258659119"
      ]
     },
     "execution_count": 167,
     "metadata": {},
     "output_type": "execute_result"
    }
   ],
   "source": [
    "roc_auc_score(y_truth, results)"
   ]
  },
  {
   "cell_type": "code",
   "execution_count": 168,
   "id": "54a77916",
   "metadata": {},
   "outputs": [
    {
     "data": {
      "text/plain": [
       "0.06519755207214945"
      ]
     },
     "execution_count": 168,
     "metadata": {},
     "output_type": "execute_result"
    }
   ],
   "source": [
    "f1_score(y_truth, (np.array(results)>0.5) * 1)"
   ]
  },
  {
   "cell_type": "code",
   "execution_count": 24,
   "id": "7d171203",
   "metadata": {},
   "outputs": [
    {
     "name": "stdout",
     "output_type": "stream",
     "text": [
      "              precision    recall  f1-score   support\n",
      "\n",
      "           0       0.97      0.91      0.94   1202652\n",
      "           1       0.04      0.12      0.07     41179\n",
      "\n",
      "    accuracy                           0.89   1243831\n",
      "   macro avg       0.51      0.52      0.50   1243831\n",
      "weighted avg       0.94      0.89      0.91   1243831\n",
      "\n"
     ]
    }
   ],
   "source": [
    "print(classification_report(y_truth, (np.array(results)>0.5) * 1))"
   ]
  },
  {
   "cell_type": "code",
   "execution_count": 171,
   "id": "95a01798",
   "metadata": {},
   "outputs": [
    {
     "name": "stdout",
     "output_type": "stream",
     "text": [
      "              precision    recall  f1-score   support\n",
      "\n",
      "           0       0.97      0.93      0.95   1202652\n",
      "           1       0.06      0.13      0.08     41179\n",
      "\n",
      "    accuracy                           0.90   1243831\n",
      "   macro avg       0.51      0.53      0.51   1243831\n",
      "weighted avg       0.94      0.90      0.92   1243831\n",
      "\n"
     ]
    }
   ],
   "source": [
    "print(classification_report(y_truth, (np.array(results)>0.5) * 1))"
   ]
  },
  {
   "cell_type": "code",
   "execution_count": 28,
   "id": "a189895c",
   "metadata": {},
   "outputs": [
    {
     "data": {
      "text/plain": [
       "array([10, 2, 5, 11, 3, 19, 0, 17, 9, 21, 13, 15, 14, 6, 20, 12, 8, 7, 4,\n",
       "       16, 18, 1], dtype=object)"
      ]
     },
     "execution_count": 28,
     "metadata": {},
     "output_type": "execute_result"
    }
   ],
   "source": [
    "trainData['CAPSULE_TEXT'].unique()"
   ]
  },
  {
   "cell_type": "code",
   "execution_count": 294,
   "id": "f307addb",
   "metadata": {
    "scrolled": true
   },
   "outputs": [
    {
     "name": "stderr",
     "output_type": "stream",
     "text": [
      "/Users/lifangshi/miniconda3/envs/coupon_purchase_prediction/lib/python3.9/site-packages/lightgbm/basic.py:1551: UserWarning: Using categorical_feature in Dataset.\n",
      "  warnings.warn('Using categorical_feature in Dataset.')\n"
     ]
    },
    {
     "name": "stdout",
     "output_type": "stream",
     "text": [
      "[LightGBM] [Info] Number of positive: 1202652, number of negative: 1202652\n",
      "[LightGBM] [Warning] Auto-choosing row-wise multi-threading, the overhead of testing was 0.083255 seconds.\n",
      "You can set `force_row_wise=true` to remove the overhead.\n",
      "And if memory is not enough, you can set `force_col_wise=true`.\n",
      "[LightGBM] [Info] Total Bins 4698\n",
      "[LightGBM] [Info] Number of data points in the train set: 2405304, number of used features: 27\n",
      "[LightGBM] [Info] [binary:BoostFromScore]: pavg=0.500000 -> initscore=0.000000\n"
     ]
    }
   ],
   "source": [
    "test_pred = bst.predict(test_x.values)\n",
    "sns.histplot(test_pred)"
   ]
  },
  {
   "cell_type": "code",
   "execution_count": null,
   "id": "bc15baee",
   "metadata": {},
   "outputs": [],
   "source": []
  },
  {
   "cell_type": "code",
   "execution_count": null,
   "id": "4b7beaf6",
   "metadata": {},
   "outputs": [],
   "source": []
  },
  {
   "cell_type": "code",
   "execution_count": null,
   "id": "e98bc430",
   "metadata": {},
   "outputs": [],
   "source": []
  },
  {
   "cell_type": "code",
   "execution_count": null,
   "id": "5d7d6d15",
   "metadata": {},
   "outputs": [],
   "source": []
  },
  {
   "cell_type": "code",
   "execution_count": 204,
   "id": "1d2b2d12",
   "metadata": {},
   "outputs": [],
   "source": [
    "def getTestData(coupon_list_test, user_list):\n",
    "    test_x = []\n",
    "    for i in tqdm(coupon_list_test.iterrows(), total=len(coupon_list_test)):\n",
    "        for j in user_list.iterrows():\n",
    "            x = pd.concat([i[1][['CAPSULE_TEXT', 'GENRE_NAME', 'PRICE_RATE', 'CATALOG_PRICE',\n",
    "           'DISCOUNT_PRICE', 'DISPFROM', 'DISPEND', 'DISPPERIOD', 'VALIDFROM',\n",
    "           'VALIDEND', 'VALIDPERIOD', 'USABLE_DATE_MON', 'USABLE_DATE_TUE',\n",
    "           'USABLE_DATE_WED', 'USABLE_DATE_THU', 'USABLE_DATE_FRI',\n",
    "           'USABLE_DATE_SAT', 'USABLE_DATE_SUN', 'USABLE_DATE_HOLIDAY',\n",
    "           'USABLE_DATE_BEFORE_HOLIDAY', 'large_area_name', 'ken_name',\n",
    "           'small_area_name', 'COUPON_ID_hash']], j[1][['REG_DATE', 'SEX_ID', 'AGE', 'PREF_NAME', 'USER_ID_hash']]])\n",
    "            test_x.append(x)\n",
    "    test_x = pd.DataFrame(test_x)\n",
    "    test_x.set_index(['COUPON_ID_hash', 'USER_ID_hash'], inplace = True)\n",
    "    return test_x"
   ]
  },
  {
   "cell_type": "code",
   "execution_count": 210,
   "id": "e1502dbd",
   "metadata": {
    "scrolled": true
   },
   "outputs": [
    {
     "data": {
      "application/vnd.jupyter.widget-view+json": {
       "model_id": "fe8fefe3ab8741eb8d35b6dc07a4e79c",
       "version_major": 2,
       "version_minor": 0
      },
      "text/plain": [
       "  0%|          | 0/310 [00:00<?, ?it/s]"
      ]
     },
     "metadata": {},
     "output_type": "display_data"
    }
   ],
   "source": [
    "test_x = getTestData(coupon_list_test, user_list)\n",
    "test_x = processTime(test_x)"
   ]
  },
  {
   "cell_type": "code",
   "execution_count": 221,
   "id": "d7e6d102",
   "metadata": {},
   "outputs": [
    {
     "data": {
      "application/vnd.jupyter.widget-view+json": {
       "model_id": "63601553c2aa45fa8e255bbe3e7915ca",
       "version_major": 2,
       "version_minor": 0
      },
      "text/plain": [
       "  0%|          | 0/7090630 [00:00<?, ?it/s]"
      ]
     },
     "metadata": {},
     "output_type": "display_data"
    }
   ],
   "source": [
    "user_coupon_dist = []\n",
    "for row in tqdm(test_x.iterrows(), total = len(test_x)):\n",
    "    ken_name = row[1]['ken_name']\n",
    "    pref_name = row[1]['PREF_NAME']\n",
    "    if not (ken_name, pref_name) in dist_dict:\n",
    "        dist_dict[(ken_name, pref_name)] = (calculate_euclidean_dist(ken_name, pref_name))\n",
    "        dist_dict[(pref_name, ken_name)] = dist_dict[(ken_name, pref_name)]\n",
    "    euclidean_dist = dist_dict[(ken_name, pref_name)]\n",
    "    user_coupon_dist.append(euclidean_dist)\n",
    "\n",
    "test_x['EucliD'] = user_coupon_dist"
   ]
  },
  {
   "cell_type": "code",
   "execution_count": 206,
   "id": "bdd16b92",
   "metadata": {},
   "outputs": [],
   "source": [
    "def processTestData(X):\n",
    "    for category in tqdm(categories):\n",
    "        for cat in list(set(X[category])):\n",
    "            if cat in cat_encoder_dict[category]:\n",
    "                X[category][X[category] == cat] = cat_encoder_dict[category][cat]\n",
    "            else:\n",
    "                X[category][X[category] == cat] = np.nan\n",
    "    return X\n"
   ]
  },
  {
   "cell_type": "code",
   "execution_count": 222,
   "id": "818a0888",
   "metadata": {
    "scrolled": true
   },
   "outputs": [
    {
     "data": {
      "application/vnd.jupyter.widget-view+json": {
       "model_id": "fbbef67cd315470a96cbe910e3e76e26",
       "version_major": 2,
       "version_minor": 0
      },
      "text/plain": [
       "  0%|          | 0/7 [00:00<?, ?it/s]"
      ]
     },
     "metadata": {},
     "output_type": "display_data"
    },
    {
     "name": "stderr",
     "output_type": "stream",
     "text": [
      "<ipython-input-206-5d6753ed57a9>:5: SettingWithCopyWarning: \n",
      "A value is trying to be set on a copy of a slice from a DataFrame\n",
      "\n",
      "See the caveats in the documentation: https://pandas.pydata.org/pandas-docs/stable/user_guide/indexing.html#returning-a-view-versus-a-copy\n",
      "  X[category][X[category] == cat] = cat_encoder_dict[category][cat]\n",
      "<ipython-input-206-5d6753ed57a9>:7: SettingWithCopyWarning: \n",
      "A value is trying to be set on a copy of a slice from a DataFrame\n",
      "\n",
      "See the caveats in the documentation: https://pandas.pydata.org/pandas-docs/stable/user_guide/indexing.html#returning-a-view-versus-a-copy\n",
      "  X[category][X[category] == cat] = np.nan\n"
     ]
    }
   ],
   "source": [
    "test_x = processTestData(test_x)"
   ]
  },
  {
   "cell_type": "code",
   "execution_count": 223,
   "id": "a90924d2",
   "metadata": {},
   "outputs": [],
   "source": [
    "test_pred = bst.predict(test_x.values)"
   ]
  },
  {
   "cell_type": "code",
   "execution_count": 290,
   "id": "0e73fbc4",
   "metadata": {},
   "outputs": [
    {
     "data": {
      "text/plain": [
       "array([0.97579541, 0.98137921, 0.96631322, 0.97261231, 0.9871732 ,\n",
       "       0.9866257 , 0.98168493, 0.96507214, 0.97558641, 0.97261231])"
      ]
     },
     "execution_count": 290,
     "metadata": {},
     "output_type": "execute_result"
    }
   ],
   "source": [
    "test_pred[:10]"
   ]
  },
  {
   "cell_type": "code",
   "execution_count": 226,
   "id": "570fb1b5",
   "metadata": {},
   "outputs": [
    {
     "data": {
      "application/vnd.jupyter.widget-view+json": {
       "model_id": "111274038e664aef9a89c01644575fe4",
       "version_major": 2,
       "version_minor": 0
      },
      "text/plain": [
       "  0%|          | 0/22873 [00:00<?, ?it/s]"
      ]
     },
     "metadata": {},
     "output_type": "display_data"
    },
    {
     "name": "stderr",
     "output_type": "stream",
     "text": [
      "<ipython-input-226-1a1b2913f287>:5: SettingWithCopyWarning: \n",
      "A value is trying to be set on a copy of a slice from a DataFrame\n",
      "\n",
      "See the caveats in the documentation: https://pandas.pydata.org/pandas-docs/stable/user_guide/indexing.html#returning-a-view-versus-a-copy\n",
      "  sample_submission['PURCHASED_COUPONS'][sample_submission['USER_ID_hash'] == row[1]['USER_ID_hash']] = ', '.join(coupon_ids)\n"
     ]
    }
   ],
   "source": [
    "test_X = test_x.reset_index()\n",
    "for row in tqdm(sample_submission.iterrows(), total = len(sample_submission)):\n",
    "    idx = test_pred[test_X['USER_ID_hash'] == row[1]['USER_ID_hash']].argsort()[-10:]\n",
    "    coupon_ids = coupon_list_test['COUPON_ID_hash'].iloc[idx]\n",
    "    sample_submission['PURCHASED_COUPONS'][sample_submission['USER_ID_hash'] == row[1]['USER_ID_hash']] = ', '.join(coupon_ids)\n",
    "sample_submission.to_csv('result.csv', index = False)"
   ]
  },
  {
   "cell_type": "code",
   "execution_count": 224,
   "id": "3479c5a7",
   "metadata": {},
   "outputs": [],
   "source": [
    "import seaborn as sns"
   ]
  },
  {
   "cell_type": "code",
   "execution_count": 225,
   "id": "1d7810d3",
   "metadata": {},
   "outputs": [
    {
     "data": {
      "text/plain": [
       "<AxesSubplot:ylabel='Count'>"
      ]
     },
     "execution_count": 225,
     "metadata": {},
     "output_type": "execute_result"
    },
    {
     "data": {
      "image/png": "[encoded data removed]",
      "text/plain": [
       "<Figure size 432x288 with 1 Axes>"
      ]
     },
     "metadata": {
      "needs_background": "light"
     },
     "output_type": "display_data"
    }
   ],
   "source": [
    "# test_pred = bst.predict(test_x.values)\n",
    "sns.histplot(test_pred)"
   ]
  },
  {
   "cell_type": "code",
   "execution_count": null,
   "id": "f83649d2",
   "metadata": {},
   "outputs": [],
   "source": []
  }
 ],
 "metadata": {
  "kernelspec": {
   "display_name": "Python 3",
   "language": "python",
   "name": "python3"
  },
  "language_info": {
   "codemirror_mode": {
    "name": "ipython",
    "version": 3
   },
   "file_extension": ".py",
   "mimetype": "text/x-python",
   "name": "python",
   "nbconvert_exporter": "python",
   "pygments_lexer": "ipython3",
   "version": "3.9.5"
  }
 },
 "nbformat": 4,
 "nbformat_minor": 5
}
