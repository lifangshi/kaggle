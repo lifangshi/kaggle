{
 "cells": [
  {
   "cell_type": "code",
   "execution_count": 94,
   "id": "9b431010",
   "metadata": {},
   "outputs": [],
   "source": [
    "import pandas as pd\n",
    "from pandas import DataFrame,Series\n",
    "import numpy as np\n",
    "import matplotlib.pyplot as plt \n",
    "from sklearn.linear_model import LogisticRegression\n",
    "from tqdm.auto import tqdm"
   ]
  },
  {
   "cell_type": "code",
   "execution_count": 63,
   "id": "61adeb0f",
   "metadata": {},
   "outputs": [],
   "source": [
    "coupon_area_test = pd.read_csv('./coupon-purchase-prediction/coupon_area_test.csv')\n",
    "coupon_area_train = pd.read_csv('./coupon-purchase-prediction/coupon_area_train.csv')\n",
    "coupon_detail_train = pd.read_csv('./coupon-purchase-prediction/coupon_detail_train.csv')\n",
    "coupon_list_test = pd.read_csv('./coupon-purchase-prediction/coupon_list_test.csv')\n",
    "coupon_list_train = pd.read_csv('./coupon-purchase-prediction/coupon_list_train.csv')\n",
    "coupon_visit_train = pd.read_csv('./coupon-purchase-prediction/coupon_visit_train.csv')\n",
    "prefecture_locations = pd.read_csv('./coupon-purchase-prediction/prefecture_locations.csv')\n",
    "sample_submission = pd.read_csv('./coupon-purchase-prediction/sample_submission.csv')\n",
    "user_list = pd.read_csv('./coupon-purchase-prediction/user_list.csv')"
   ]
  },
  {
   "cell_type": "code",
   "execution_count": null,
   "id": "bda93f74",
   "metadata": {},
   "outputs": [],
   "source": []
  },
  {
   "cell_type": "code",
   "execution_count": 3,
   "id": "e482d4a9",
   "metadata": {},
   "outputs": [
    {
     "data": {
      "text/plain": [
       "(2165, 3)"
      ]
     },
     "execution_count": 3,
     "metadata": {},
     "output_type": "execute_result"
    }
   ],
   "source": [
    "coupon_area_test.shape"
   ]
  },
  {
   "cell_type": "code",
   "execution_count": 4,
   "id": "572c1e15",
   "metadata": {},
   "outputs": [
    {
     "data": {
      "text/html": [
       "<div>\n",
       "<style scoped>\n",
       "    .dataframe tbody tr th:only-of-type {\n",
       "        vertical-align: middle;\n",
       "    }\n",
       "\n",
       "    .dataframe tbody tr th {\n",
       "        vertical-align: top;\n",
       "    }\n",
       "\n",
       "    .dataframe thead th {\n",
       "        text-align: right;\n",
       "    }\n",
       "</style>\n",
       "<table border=\"1\" class=\"dataframe\">\n",
       "  <thead>\n",
       "    <tr style=\"text-align: right;\">\n",
       "      <th></th>\n",
       "      <th>SMALL_AREA_NAME</th>\n",
       "      <th>PREF_NAME</th>\n",
       "      <th>COUPON_ID_hash</th>\n",
       "    </tr>\n",
       "  </thead>\n",
       "  <tbody>\n",
       "    <tr>\n",
       "      <th>0</th>\n",
       "      <td>京都</td>\n",
       "      <td>京都府</td>\n",
       "      <td>c76ea297ebd3a5a4d3bf9f75269f66fa</td>\n",
       "    </tr>\n",
       "    <tr>\n",
       "      <th>1</th>\n",
       "      <td>ミナミ他</td>\n",
       "      <td>大阪府</td>\n",
       "      <td>c76ea297ebd3a5a4d3bf9f75269f66fa</td>\n",
       "    </tr>\n",
       "    <tr>\n",
       "      <th>2</th>\n",
       "      <td>銀座・新橋・東京・上野</td>\n",
       "      <td>東京都</td>\n",
       "      <td>dd74dc95ca294afa02db40a543ae1763</td>\n",
       "    </tr>\n",
       "    <tr>\n",
       "      <th>3</th>\n",
       "      <td>川崎・湘南・箱根他</td>\n",
       "      <td>神奈川県</td>\n",
       "      <td>c65b550cbef918796ad53b1d5b7165c1</td>\n",
       "    </tr>\n",
       "    <tr>\n",
       "      <th>4</th>\n",
       "      <td>埼玉</td>\n",
       "      <td>埼玉県</td>\n",
       "      <td>c65b550cbef918796ad53b1d5b7165c1</td>\n",
       "    </tr>\n",
       "  </tbody>\n",
       "</table>\n",
       "</div>"
      ],
      "text/plain": [
       "  SMALL_AREA_NAME PREF_NAME                    COUPON_ID_hash\n",
       "0              京都       京都府  c76ea297ebd3a5a4d3bf9f75269f66fa\n",
       "1            ミナミ他       大阪府  c76ea297ebd3a5a4d3bf9f75269f66fa\n",
       "2     銀座・新橋・東京・上野       東京都  dd74dc95ca294afa02db40a543ae1763\n",
       "3       川崎・湘南・箱根他      神奈川県  c65b550cbef918796ad53b1d5b7165c1\n",
       "4              埼玉       埼玉県  c65b550cbef918796ad53b1d5b7165c1"
      ]
     },
     "execution_count": 4,
     "metadata": {},
     "output_type": "execute_result"
    }
   ],
   "source": [
    "coupon_area_test.head()"
   ]
  },
  {
   "cell_type": "code",
   "execution_count": 5,
   "id": "8c53ae3f",
   "metadata": {},
   "outputs": [
    {
     "data": {
      "text/html": [
       "<div>\n",
       "<style scoped>\n",
       "    .dataframe tbody tr th:only-of-type {\n",
       "        vertical-align: middle;\n",
       "    }\n",
       "\n",
       "    .dataframe tbody tr th {\n",
       "        vertical-align: top;\n",
       "    }\n",
       "\n",
       "    .dataframe thead th {\n",
       "        text-align: right;\n",
       "    }\n",
       "</style>\n",
       "<table border=\"1\" class=\"dataframe\">\n",
       "  <thead>\n",
       "    <tr style=\"text-align: right;\">\n",
       "      <th></th>\n",
       "      <th>SMALL_AREA_NAME</th>\n",
       "      <th>PREF_NAME</th>\n",
       "      <th>COUPON_ID_hash</th>\n",
       "    </tr>\n",
       "  </thead>\n",
       "  <tbody>\n",
       "    <tr>\n",
       "      <th>0</th>\n",
       "      <td>埼玉</td>\n",
       "      <td>埼玉県</td>\n",
       "      <td>6b263844241eea98c5a97f1335ea82af</td>\n",
       "    </tr>\n",
       "    <tr>\n",
       "      <th>1</th>\n",
       "      <td>千葉</td>\n",
       "      <td>千葉県</td>\n",
       "      <td>cc031f250e8bad1e24060263b9fc0ddd</td>\n",
       "    </tr>\n",
       "    <tr>\n",
       "      <th>2</th>\n",
       "      <td>千葉</td>\n",
       "      <td>千葉県</td>\n",
       "      <td>ba5e9b7453ca52ff711635a5d2e8102d</td>\n",
       "    </tr>\n",
       "    <tr>\n",
       "      <th>3</th>\n",
       "      <td>千葉</td>\n",
       "      <td>千葉県</td>\n",
       "      <td>3e1ffbedca3569f9e8032d401e8cb4e6</td>\n",
       "    </tr>\n",
       "    <tr>\n",
       "      <th>4</th>\n",
       "      <td>千葉</td>\n",
       "      <td>千葉県</td>\n",
       "      <td>782934b6c815b4030ea204eef7d4a734</td>\n",
       "    </tr>\n",
       "  </tbody>\n",
       "</table>\n",
       "</div>"
      ],
      "text/plain": [
       "  SMALL_AREA_NAME PREF_NAME                    COUPON_ID_hash\n",
       "0              埼玉       埼玉県  6b263844241eea98c5a97f1335ea82af\n",
       "1              千葉       千葉県  cc031f250e8bad1e24060263b9fc0ddd\n",
       "2              千葉       千葉県  ba5e9b7453ca52ff711635a5d2e8102d\n",
       "3              千葉       千葉県  3e1ffbedca3569f9e8032d401e8cb4e6\n",
       "4              千葉       千葉県  782934b6c815b4030ea204eef7d4a734"
      ]
     },
     "execution_count": 5,
     "metadata": {},
     "output_type": "execute_result"
    }
   ],
   "source": [
    "coupon_area_train.head()"
   ]
  },
  {
   "cell_type": "code",
   "execution_count": 6,
   "id": "0321f23c",
   "metadata": {},
   "outputs": [
    {
     "data": {
      "text/html": [
       "<div>\n",
       "<style scoped>\n",
       "    .dataframe tbody tr th:only-of-type {\n",
       "        vertical-align: middle;\n",
       "    }\n",
       "\n",
       "    .dataframe tbody tr th {\n",
       "        vertical-align: top;\n",
       "    }\n",
       "\n",
       "    .dataframe thead th {\n",
       "        text-align: right;\n",
       "    }\n",
       "</style>\n",
       "<table border=\"1\" class=\"dataframe\">\n",
       "  <thead>\n",
       "    <tr style=\"text-align: right;\">\n",
       "      <th></th>\n",
       "      <th>ITEM_COUNT</th>\n",
       "      <th>I_DATE</th>\n",
       "      <th>SMALL_AREA_NAME</th>\n",
       "      <th>PURCHASEID_hash</th>\n",
       "      <th>USER_ID_hash</th>\n",
       "      <th>COUPON_ID_hash</th>\n",
       "    </tr>\n",
       "  </thead>\n",
       "  <tbody>\n",
       "    <tr>\n",
       "      <th>0</th>\n",
       "      <td>1</td>\n",
       "      <td>2012-03-28 15:06:06</td>\n",
       "      <td>兵庫</td>\n",
       "      <td>c820a8882374a4e472f0984a8825893f</td>\n",
       "      <td>d9dca3cb44bab12ba313eaa681f663eb</td>\n",
       "      <td>34c48f84026e08355dc3bd19b427f09a</td>\n",
       "    </tr>\n",
       "    <tr>\n",
       "      <th>1</th>\n",
       "      <td>1</td>\n",
       "      <td>2011-07-04 23:52:54</td>\n",
       "      <td>銀座・新橋・東京・上野</td>\n",
       "      <td>1b4eb2435421ede98c8931c42e8220ec</td>\n",
       "      <td>560574a339f1b25e57b0221e486907ed</td>\n",
       "      <td>767673b7a777854a92b73b0934ddfae7</td>\n",
       "    </tr>\n",
       "    <tr>\n",
       "      <th>2</th>\n",
       "      <td>1</td>\n",
       "      <td>2011-07-16 00:52:49</td>\n",
       "      <td>恵比寿・目黒・品川</td>\n",
       "      <td>36b5f9ba46c44b65587d0b16f2e4c77f</td>\n",
       "      <td>560574a339f1b25e57b0221e486907ed</td>\n",
       "      <td>4f3b5b91d9831192557c056022fdc1f2</td>\n",
       "    </tr>\n",
       "    <tr>\n",
       "      <th>3</th>\n",
       "      <td>1</td>\n",
       "      <td>2011-07-16 00:54:53</td>\n",
       "      <td>恵比寿・目黒・品川</td>\n",
       "      <td>2f30f46937cc9004774e576914b2aa1a</td>\n",
       "      <td>560574a339f1b25e57b0221e486907ed</td>\n",
       "      <td>4f3b5b91d9831192557c056022fdc1f2</td>\n",
       "    </tr>\n",
       "    <tr>\n",
       "      <th>4</th>\n",
       "      <td>1</td>\n",
       "      <td>2011-07-16 00:55:52</td>\n",
       "      <td>恵比寿・目黒・品川</td>\n",
       "      <td>4d000c64a55ac573d0ae1a8f03677f50</td>\n",
       "      <td>560574a339f1b25e57b0221e486907ed</td>\n",
       "      <td>4f3b5b91d9831192557c056022fdc1f2</td>\n",
       "    </tr>\n",
       "  </tbody>\n",
       "</table>\n",
       "</div>"
      ],
      "text/plain": [
       "   ITEM_COUNT               I_DATE SMALL_AREA_NAME  \\\n",
       "0           1  2012-03-28 15:06:06              兵庫   \n",
       "1           1  2011-07-04 23:52:54     銀座・新橋・東京・上野   \n",
       "2           1  2011-07-16 00:52:49       恵比寿・目黒・品川   \n",
       "3           1  2011-07-16 00:54:53       恵比寿・目黒・品川   \n",
       "4           1  2011-07-16 00:55:52       恵比寿・目黒・品川   \n",
       "\n",
       "                    PURCHASEID_hash                      USER_ID_hash  \\\n",
       "0  c820a8882374a4e472f0984a8825893f  d9dca3cb44bab12ba313eaa681f663eb   \n",
       "1  1b4eb2435421ede98c8931c42e8220ec  560574a339f1b25e57b0221e486907ed   \n",
       "2  36b5f9ba46c44b65587d0b16f2e4c77f  560574a339f1b25e57b0221e486907ed   \n",
       "3  2f30f46937cc9004774e576914b2aa1a  560574a339f1b25e57b0221e486907ed   \n",
       "4  4d000c64a55ac573d0ae1a8f03677f50  560574a339f1b25e57b0221e486907ed   \n",
       "\n",
       "                     COUPON_ID_hash  \n",
       "0  34c48f84026e08355dc3bd19b427f09a  \n",
       "1  767673b7a777854a92b73b0934ddfae7  \n",
       "2  4f3b5b91d9831192557c056022fdc1f2  \n",
       "3  4f3b5b91d9831192557c056022fdc1f2  \n",
       "4  4f3b5b91d9831192557c056022fdc1f2  "
      ]
     },
     "execution_count": 6,
     "metadata": {},
     "output_type": "execute_result"
    }
   ],
   "source": [
    "coupon_detail_train.head()"
   ]
  },
  {
   "cell_type": "code",
   "execution_count": 61,
   "id": "9d9ee7f1",
   "metadata": {},
   "outputs": [
    {
     "data": {
      "text/plain": [
       "Index(['ITEM_COUNT', 'I_DATE', 'SMALL_AREA_NAME', 'PURCHASEID_hash',\n",
       "       'USER_ID_hash', 'COUPON_ID_hash'],\n",
       "      dtype='object')"
      ]
     },
     "execution_count": 61,
     "metadata": {},
     "output_type": "execute_result"
    }
   ],
   "source": [
    "coupon_detail_train.columns"
   ]
  },
  {
   "cell_type": "code",
   "execution_count": 62,
   "id": "336bf54a",
   "metadata": {},
   "outputs": [
    {
     "ename": "AttributeError",
     "evalue": "'list' object has no attribute 'head'",
     "output_type": "error",
     "traceback": [
      "\u001b[0;31m---------------------------------------------------------------------------\u001b[0m",
      "\u001b[0;31mAttributeError\u001b[0m                            Traceback (most recent call last)",
      "\u001b[0;32m<ipython-input-62-cc0e0bb62c38>\u001b[0m in \u001b[0;36m<module>\u001b[0;34m\u001b[0m\n\u001b[0;32m----> 1\u001b[0;31m \u001b[0mcoupon_list_test\u001b[0m\u001b[0;34m.\u001b[0m\u001b[0mhead\u001b[0m\u001b[0;34m(\u001b[0m\u001b[0;34m)\u001b[0m\u001b[0;34m\u001b[0m\u001b[0;34m\u001b[0m\u001b[0m\n\u001b[0m",
      "\u001b[0;31mAttributeError\u001b[0m: 'list' object has no attribute 'head'"
     ]
    }
   ],
   "source": [
    "coupon_list_test.head()"
   ]
  },
  {
   "cell_type": "code",
   "execution_count": 9,
   "id": "c4ab85d2",
   "metadata": {},
   "outputs": [
    {
     "data": {
      "text/plain": [
       "Index(['CAPSULE_TEXT', 'GENRE_NAME', 'PRICE_RATE', 'CATALOG_PRICE',\n",
       "       'DISCOUNT_PRICE', 'DISPFROM', 'DISPEND', 'DISPPERIOD', 'VALIDFROM',\n",
       "       'VALIDEND', 'VALIDPERIOD', 'USABLE_DATE_MON', 'USABLE_DATE_TUE',\n",
       "       'USABLE_DATE_WED', 'USABLE_DATE_THU', 'USABLE_DATE_FRI',\n",
       "       'USABLE_DATE_SAT', 'USABLE_DATE_SUN', 'USABLE_DATE_HOLIDAY',\n",
       "       'USABLE_DATE_BEFORE_HOLIDAY', 'large_area_name', 'ken_name',\n",
       "       'small_area_name', 'COUPON_ID_hash'],\n",
       "      dtype='object')"
      ]
     },
     "execution_count": 9,
     "metadata": {},
     "output_type": "execute_result"
    }
   ],
   "source": [
    "coupon_list_test.columns"
   ]
  },
  {
   "cell_type": "code",
   "execution_count": 10,
   "id": "ec50c69c",
   "metadata": {},
   "outputs": [
    {
     "data": {
      "text/html": [
       "<div>\n",
       "<style scoped>\n",
       "    .dataframe tbody tr th:only-of-type {\n",
       "        vertical-align: middle;\n",
       "    }\n",
       "\n",
       "    .dataframe tbody tr th {\n",
       "        vertical-align: top;\n",
       "    }\n",
       "\n",
       "    .dataframe thead th {\n",
       "        text-align: right;\n",
       "    }\n",
       "</style>\n",
       "<table border=\"1\" class=\"dataframe\">\n",
       "  <thead>\n",
       "    <tr style=\"text-align: right;\">\n",
       "      <th></th>\n",
       "      <th>CAPSULE_TEXT</th>\n",
       "      <th>GENRE_NAME</th>\n",
       "      <th>PRICE_RATE</th>\n",
       "      <th>CATALOG_PRICE</th>\n",
       "      <th>DISCOUNT_PRICE</th>\n",
       "      <th>DISPFROM</th>\n",
       "      <th>DISPEND</th>\n",
       "      <th>DISPPERIOD</th>\n",
       "      <th>VALIDFROM</th>\n",
       "      <th>VALIDEND</th>\n",
       "      <th>...</th>\n",
       "      <th>USABLE_DATE_THU</th>\n",
       "      <th>USABLE_DATE_FRI</th>\n",
       "      <th>USABLE_DATE_SAT</th>\n",
       "      <th>USABLE_DATE_SUN</th>\n",
       "      <th>USABLE_DATE_HOLIDAY</th>\n",
       "      <th>USABLE_DATE_BEFORE_HOLIDAY</th>\n",
       "      <th>large_area_name</th>\n",
       "      <th>ken_name</th>\n",
       "      <th>small_area_name</th>\n",
       "      <th>COUPON_ID_hash</th>\n",
       "    </tr>\n",
       "  </thead>\n",
       "  <tbody>\n",
       "    <tr>\n",
       "      <th>0</th>\n",
       "      <td>グルメ</td>\n",
       "      <td>グルメ</td>\n",
       "      <td>50</td>\n",
       "      <td>3000</td>\n",
       "      <td>1500</td>\n",
       "      <td>2011-07-08 12:00:00</td>\n",
       "      <td>2011-07-09 12:00:00</td>\n",
       "      <td>1</td>\n",
       "      <td>2011-07-10</td>\n",
       "      <td>2011-12-08</td>\n",
       "      <td>...</td>\n",
       "      <td>1.0</td>\n",
       "      <td>0.0</td>\n",
       "      <td>0.0</td>\n",
       "      <td>1.0</td>\n",
       "      <td>1.0</td>\n",
       "      <td>0.0</td>\n",
       "      <td>関東</td>\n",
       "      <td>埼玉県</td>\n",
       "      <td>埼玉</td>\n",
       "      <td>6b263844241eea98c5a97f1335ea82af</td>\n",
       "    </tr>\n",
       "    <tr>\n",
       "      <th>1</th>\n",
       "      <td>グルメ</td>\n",
       "      <td>グルメ</td>\n",
       "      <td>51</td>\n",
       "      <td>2080</td>\n",
       "      <td>1000</td>\n",
       "      <td>2011-07-01 12:00:00</td>\n",
       "      <td>2011-07-02 12:00:00</td>\n",
       "      <td>1</td>\n",
       "      <td>2011-07-03</td>\n",
       "      <td>2011-12-04</td>\n",
       "      <td>...</td>\n",
       "      <td>1.0</td>\n",
       "      <td>1.0</td>\n",
       "      <td>1.0</td>\n",
       "      <td>1.0</td>\n",
       "      <td>1.0</td>\n",
       "      <td>1.0</td>\n",
       "      <td>関東</td>\n",
       "      <td>千葉県</td>\n",
       "      <td>千葉</td>\n",
       "      <td>cc031f250e8bad1e24060263b9fc0ddd</td>\n",
       "    </tr>\n",
       "    <tr>\n",
       "      <th>2</th>\n",
       "      <td>グルメ</td>\n",
       "      <td>グルメ</td>\n",
       "      <td>50</td>\n",
       "      <td>7000</td>\n",
       "      <td>3500</td>\n",
       "      <td>2011-07-12 12:00:00</td>\n",
       "      <td>2011-07-15 12:00:00</td>\n",
       "      <td>3</td>\n",
       "      <td>2011-07-16</td>\n",
       "      <td>2012-01-11</td>\n",
       "      <td>...</td>\n",
       "      <td>1.0</td>\n",
       "      <td>1.0</td>\n",
       "      <td>1.0</td>\n",
       "      <td>1.0</td>\n",
       "      <td>1.0</td>\n",
       "      <td>1.0</td>\n",
       "      <td>関東</td>\n",
       "      <td>千葉県</td>\n",
       "      <td>千葉</td>\n",
       "      <td>ba5e9b7453ca52ff711635a5d2e8102d</td>\n",
       "    </tr>\n",
       "    <tr>\n",
       "      <th>3</th>\n",
       "      <td>グルメ</td>\n",
       "      <td>グルメ</td>\n",
       "      <td>50</td>\n",
       "      <td>3000</td>\n",
       "      <td>1500</td>\n",
       "      <td>2011-07-09 12:00:00</td>\n",
       "      <td>2011-07-11 12:00:00</td>\n",
       "      <td>2</td>\n",
       "      <td>2011-07-12</td>\n",
       "      <td>2011-12-01</td>\n",
       "      <td>...</td>\n",
       "      <td>1.0</td>\n",
       "      <td>0.0</td>\n",
       "      <td>0.0</td>\n",
       "      <td>1.0</td>\n",
       "      <td>1.0</td>\n",
       "      <td>1.0</td>\n",
       "      <td>関東</td>\n",
       "      <td>千葉県</td>\n",
       "      <td>千葉</td>\n",
       "      <td>3e1ffbedca3569f9e8032d401e8cb4e6</td>\n",
       "    </tr>\n",
       "    <tr>\n",
       "      <th>4</th>\n",
       "      <td>グルメ</td>\n",
       "      <td>グルメ</td>\n",
       "      <td>50</td>\n",
       "      <td>2000</td>\n",
       "      <td>1000</td>\n",
       "      <td>2011-07-05 12:00:00</td>\n",
       "      <td>2011-07-06 12:00:00</td>\n",
       "      <td>1</td>\n",
       "      <td>2011-07-07</td>\n",
       "      <td>2011-12-30</td>\n",
       "      <td>...</td>\n",
       "      <td>1.0</td>\n",
       "      <td>0.0</td>\n",
       "      <td>0.0</td>\n",
       "      <td>1.0</td>\n",
       "      <td>1.0</td>\n",
       "      <td>0.0</td>\n",
       "      <td>関東</td>\n",
       "      <td>千葉県</td>\n",
       "      <td>千葉</td>\n",
       "      <td>782934b6c815b4030ea204eef7d4a734</td>\n",
       "    </tr>\n",
       "  </tbody>\n",
       "</table>\n",
       "<p>5 rows × 24 columns</p>\n",
       "</div>"
      ],
      "text/plain": [
       "  CAPSULE_TEXT GENRE_NAME  PRICE_RATE  CATALOG_PRICE  DISCOUNT_PRICE  \\\n",
       "0          グルメ        グルメ          50           3000            1500   \n",
       "1          グルメ        グルメ          51           2080            1000   \n",
       "2          グルメ        グルメ          50           7000            3500   \n",
       "3          グルメ        グルメ          50           3000            1500   \n",
       "4          グルメ        グルメ          50           2000            1000   \n",
       "\n",
       "              DISPFROM              DISPEND  DISPPERIOD   VALIDFROM  \\\n",
       "0  2011-07-08 12:00:00  2011-07-09 12:00:00           1  2011-07-10   \n",
       "1  2011-07-01 12:00:00  2011-07-02 12:00:00           1  2011-07-03   \n",
       "2  2011-07-12 12:00:00  2011-07-15 12:00:00           3  2011-07-16   \n",
       "3  2011-07-09 12:00:00  2011-07-11 12:00:00           2  2011-07-12   \n",
       "4  2011-07-05 12:00:00  2011-07-06 12:00:00           1  2011-07-07   \n",
       "\n",
       "     VALIDEND  ...  USABLE_DATE_THU  USABLE_DATE_FRI  USABLE_DATE_SAT  \\\n",
       "0  2011-12-08  ...              1.0              0.0              0.0   \n",
       "1  2011-12-04  ...              1.0              1.0              1.0   \n",
       "2  2012-01-11  ...              1.0              1.0              1.0   \n",
       "3  2011-12-01  ...              1.0              0.0              0.0   \n",
       "4  2011-12-30  ...              1.0              0.0              0.0   \n",
       "\n",
       "   USABLE_DATE_SUN  USABLE_DATE_HOLIDAY  USABLE_DATE_BEFORE_HOLIDAY  \\\n",
       "0              1.0                  1.0                         0.0   \n",
       "1              1.0                  1.0                         1.0   \n",
       "2              1.0                  1.0                         1.0   \n",
       "3              1.0                  1.0                         1.0   \n",
       "4              1.0                  1.0                         0.0   \n",
       "\n",
       "   large_area_name  ken_name  small_area_name  \\\n",
       "0               関東       埼玉県               埼玉   \n",
       "1               関東       千葉県               千葉   \n",
       "2               関東       千葉県               千葉   \n",
       "3               関東       千葉県               千葉   \n",
       "4               関東       千葉県               千葉   \n",
       "\n",
       "                     COUPON_ID_hash  \n",
       "0  6b263844241eea98c5a97f1335ea82af  \n",
       "1  cc031f250e8bad1e24060263b9fc0ddd  \n",
       "2  ba5e9b7453ca52ff711635a5d2e8102d  \n",
       "3  3e1ffbedca3569f9e8032d401e8cb4e6  \n",
       "4  782934b6c815b4030ea204eef7d4a734  \n",
       "\n",
       "[5 rows x 24 columns]"
      ]
     },
     "execution_count": 10,
     "metadata": {},
     "output_type": "execute_result"
    }
   ],
   "source": [
    "coupon_list_train.head()"
   ]
  },
  {
   "cell_type": "code",
   "execution_count": 11,
   "id": "f527e8f0",
   "metadata": {},
   "outputs": [
    {
     "data": {
      "text/html": [
       "<div>\n",
       "<style scoped>\n",
       "    .dataframe tbody tr th:only-of-type {\n",
       "        vertical-align: middle;\n",
       "    }\n",
       "\n",
       "    .dataframe tbody tr th {\n",
       "        vertical-align: top;\n",
       "    }\n",
       "\n",
       "    .dataframe thead th {\n",
       "        text-align: right;\n",
       "    }\n",
       "</style>\n",
       "<table border=\"1\" class=\"dataframe\">\n",
       "  <thead>\n",
       "    <tr style=\"text-align: right;\">\n",
       "      <th></th>\n",
       "      <th>PURCHASE_FLG</th>\n",
       "      <th>I_DATE</th>\n",
       "      <th>PAGE_SERIAL</th>\n",
       "      <th>REFERRER_hash</th>\n",
       "      <th>VIEW_COUPON_ID_hash</th>\n",
       "      <th>USER_ID_hash</th>\n",
       "      <th>SESSION_ID_hash</th>\n",
       "      <th>PURCHASEID_hash</th>\n",
       "    </tr>\n",
       "  </thead>\n",
       "  <tbody>\n",
       "    <tr>\n",
       "      <th>0</th>\n",
       "      <td>0</td>\n",
       "      <td>2012-03-28 14:15:00</td>\n",
       "      <td>7</td>\n",
       "      <td>7d3892e54acb559ae36c459978489330</td>\n",
       "      <td>34c48f84026e08355dc3bd19b427f09a</td>\n",
       "      <td>d9dca3cb44bab12ba313eaa681f663eb</td>\n",
       "      <td>673af822615593249e7c6a9a1a6bbb1a</td>\n",
       "      <td>NaN</td>\n",
       "    </tr>\n",
       "    <tr>\n",
       "      <th>1</th>\n",
       "      <td>0</td>\n",
       "      <td>2012-03-28 14:17:28</td>\n",
       "      <td>9</td>\n",
       "      <td>7d3892e54acb559ae36c459978489330</td>\n",
       "      <td>34c48f84026e08355dc3bd19b427f09a</td>\n",
       "      <td>d9dca3cb44bab12ba313eaa681f663eb</td>\n",
       "      <td>673af822615593249e7c6a9a1a6bbb1a</td>\n",
       "      <td>NaN</td>\n",
       "    </tr>\n",
       "    <tr>\n",
       "      <th>2</th>\n",
       "      <td>0</td>\n",
       "      <td>2012-03-28 14:20:05</td>\n",
       "      <td>16</td>\n",
       "      <td>7d3892e54acb559ae36c459978489330</td>\n",
       "      <td>17c450c3b470c045d35ec22b02daa690</td>\n",
       "      <td>d9dca3cb44bab12ba313eaa681f663eb</td>\n",
       "      <td>673af822615593249e7c6a9a1a6bbb1a</td>\n",
       "      <td>NaN</td>\n",
       "    </tr>\n",
       "    <tr>\n",
       "      <th>3</th>\n",
       "      <td>0</td>\n",
       "      <td>2012-03-28 14:23:16</td>\n",
       "      <td>18</td>\n",
       "      <td>7d3892e54acb559ae36c459978489330</td>\n",
       "      <td>91a15e6a95d09e5e01b50747833b317d</td>\n",
       "      <td>d9dca3cb44bab12ba313eaa681f663eb</td>\n",
       "      <td>673af822615593249e7c6a9a1a6bbb1a</td>\n",
       "      <td>NaN</td>\n",
       "    </tr>\n",
       "    <tr>\n",
       "      <th>4</th>\n",
       "      <td>0</td>\n",
       "      <td>2012-03-28 14:26:25</td>\n",
       "      <td>20</td>\n",
       "      <td>7d3892e54acb559ae36c459978489330</td>\n",
       "      <td>96fcbc8f6e45d5a2de1661eb140c6e82</td>\n",
       "      <td>d9dca3cb44bab12ba313eaa681f663eb</td>\n",
       "      <td>673af822615593249e7c6a9a1a6bbb1a</td>\n",
       "      <td>NaN</td>\n",
       "    </tr>\n",
       "  </tbody>\n",
       "</table>\n",
       "</div>"
      ],
      "text/plain": [
       "   PURCHASE_FLG               I_DATE  PAGE_SERIAL  \\\n",
       "0             0  2012-03-28 14:15:00            7   \n",
       "1             0  2012-03-28 14:17:28            9   \n",
       "2             0  2012-03-28 14:20:05           16   \n",
       "3             0  2012-03-28 14:23:16           18   \n",
       "4             0  2012-03-28 14:26:25           20   \n",
       "\n",
       "                      REFERRER_hash               VIEW_COUPON_ID_hash  \\\n",
       "0  7d3892e54acb559ae36c459978489330  34c48f84026e08355dc3bd19b427f09a   \n",
       "1  7d3892e54acb559ae36c459978489330  34c48f84026e08355dc3bd19b427f09a   \n",
       "2  7d3892e54acb559ae36c459978489330  17c450c3b470c045d35ec22b02daa690   \n",
       "3  7d3892e54acb559ae36c459978489330  91a15e6a95d09e5e01b50747833b317d   \n",
       "4  7d3892e54acb559ae36c459978489330  96fcbc8f6e45d5a2de1661eb140c6e82   \n",
       "\n",
       "                       USER_ID_hash                   SESSION_ID_hash  \\\n",
       "0  d9dca3cb44bab12ba313eaa681f663eb  673af822615593249e7c6a9a1a6bbb1a   \n",
       "1  d9dca3cb44bab12ba313eaa681f663eb  673af822615593249e7c6a9a1a6bbb1a   \n",
       "2  d9dca3cb44bab12ba313eaa681f663eb  673af822615593249e7c6a9a1a6bbb1a   \n",
       "3  d9dca3cb44bab12ba313eaa681f663eb  673af822615593249e7c6a9a1a6bbb1a   \n",
       "4  d9dca3cb44bab12ba313eaa681f663eb  673af822615593249e7c6a9a1a6bbb1a   \n",
       "\n",
       "  PURCHASEID_hash  \n",
       "0             NaN  \n",
       "1             NaN  \n",
       "2             NaN  \n",
       "3             NaN  \n",
       "4             NaN  "
      ]
     },
     "execution_count": 11,
     "metadata": {},
     "output_type": "execute_result"
    }
   ],
   "source": [
    "coupon_visit_train.head()"
   ]
  },
  {
   "cell_type": "code",
   "execution_count": 12,
   "id": "7ceda270",
   "metadata": {},
   "outputs": [
    {
     "data": {
      "text/plain": [
       "114775"
      ]
     },
     "execution_count": 12,
     "metadata": {},
     "output_type": "execute_result"
    }
   ],
   "source": [
    "coupon_purchased = coupon_visit_train.PURCHASEID_hash.unique()\n",
    "len(coupon_purchased)"
   ]
  },
  {
   "cell_type": "code",
   "execution_count": 13,
   "id": "4bd11833",
   "metadata": {},
   "outputs": [
    {
     "data": {
      "text/html": [
       "<div>\n",
       "<style scoped>\n",
       "    .dataframe tbody tr th:only-of-type {\n",
       "        vertical-align: middle;\n",
       "    }\n",
       "\n",
       "    .dataframe tbody tr th {\n",
       "        vertical-align: top;\n",
       "    }\n",
       "\n",
       "    .dataframe thead th {\n",
       "        text-align: right;\n",
       "    }\n",
       "</style>\n",
       "<table border=\"1\" class=\"dataframe\">\n",
       "  <thead>\n",
       "    <tr style=\"text-align: right;\">\n",
       "      <th></th>\n",
       "      <th>PREF_NAME</th>\n",
       "      <th>PREFECTUAL_OFFICE</th>\n",
       "      <th>LATITUDE</th>\n",
       "      <th>LONGITUDE</th>\n",
       "    </tr>\n",
       "  </thead>\n",
       "  <tbody>\n",
       "    <tr>\n",
       "      <th>0</th>\n",
       "      <td>北海道</td>\n",
       "      <td>札幌市</td>\n",
       "      <td>43.063968</td>\n",
       "      <td>141.347899</td>\n",
       "    </tr>\n",
       "    <tr>\n",
       "      <th>1</th>\n",
       "      <td>青森県</td>\n",
       "      <td>青森市</td>\n",
       "      <td>40.824623</td>\n",
       "      <td>140.740593</td>\n",
       "    </tr>\n",
       "    <tr>\n",
       "      <th>2</th>\n",
       "      <td>岩手県</td>\n",
       "      <td>盛岡市</td>\n",
       "      <td>39.703531</td>\n",
       "      <td>141.152667</td>\n",
       "    </tr>\n",
       "    <tr>\n",
       "      <th>3</th>\n",
       "      <td>宮城県</td>\n",
       "      <td>仙台市</td>\n",
       "      <td>38.268839</td>\n",
       "      <td>140.872103</td>\n",
       "    </tr>\n",
       "    <tr>\n",
       "      <th>4</th>\n",
       "      <td>秋田県</td>\n",
       "      <td>秋田市</td>\n",
       "      <td>39.718600</td>\n",
       "      <td>140.102334</td>\n",
       "    </tr>\n",
       "  </tbody>\n",
       "</table>\n",
       "</div>"
      ],
      "text/plain": [
       "  PREF_NAME PREFECTUAL_OFFICE   LATITUDE   LONGITUDE\n",
       "0       北海道               札幌市  43.063968  141.347899\n",
       "1       青森県               青森市  40.824623  140.740593\n",
       "2       岩手県               盛岡市  39.703531  141.152667\n",
       "3       宮城県               仙台市  38.268839  140.872103\n",
       "4       秋田県               秋田市  39.718600  140.102334"
      ]
     },
     "execution_count": 13,
     "metadata": {},
     "output_type": "execute_result"
    }
   ],
   "source": [
    "prefecture_locations.head()"
   ]
  },
  {
   "cell_type": "code",
   "execution_count": 14,
   "id": "8e2d66ea",
   "metadata": {
    "scrolled": true
   },
   "outputs": [
    {
     "data": {
      "text/html": [
       "<div>\n",
       "<style scoped>\n",
       "    .dataframe tbody tr th:only-of-type {\n",
       "        vertical-align: middle;\n",
       "    }\n",
       "\n",
       "    .dataframe tbody tr th {\n",
       "        vertical-align: top;\n",
       "    }\n",
       "\n",
       "    .dataframe thead th {\n",
       "        text-align: right;\n",
       "    }\n",
       "</style>\n",
       "<table border=\"1\" class=\"dataframe\">\n",
       "  <thead>\n",
       "    <tr style=\"text-align: right;\">\n",
       "      <th></th>\n",
       "      <th>USER_ID_hash</th>\n",
       "      <th>PURCHASED_COUPONS</th>\n",
       "    </tr>\n",
       "  </thead>\n",
       "  <tbody>\n",
       "    <tr>\n",
       "      <th>0</th>\n",
       "      <td>0000b53e182165208887ba65c079fc21</td>\n",
       "      <td>NaN</td>\n",
       "    </tr>\n",
       "    <tr>\n",
       "      <th>1</th>\n",
       "      <td>00035b86e6884589ec8d28fbf2fe7757</td>\n",
       "      <td>NaN</td>\n",
       "    </tr>\n",
       "    <tr>\n",
       "      <th>2</th>\n",
       "      <td>0005b1068d5f2b8f2a7c978fcfe1ca06</td>\n",
       "      <td>NaN</td>\n",
       "    </tr>\n",
       "    <tr>\n",
       "      <th>3</th>\n",
       "      <td>000cc06982785a19e2a2fdb40b1c9d59</td>\n",
       "      <td>NaN</td>\n",
       "    </tr>\n",
       "    <tr>\n",
       "      <th>4</th>\n",
       "      <td>0013518e41c416cd6a181d277dd8ca0b</td>\n",
       "      <td>NaN</td>\n",
       "    </tr>\n",
       "  </tbody>\n",
       "</table>\n",
       "</div>"
      ],
      "text/plain": [
       "                       USER_ID_hash  PURCHASED_COUPONS\n",
       "0  0000b53e182165208887ba65c079fc21                NaN\n",
       "1  00035b86e6884589ec8d28fbf2fe7757                NaN\n",
       "2  0005b1068d5f2b8f2a7c978fcfe1ca06                NaN\n",
       "3  000cc06982785a19e2a2fdb40b1c9d59                NaN\n",
       "4  0013518e41c416cd6a181d277dd8ca0b                NaN"
      ]
     },
     "execution_count": 14,
     "metadata": {},
     "output_type": "execute_result"
    }
   ],
   "source": [
    "sample_submission.head()"
   ]
  },
  {
   "cell_type": "code",
   "execution_count": 15,
   "id": "80f41321",
   "metadata": {},
   "outputs": [
    {
     "data": {
      "text/html": [
       "<div>\n",
       "<style scoped>\n",
       "    .dataframe tbody tr th:only-of-type {\n",
       "        vertical-align: middle;\n",
       "    }\n",
       "\n",
       "    .dataframe tbody tr th {\n",
       "        vertical-align: top;\n",
       "    }\n",
       "\n",
       "    .dataframe thead th {\n",
       "        text-align: right;\n",
       "    }\n",
       "</style>\n",
       "<table border=\"1\" class=\"dataframe\">\n",
       "  <thead>\n",
       "    <tr style=\"text-align: right;\">\n",
       "      <th></th>\n",
       "      <th>REG_DATE</th>\n",
       "      <th>SEX_ID</th>\n",
       "      <th>AGE</th>\n",
       "      <th>WITHDRAW_DATE</th>\n",
       "      <th>PREF_NAME</th>\n",
       "      <th>USER_ID_hash</th>\n",
       "    </tr>\n",
       "  </thead>\n",
       "  <tbody>\n",
       "    <tr>\n",
       "      <th>0</th>\n",
       "      <td>2012-03-28 14:14:18</td>\n",
       "      <td>f</td>\n",
       "      <td>25</td>\n",
       "      <td>NaN</td>\n",
       "      <td>NaN</td>\n",
       "      <td>d9dca3cb44bab12ba313eaa681f663eb</td>\n",
       "    </tr>\n",
       "    <tr>\n",
       "      <th>1</th>\n",
       "      <td>2011-05-18 00:41:48</td>\n",
       "      <td>f</td>\n",
       "      <td>34</td>\n",
       "      <td>NaN</td>\n",
       "      <td>東京都</td>\n",
       "      <td>560574a339f1b25e57b0221e486907ed</td>\n",
       "    </tr>\n",
       "    <tr>\n",
       "      <th>2</th>\n",
       "      <td>2011-06-13 16:36:58</td>\n",
       "      <td>m</td>\n",
       "      <td>41</td>\n",
       "      <td>NaN</td>\n",
       "      <td>愛知県</td>\n",
       "      <td>e66ae91b978b3229f8fd858c80615b73</td>\n",
       "    </tr>\n",
       "    <tr>\n",
       "      <th>3</th>\n",
       "      <td>2012-02-08 12:56:15</td>\n",
       "      <td>m</td>\n",
       "      <td>25</td>\n",
       "      <td>NaN</td>\n",
       "      <td>NaN</td>\n",
       "      <td>43fc18f32eafb05713ec02935e2c2825</td>\n",
       "    </tr>\n",
       "    <tr>\n",
       "      <th>4</th>\n",
       "      <td>2011-05-22 23:43:56</td>\n",
       "      <td>m</td>\n",
       "      <td>62</td>\n",
       "      <td>NaN</td>\n",
       "      <td>神奈川県</td>\n",
       "      <td>dc6df8aa860f8db0d710ce9d4839840f</td>\n",
       "    </tr>\n",
       "  </tbody>\n",
       "</table>\n",
       "</div>"
      ],
      "text/plain": [
       "              REG_DATE SEX_ID  AGE WITHDRAW_DATE PREF_NAME  \\\n",
       "0  2012-03-28 14:14:18      f   25           NaN       NaN   \n",
       "1  2011-05-18 00:41:48      f   34           NaN       東京都   \n",
       "2  2011-06-13 16:36:58      m   41           NaN       愛知県   \n",
       "3  2012-02-08 12:56:15      m   25           NaN       NaN   \n",
       "4  2011-05-22 23:43:56      m   62           NaN      神奈川県   \n",
       "\n",
       "                       USER_ID_hash  \n",
       "0  d9dca3cb44bab12ba313eaa681f663eb  \n",
       "1  560574a339f1b25e57b0221e486907ed  \n",
       "2  e66ae91b978b3229f8fd858c80615b73  \n",
       "3  43fc18f32eafb05713ec02935e2c2825  \n",
       "4  dc6df8aa860f8db0d710ce9d4839840f  "
      ]
     },
     "execution_count": 15,
     "metadata": {},
     "output_type": "execute_result"
    }
   ],
   "source": [
    "user_list.head()"
   ]
  },
  {
   "cell_type": "code",
   "execution_count": 16,
   "id": "c63e66c3",
   "metadata": {},
   "outputs": [
    {
     "data": {
      "text/plain": [
       "Index(['REG_DATE', 'SEX_ID', 'AGE', 'WITHDRAW_DATE', 'PREF_NAME',\n",
       "       'USER_ID_hash'],\n",
       "      dtype='object')"
      ]
     },
     "execution_count": 16,
     "metadata": {},
     "output_type": "execute_result"
    }
   ],
   "source": [
    "user_list.columns"
   ]
  },
  {
   "cell_type": "code",
   "execution_count": 17,
   "id": "042fb4b8",
   "metadata": {},
   "outputs": [],
   "source": [
    "user_feature = user_list.loc[:, ['SEX_ID', 'AGE', 'PREF_NAME','USER_ID_hash']]"
   ]
  },
  {
   "cell_type": "code",
   "execution_count": 18,
   "id": "abb839a6",
   "metadata": {},
   "outputs": [
    {
     "data": {
      "text/plain": [
       "<bound method NDFrame.head of       SEX_ID  AGE PREF_NAME                      USER_ID_hash\n",
       "0          f   25       NaN  d9dca3cb44bab12ba313eaa681f663eb\n",
       "1          f   34       東京都  560574a339f1b25e57b0221e486907ed\n",
       "2          m   41       愛知県  e66ae91b978b3229f8fd858c80615b73\n",
       "3          m   25       NaN  43fc18f32eafb05713ec02935e2c2825\n",
       "4          m   62      神奈川県  dc6df8aa860f8db0d710ce9d4839840f\n",
       "...      ...  ...       ...                               ...\n",
       "22868      f   24       NaN  2f0a2f36a9f63b6ba2fa3a7e53bef906\n",
       "22869      m   41       京都府  6ae7811a9c7c58546d6a1567ab098c21\n",
       "22870      f   35       NaN  a417308c6a79ae0d86976401ec2e3b04\n",
       "22871      f   59       NaN  4937ec1c86e71d901c4ccc0357cff0b1\n",
       "22872      f   38       埼玉県  280f0cedda5c4b171ee6245889659571\n",
       "\n",
       "[22873 rows x 4 columns]>"
      ]
     },
     "execution_count": 18,
     "metadata": {},
     "output_type": "execute_result"
    }
   ],
   "source": [
    "user_feature.head"
   ]
  },
  {
   "cell_type": "code",
   "execution_count": 19,
   "id": "282ee472",
   "metadata": {},
   "outputs": [],
   "source": [
    "coupon_feature = coupon_list_train.loc[:, ['PRICE_RATE', 'CATALOG_PRICE',\n",
    "       'DISCOUNT_PRICE', 'USABLE_DATE_MON', 'USABLE_DATE_TUE',\n",
    "       'USABLE_DATE_WED', 'USABLE_DATE_THU', 'USABLE_DATE_FRI',\n",
    "       'USABLE_DATE_SAT', 'USABLE_DATE_SUN', 'USABLE_DATE_HOLIDAY',\n",
    "       'USABLE_DATE_BEFORE_HOLIDAY', 'COUPON_ID_hash']]"
   ]
  },
  {
   "cell_type": "code",
   "execution_count": 20,
   "id": "d6183087",
   "metadata": {},
   "outputs": [
    {
     "data": {
      "text/html": [
       "<div>\n",
       "<style scoped>\n",
       "    .dataframe tbody tr th:only-of-type {\n",
       "        vertical-align: middle;\n",
       "    }\n",
       "\n",
       "    .dataframe tbody tr th {\n",
       "        vertical-align: top;\n",
       "    }\n",
       "\n",
       "    .dataframe thead th {\n",
       "        text-align: right;\n",
       "    }\n",
       "</style>\n",
       "<table border=\"1\" class=\"dataframe\">\n",
       "  <thead>\n",
       "    <tr style=\"text-align: right;\">\n",
       "      <th></th>\n",
       "      <th>PRICE_RATE</th>\n",
       "      <th>CATALOG_PRICE</th>\n",
       "      <th>DISCOUNT_PRICE</th>\n",
       "      <th>USABLE_DATE_MON</th>\n",
       "      <th>USABLE_DATE_TUE</th>\n",
       "      <th>USABLE_DATE_WED</th>\n",
       "      <th>USABLE_DATE_THU</th>\n",
       "      <th>USABLE_DATE_FRI</th>\n",
       "      <th>USABLE_DATE_SAT</th>\n",
       "      <th>USABLE_DATE_SUN</th>\n",
       "      <th>USABLE_DATE_HOLIDAY</th>\n",
       "      <th>USABLE_DATE_BEFORE_HOLIDAY</th>\n",
       "      <th>COUPON_ID_hash</th>\n",
       "    </tr>\n",
       "  </thead>\n",
       "  <tbody>\n",
       "    <tr>\n",
       "      <th>0</th>\n",
       "      <td>50</td>\n",
       "      <td>3000</td>\n",
       "      <td>1500</td>\n",
       "      <td>1.0</td>\n",
       "      <td>1.0</td>\n",
       "      <td>1.0</td>\n",
       "      <td>1.0</td>\n",
       "      <td>0.0</td>\n",
       "      <td>0.0</td>\n",
       "      <td>1.0</td>\n",
       "      <td>1.0</td>\n",
       "      <td>0.0</td>\n",
       "      <td>6b263844241eea98c5a97f1335ea82af</td>\n",
       "    </tr>\n",
       "    <tr>\n",
       "      <th>1</th>\n",
       "      <td>51</td>\n",
       "      <td>2080</td>\n",
       "      <td>1000</td>\n",
       "      <td>1.0</td>\n",
       "      <td>1.0</td>\n",
       "      <td>1.0</td>\n",
       "      <td>1.0</td>\n",
       "      <td>1.0</td>\n",
       "      <td>1.0</td>\n",
       "      <td>1.0</td>\n",
       "      <td>1.0</td>\n",
       "      <td>1.0</td>\n",
       "      <td>cc031f250e8bad1e24060263b9fc0ddd</td>\n",
       "    </tr>\n",
       "    <tr>\n",
       "      <th>2</th>\n",
       "      <td>50</td>\n",
       "      <td>7000</td>\n",
       "      <td>3500</td>\n",
       "      <td>0.0</td>\n",
       "      <td>1.0</td>\n",
       "      <td>1.0</td>\n",
       "      <td>1.0</td>\n",
       "      <td>1.0</td>\n",
       "      <td>1.0</td>\n",
       "      <td>1.0</td>\n",
       "      <td>1.0</td>\n",
       "      <td>1.0</td>\n",
       "      <td>ba5e9b7453ca52ff711635a5d2e8102d</td>\n",
       "    </tr>\n",
       "    <tr>\n",
       "      <th>3</th>\n",
       "      <td>50</td>\n",
       "      <td>3000</td>\n",
       "      <td>1500</td>\n",
       "      <td>1.0</td>\n",
       "      <td>1.0</td>\n",
       "      <td>1.0</td>\n",
       "      <td>1.0</td>\n",
       "      <td>0.0</td>\n",
       "      <td>0.0</td>\n",
       "      <td>1.0</td>\n",
       "      <td>1.0</td>\n",
       "      <td>1.0</td>\n",
       "      <td>3e1ffbedca3569f9e8032d401e8cb4e6</td>\n",
       "    </tr>\n",
       "    <tr>\n",
       "      <th>4</th>\n",
       "      <td>50</td>\n",
       "      <td>2000</td>\n",
       "      <td>1000</td>\n",
       "      <td>1.0</td>\n",
       "      <td>1.0</td>\n",
       "      <td>0.0</td>\n",
       "      <td>1.0</td>\n",
       "      <td>0.0</td>\n",
       "      <td>0.0</td>\n",
       "      <td>1.0</td>\n",
       "      <td>1.0</td>\n",
       "      <td>0.0</td>\n",
       "      <td>782934b6c815b4030ea204eef7d4a734</td>\n",
       "    </tr>\n",
       "  </tbody>\n",
       "</table>\n",
       "</div>"
      ],
      "text/plain": [
       "   PRICE_RATE  CATALOG_PRICE  DISCOUNT_PRICE  USABLE_DATE_MON  \\\n",
       "0          50           3000            1500              1.0   \n",
       "1          51           2080            1000              1.0   \n",
       "2          50           7000            3500              0.0   \n",
       "3          50           3000            1500              1.0   \n",
       "4          50           2000            1000              1.0   \n",
       "\n",
       "   USABLE_DATE_TUE  USABLE_DATE_WED  USABLE_DATE_THU  USABLE_DATE_FRI  \\\n",
       "0              1.0              1.0              1.0              0.0   \n",
       "1              1.0              1.0              1.0              1.0   \n",
       "2              1.0              1.0              1.0              1.0   \n",
       "3              1.0              1.0              1.0              0.0   \n",
       "4              1.0              0.0              1.0              0.0   \n",
       "\n",
       "   USABLE_DATE_SAT  USABLE_DATE_SUN  USABLE_DATE_HOLIDAY  \\\n",
       "0              0.0              1.0                  1.0   \n",
       "1              1.0              1.0                  1.0   \n",
       "2              1.0              1.0                  1.0   \n",
       "3              0.0              1.0                  1.0   \n",
       "4              0.0              1.0                  1.0   \n",
       "\n",
       "   USABLE_DATE_BEFORE_HOLIDAY                    COUPON_ID_hash  \n",
       "0                         0.0  6b263844241eea98c5a97f1335ea82af  \n",
       "1                         1.0  cc031f250e8bad1e24060263b9fc0ddd  \n",
       "2                         1.0  ba5e9b7453ca52ff711635a5d2e8102d  \n",
       "3                         1.0  3e1ffbedca3569f9e8032d401e8cb4e6  \n",
       "4                         0.0  782934b6c815b4030ea204eef7d4a734  "
      ]
     },
     "execution_count": 20,
     "metadata": {},
     "output_type": "execute_result"
    }
   ],
   "source": [
    "coupon_feature.head()"
   ]
  },
  {
   "cell_type": "code",
   "execution_count": 21,
   "id": "db272278",
   "metadata": {},
   "outputs": [
    {
     "data": {
      "text/plain": [
       "Index(['PURCHASE_FLG', 'I_DATE', 'PAGE_SERIAL', 'REFERRER_hash',\n",
       "       'VIEW_COUPON_ID_hash', 'USER_ID_hash', 'SESSION_ID_hash',\n",
       "       'PURCHASEID_hash'],\n",
       "      dtype='object')"
      ]
     },
     "execution_count": 21,
     "metadata": {},
     "output_type": "execute_result"
    }
   ],
   "source": [
    "coupon_visit_train.columns"
   ]
  },
  {
   "cell_type": "code",
   "execution_count": 22,
   "id": "6ed11065",
   "metadata": {},
   "outputs": [],
   "source": [
    "pre_x = user_feature.merge(coupon_visit_train, on = 'USER_ID_hash')"
   ]
  },
  {
   "cell_type": "code",
   "execution_count": 23,
   "id": "0fc7d904",
   "metadata": {},
   "outputs": [
    {
     "data": {
      "text/plain": [
       "Index(['SEX_ID', 'AGE', 'PREF_NAME', 'USER_ID_hash', 'PURCHASE_FLG', 'I_DATE',\n",
       "       'PAGE_SERIAL', 'REFERRER_hash', 'VIEW_COUPON_ID_hash',\n",
       "       'SESSION_ID_hash', 'PURCHASEID_hash'],\n",
       "      dtype='object')"
      ]
     },
     "execution_count": 23,
     "metadata": {},
     "output_type": "execute_result"
    }
   ],
   "source": [
    "pre_x.columns"
   ]
  },
  {
   "cell_type": "code",
   "execution_count": 24,
   "id": "9a42e63e",
   "metadata": {},
   "outputs": [],
   "source": [
    "pre_x = coupon_feature.merge(pre_x, left_on = 'COUPON_ID_hash', right_on = 'VIEW_COUPON_ID_hash')"
   ]
  },
  {
   "cell_type": "code",
   "execution_count": 47,
   "id": "2760c785",
   "metadata": {},
   "outputs": [
    {
     "data": {
      "text/html": [
       "<div>\n",
       "<style scoped>\n",
       "    .dataframe tbody tr th:only-of-type {\n",
       "        vertical-align: middle;\n",
       "    }\n",
       "\n",
       "    .dataframe tbody tr th {\n",
       "        vertical-align: top;\n",
       "    }\n",
       "\n",
       "    .dataframe thead th {\n",
       "        text-align: right;\n",
       "    }\n",
       "</style>\n",
       "<table border=\"1\" class=\"dataframe\">\n",
       "  <thead>\n",
       "    <tr style=\"text-align: right;\">\n",
       "      <th></th>\n",
       "      <th>COUPON_ID_hash</th>\n",
       "      <th>VIEW_COUPON_ID_hash</th>\n",
       "    </tr>\n",
       "  </thead>\n",
       "  <tbody>\n",
       "    <tr>\n",
       "      <th>0</th>\n",
       "      <td>6b263844241eea98c5a97f1335ea82af</td>\n",
       "      <td>6b263844241eea98c5a97f1335ea82af</td>\n",
       "    </tr>\n",
       "    <tr>\n",
       "      <th>1</th>\n",
       "      <td>6b263844241eea98c5a97f1335ea82af</td>\n",
       "      <td>6b263844241eea98c5a97f1335ea82af</td>\n",
       "    </tr>\n",
       "    <tr>\n",
       "      <th>2</th>\n",
       "      <td>6b263844241eea98c5a97f1335ea82af</td>\n",
       "      <td>6b263844241eea98c5a97f1335ea82af</td>\n",
       "    </tr>\n",
       "    <tr>\n",
       "      <th>3</th>\n",
       "      <td>6b263844241eea98c5a97f1335ea82af</td>\n",
       "      <td>6b263844241eea98c5a97f1335ea82af</td>\n",
       "    </tr>\n",
       "    <tr>\n",
       "      <th>4</th>\n",
       "      <td>6b263844241eea98c5a97f1335ea82af</td>\n",
       "      <td>6b263844241eea98c5a97f1335ea82af</td>\n",
       "    </tr>\n",
       "    <tr>\n",
       "      <th>...</th>\n",
       "      <td>...</td>\n",
       "      <td>...</td>\n",
       "    </tr>\n",
       "    <tr>\n",
       "      <th>2517201</th>\n",
       "      <td>79303de03e3af7105cded55960d62ac3</td>\n",
       "      <td>79303de03e3af7105cded55960d62ac3</td>\n",
       "    </tr>\n",
       "    <tr>\n",
       "      <th>2517202</th>\n",
       "      <td>79303de03e3af7105cded55960d62ac3</td>\n",
       "      <td>79303de03e3af7105cded55960d62ac3</td>\n",
       "    </tr>\n",
       "    <tr>\n",
       "      <th>2517203</th>\n",
       "      <td>79303de03e3af7105cded55960d62ac3</td>\n",
       "      <td>79303de03e3af7105cded55960d62ac3</td>\n",
       "    </tr>\n",
       "    <tr>\n",
       "      <th>2517204</th>\n",
       "      <td>79303de03e3af7105cded55960d62ac3</td>\n",
       "      <td>79303de03e3af7105cded55960d62ac3</td>\n",
       "    </tr>\n",
       "    <tr>\n",
       "      <th>2517205</th>\n",
       "      <td>79303de03e3af7105cded55960d62ac3</td>\n",
       "      <td>79303de03e3af7105cded55960d62ac3</td>\n",
       "    </tr>\n",
       "  </tbody>\n",
       "</table>\n",
       "<p>2517206 rows × 2 columns</p>\n",
       "</div>"
      ],
      "text/plain": [
       "                           COUPON_ID_hash               VIEW_COUPON_ID_hash\n",
       "0        6b263844241eea98c5a97f1335ea82af  6b263844241eea98c5a97f1335ea82af\n",
       "1        6b263844241eea98c5a97f1335ea82af  6b263844241eea98c5a97f1335ea82af\n",
       "2        6b263844241eea98c5a97f1335ea82af  6b263844241eea98c5a97f1335ea82af\n",
       "3        6b263844241eea98c5a97f1335ea82af  6b263844241eea98c5a97f1335ea82af\n",
       "4        6b263844241eea98c5a97f1335ea82af  6b263844241eea98c5a97f1335ea82af\n",
       "...                                   ...                               ...\n",
       "2517201  79303de03e3af7105cded55960d62ac3  79303de03e3af7105cded55960d62ac3\n",
       "2517202  79303de03e3af7105cded55960d62ac3  79303de03e3af7105cded55960d62ac3\n",
       "2517203  79303de03e3af7105cded55960d62ac3  79303de03e3af7105cded55960d62ac3\n",
       "2517204  79303de03e3af7105cded55960d62ac3  79303de03e3af7105cded55960d62ac3\n",
       "2517205  79303de03e3af7105cded55960d62ac3  79303de03e3af7105cded55960d62ac3\n",
       "\n",
       "[2517206 rows x 2 columns]"
      ]
     },
     "execution_count": 47,
     "metadata": {},
     "output_type": "execute_result"
    }
   ],
   "source": [
    "pre_x[['COUPON_ID_hash','VIEW_COUPON_ID_hash']]"
   ]
  },
  {
   "cell_type": "code",
   "execution_count": 26,
   "id": "45446cc1",
   "metadata": {},
   "outputs": [
    {
     "data": {
      "text/plain": [
       "Index(['PRICE_RATE', 'CATALOG_PRICE', 'DISCOUNT_PRICE', 'USABLE_DATE_MON',\n",
       "       'USABLE_DATE_TUE', 'USABLE_DATE_WED', 'USABLE_DATE_THU',\n",
       "       'USABLE_DATE_FRI', 'USABLE_DATE_SAT', 'USABLE_DATE_SUN',\n",
       "       'USABLE_DATE_HOLIDAY', 'USABLE_DATE_BEFORE_HOLIDAY', 'COUPON_ID_hash',\n",
       "       'SEX_ID', 'AGE', 'PREF_NAME', 'USER_ID_hash', 'PURCHASE_FLG', 'I_DATE',\n",
       "       'PAGE_SERIAL', 'REFERRER_hash', 'VIEW_COUPON_ID_hash',\n",
       "       'SESSION_ID_hash', 'PURCHASEID_hash'],\n",
       "      dtype='object')"
      ]
     },
     "execution_count": 26,
     "metadata": {},
     "output_type": "execute_result"
    }
   ],
   "source": [
    "pre_x.columns"
   ]
  },
  {
   "cell_type": "code",
   "execution_count": 27,
   "id": "f92e2ef4",
   "metadata": {},
   "outputs": [
    {
     "data": {
      "text/plain": [
       "(2517206, 24)"
      ]
     },
     "execution_count": 27,
     "metadata": {},
     "output_type": "execute_result"
    }
   ],
   "source": [
    "pre_x.shape"
   ]
  },
  {
   "cell_type": "code",
   "execution_count": 28,
   "id": "8bb4c2e0",
   "metadata": {},
   "outputs": [],
   "source": [
    "full_data =  pre_x.loc[:, ['PRICE_RATE', 'COUPON_ID_hash',\n",
    "       'SEX_ID', 'USER_ID_hash', 'PURCHASE_FLG']]"
   ]
  },
  {
   "cell_type": "code",
   "execution_count": 29,
   "id": "cc98f30b",
   "metadata": {},
   "outputs": [],
   "source": [
    "full_data.set_index(['COUPON_ID_hash', 'USER_ID_hash'], inplace = True)"
   ]
  },
  {
   "cell_type": "code",
   "execution_count": 30,
   "id": "02713bb0",
   "metadata": {},
   "outputs": [],
   "source": [
    "train_x = full_data[['PRICE_RATE', 'SEX_ID']]"
   ]
  },
  {
   "cell_type": "code",
   "execution_count": 31,
   "id": "80964562",
   "metadata": {},
   "outputs": [],
   "source": [
    "train_y = full_data['PURCHASE_FLG']"
   ]
  },
  {
   "cell_type": "code",
   "execution_count": 38,
   "id": "94de1813",
   "metadata": {
    "scrolled": true
   },
   "outputs": [
    {
     "name": "stderr",
     "output_type": "stream",
     "text": [
      "<ipython-input-38-c6c422ca7b42>:1: SettingWithCopyWarning: \n",
      "A value is trying to be set on a copy of a slice from a DataFrame\n",
      "\n",
      "See the caveats in the documentation: https://pandas.pydata.org/pandas-docs/stable/user_guide/indexing.html#returning-a-view-versus-a-copy\n",
      "  train_x['SEX_ID'][train_x['SEX_ID']=='m'] = 1\n",
      "/Users/lifangshi/miniconda3/envs/coupon_purchase_prediction/lib/python3.9/site-packages/pandas/core/series.py:992: SettingWithCopyWarning: \n",
      "A value is trying to be set on a copy of a slice from a DataFrame\n",
      "\n",
      "See the caveats in the documentation: https://pandas.pydata.org/pandas-docs/stable/user_guide/indexing.html#returning-a-view-versus-a-copy\n",
      "  self._where(~key, value, inplace=True)\n",
      "<ipython-input-38-c6c422ca7b42>:2: SettingWithCopyWarning: \n",
      "A value is trying to be set on a copy of a slice from a DataFrame\n",
      "\n",
      "See the caveats in the documentation: https://pandas.pydata.org/pandas-docs/stable/user_guide/indexing.html#returning-a-view-versus-a-copy\n",
      "  train_x['SEX_ID'][train_x['SEX_ID']=='f'] = 0\n"
     ]
    }
   ],
   "source": [
    "train_x['SEX_ID'][train_x['SEX_ID']=='m'] = 1\n",
    "train_x['SEX_ID'][train_x['SEX_ID']=='f'] = 0"
   ]
  },
  {
   "cell_type": "code",
   "execution_count": 39,
   "id": "06bc3876",
   "metadata": {},
   "outputs": [
    {
     "data": {
      "text/html": [
       "<div>\n",
       "<style scoped>\n",
       "    .dataframe tbody tr th:only-of-type {\n",
       "        vertical-align: middle;\n",
       "    }\n",
       "\n",
       "    .dataframe tbody tr th {\n",
       "        vertical-align: top;\n",
       "    }\n",
       "\n",
       "    .dataframe thead th {\n",
       "        text-align: right;\n",
       "    }\n",
       "</style>\n",
       "<table border=\"1\" class=\"dataframe\">\n",
       "  <thead>\n",
       "    <tr style=\"text-align: right;\">\n",
       "      <th></th>\n",
       "      <th></th>\n",
       "      <th>PRICE_RATE</th>\n",
       "      <th>SEX_ID</th>\n",
       "    </tr>\n",
       "    <tr>\n",
       "      <th>COUPON_ID_hash</th>\n",
       "      <th>USER_ID_hash</th>\n",
       "      <th></th>\n",
       "      <th></th>\n",
       "    </tr>\n",
       "  </thead>\n",
       "  <tbody>\n",
       "    <tr>\n",
       "      <th rowspan=\"5\" valign=\"top\">6b263844241eea98c5a97f1335ea82af</th>\n",
       "      <th>6c3cbc5c3db3c673ffb52cd946dce194</th>\n",
       "      <td>50</td>\n",
       "      <td>1</td>\n",
       "    </tr>\n",
       "    <tr>\n",
       "      <th>6c3cbc5c3db3c673ffb52cd946dce194</th>\n",
       "      <td>50</td>\n",
       "      <td>1</td>\n",
       "    </tr>\n",
       "    <tr>\n",
       "      <th>6c3cbc5c3db3c673ffb52cd946dce194</th>\n",
       "      <td>50</td>\n",
       "      <td>1</td>\n",
       "    </tr>\n",
       "    <tr>\n",
       "      <th>cdeb7bb2ba2fb35aa988a78f2aac1ff1</th>\n",
       "      <td>50</td>\n",
       "      <td>0</td>\n",
       "    </tr>\n",
       "    <tr>\n",
       "      <th>48363bdca9fdfa03f93b1814414dc69f</th>\n",
       "      <td>50</td>\n",
       "      <td>0</td>\n",
       "    </tr>\n",
       "    <tr>\n",
       "      <th>...</th>\n",
       "      <th>...</th>\n",
       "      <td>...</td>\n",
       "      <td>...</td>\n",
       "    </tr>\n",
       "    <tr>\n",
       "      <th rowspan=\"5\" valign=\"top\">79303de03e3af7105cded55960d62ac3</th>\n",
       "      <th>88bda9e3382ac03e4d0e8ca513dcfe24</th>\n",
       "      <td>60</td>\n",
       "      <td>0</td>\n",
       "    </tr>\n",
       "    <tr>\n",
       "      <th>9289153e2132f0ad6a78998f0d5ac4f3</th>\n",
       "      <td>60</td>\n",
       "      <td>0</td>\n",
       "    </tr>\n",
       "    <tr>\n",
       "      <th>c85a5317bb8f72e0baae243c81aa4238</th>\n",
       "      <td>60</td>\n",
       "      <td>1</td>\n",
       "    </tr>\n",
       "    <tr>\n",
       "      <th>8013c8e81146ad6f1cc99c4227a7c2fd</th>\n",
       "      <td>60</td>\n",
       "      <td>1</td>\n",
       "    </tr>\n",
       "    <tr>\n",
       "      <th>280f0cedda5c4b171ee6245889659571</th>\n",
       "      <td>60</td>\n",
       "      <td>0</td>\n",
       "    </tr>\n",
       "  </tbody>\n",
       "</table>\n",
       "<p>2517206 rows × 2 columns</p>\n",
       "</div>"
      ],
      "text/plain": [
       "                                                                   PRICE_RATE  \\\n",
       "COUPON_ID_hash                   USER_ID_hash                                   \n",
       "6b263844241eea98c5a97f1335ea82af 6c3cbc5c3db3c673ffb52cd946dce194          50   \n",
       "                                 6c3cbc5c3db3c673ffb52cd946dce194          50   \n",
       "                                 6c3cbc5c3db3c673ffb52cd946dce194          50   \n",
       "                                 cdeb7bb2ba2fb35aa988a78f2aac1ff1          50   \n",
       "                                 48363bdca9fdfa03f93b1814414dc69f          50   \n",
       "...                                                                       ...   \n",
       "79303de03e3af7105cded55960d62ac3 88bda9e3382ac03e4d0e8ca513dcfe24          60   \n",
       "                                 9289153e2132f0ad6a78998f0d5ac4f3          60   \n",
       "                                 c85a5317bb8f72e0baae243c81aa4238          60   \n",
       "                                 8013c8e81146ad6f1cc99c4227a7c2fd          60   \n",
       "                                 280f0cedda5c4b171ee6245889659571          60   \n",
       "\n",
       "                                                                  SEX_ID  \n",
       "COUPON_ID_hash                   USER_ID_hash                             \n",
       "6b263844241eea98c5a97f1335ea82af 6c3cbc5c3db3c673ffb52cd946dce194      1  \n",
       "                                 6c3cbc5c3db3c673ffb52cd946dce194      1  \n",
       "                                 6c3cbc5c3db3c673ffb52cd946dce194      1  \n",
       "                                 cdeb7bb2ba2fb35aa988a78f2aac1ff1      0  \n",
       "                                 48363bdca9fdfa03f93b1814414dc69f      0  \n",
       "...                                                                  ...  \n",
       "79303de03e3af7105cded55960d62ac3 88bda9e3382ac03e4d0e8ca513dcfe24      0  \n",
       "                                 9289153e2132f0ad6a78998f0d5ac4f3      0  \n",
       "                                 c85a5317bb8f72e0baae243c81aa4238      1  \n",
       "                                 8013c8e81146ad6f1cc99c4227a7c2fd      1  \n",
       "                                 280f0cedda5c4b171ee6245889659571      0  \n",
       "\n",
       "[2517206 rows x 2 columns]"
      ]
     },
     "execution_count": 39,
     "metadata": {},
     "output_type": "execute_result"
    }
   ],
   "source": [
    "train_x"
   ]
  },
  {
   "cell_type": "code",
   "execution_count": 100,
   "id": "ba28ac01",
   "metadata": {},
   "outputs": [],
   "source": [
    "model = LogisticRegression(random_state=0).fit(train_x, train_y)\n",
    "prediction = model.predict(train_x)"
   ]
  },
  {
   "cell_type": "code",
   "execution_count": 46,
   "id": "def518f9",
   "metadata": {},
   "outputs": [
    {
     "data": {
      "text/plain": [
       "array([0, 0, 0, ..., 0, 0, 0])"
      ]
     },
     "execution_count": 46,
     "metadata": {},
     "output_type": "execute_result"
    }
   ],
   "source": [
    "prediction"
   ]
  },
  {
   "cell_type": "code",
   "execution_count": 43,
   "id": "7a97b683",
   "metadata": {},
   "outputs": [
    {
     "data": {
      "text/plain": [
       "array([[0.95946523, 0.04053477],\n",
       "       [0.95946523, 0.04053477],\n",
       "       [0.95946523, 0.04053477],\n",
       "       ...,\n",
       "       [0.94878797, 0.05121203],\n",
       "       [0.94878797, 0.05121203],\n",
       "       [0.95370281, 0.04629719]])"
      ]
     },
     "execution_count": 43,
     "metadata": {},
     "output_type": "execute_result"
    }
   ],
   "source": [
    "model.predict_proba(train_x)"
   ]
  },
  {
   "cell_type": "code",
   "execution_count": 44,
   "id": "330a5f30",
   "metadata": {},
   "outputs": [
    {
     "data": {
      "text/plain": [
       "0.9513790289710099"
      ]
     },
     "execution_count": 44,
     "metadata": {},
     "output_type": "execute_result"
    }
   ],
   "source": [
    "model.score(train_x, train_y)"
   ]
  },
  {
   "cell_type": "markdown",
   "id": "f70b28d1",
   "metadata": {},
   "source": [
    "coupon_list_test.columns\n",
    "Index(['CAPSULE_TEXT', 'GENRE_NAME', 'PRICE_RATE', 'CATALOG_PRICE',\n",
    "       'DISCOUNT_PRICE', 'DISPFROM', 'DISPEND', 'DISPPERIOD', 'VALIDFROM',\n",
    "       'VALIDEND', 'VALIDPERIOD', 'USABLE_DATE_MON', 'USABLE_DATE_TUE',\n",
    "       'USABLE_DATE_WED', 'USABLE_DATE_THU', 'USABLE_DATE_FRI',\n",
    "       'USABLE_DATE_SAT', 'USABLE_DATE_SUN', 'USABLE_DATE_HOLIDAY',\n",
    "       'USABLE_DATE_BEFORE_HOLIDAY', 'large_area_name', 'ken_name',\n",
    "       'small_area_name', 'COUPON_ID_hash'],\n",
    "      dtype='object')"
   ]
  },
  {
   "cell_type": "code",
   "execution_count": 96,
   "id": "034f4139",
   "metadata": {
    "scrolled": false
   },
   "outputs": [
    {
     "data": {
      "application/vnd.jupyter.widget-view+json": {
       "model_id": "f91cb0590dca4d3cbb7f6e9eb5338615",
       "version_major": 2,
       "version_minor": 0
      },
      "text/plain": [
       "  0%|          | 0/310 [00:00<?, ?it/s]"
      ]
     },
     "metadata": {},
     "output_type": "display_data"
    }
   ],
   "source": [
    "# test_x = pd.DataFrame(columns=['PRICE_RATE', 'COUPON_ID_hash', 'SEX_ID', 'USER_ID_hash'])\n",
    "test_x = []\n",
    "for i in tqdm(coupon_list_test.iterrows(), total=len(coupon_list_test)):\n",
    "    for j in user_list.iterrows():\n",
    "        x = pd.concat([i[1][['PRICE_RATE', 'COUPON_ID_hash']],j[1][['SEX_ID', 'USER_ID_hash']]])\n",
    "#         test_x = test_x.append(x, ignore_index=True)\n",
    "        test_x.append(x)\n",
    "test_x = pd.DataFrame(test_x)"
   ]
  },
  {
   "cell_type": "code",
   "execution_count": 97,
   "id": "ff255f3c",
   "metadata": {},
   "outputs": [
    {
     "data": {
      "text/html": [
       "<div>\n",
       "<style scoped>\n",
       "    .dataframe tbody tr th:only-of-type {\n",
       "        vertical-align: middle;\n",
       "    }\n",
       "\n",
       "    .dataframe tbody tr th {\n",
       "        vertical-align: top;\n",
       "    }\n",
       "\n",
       "    .dataframe thead th {\n",
       "        text-align: right;\n",
       "    }\n",
       "</style>\n",
       "<table border=\"1\" class=\"dataframe\">\n",
       "  <thead>\n",
       "    <tr style=\"text-align: right;\">\n",
       "      <th></th>\n",
       "      <th>PRICE_RATE</th>\n",
       "      <th>COUPON_ID_hash</th>\n",
       "      <th>SEX_ID</th>\n",
       "      <th>USER_ID_hash</th>\n",
       "    </tr>\n",
       "  </thead>\n",
       "  <tbody>\n",
       "    <tr>\n",
       "      <th>0</th>\n",
       "      <td>52</td>\n",
       "      <td>c76ea297ebd3a5a4d3bf9f75269f66fa</td>\n",
       "      <td>f</td>\n",
       "      <td>d9dca3cb44bab12ba313eaa681f663eb</td>\n",
       "    </tr>\n",
       "    <tr>\n",
       "      <th>Unnamed 0</th>\n",
       "      <td>52</td>\n",
       "      <td>c76ea297ebd3a5a4d3bf9f75269f66fa</td>\n",
       "      <td>f</td>\n",
       "      <td>560574a339f1b25e57b0221e486907ed</td>\n",
       "    </tr>\n",
       "    <tr>\n",
       "      <th>Unnamed 1</th>\n",
       "      <td>52</td>\n",
       "      <td>c76ea297ebd3a5a4d3bf9f75269f66fa</td>\n",
       "      <td>m</td>\n",
       "      <td>e66ae91b978b3229f8fd858c80615b73</td>\n",
       "    </tr>\n",
       "    <tr>\n",
       "      <th>Unnamed 2</th>\n",
       "      <td>52</td>\n",
       "      <td>c76ea297ebd3a5a4d3bf9f75269f66fa</td>\n",
       "      <td>m</td>\n",
       "      <td>43fc18f32eafb05713ec02935e2c2825</td>\n",
       "    </tr>\n",
       "    <tr>\n",
       "      <th>Unnamed 3</th>\n",
       "      <td>52</td>\n",
       "      <td>c76ea297ebd3a5a4d3bf9f75269f66fa</td>\n",
       "      <td>m</td>\n",
       "      <td>dc6df8aa860f8db0d710ce9d4839840f</td>\n",
       "    </tr>\n",
       "  </tbody>\n",
       "</table>\n",
       "</div>"
      ],
      "text/plain": [
       "           PRICE_RATE                    COUPON_ID_hash SEX_ID  \\\n",
       "0                  52  c76ea297ebd3a5a4d3bf9f75269f66fa      f   \n",
       "Unnamed 0          52  c76ea297ebd3a5a4d3bf9f75269f66fa      f   \n",
       "Unnamed 1          52  c76ea297ebd3a5a4d3bf9f75269f66fa      m   \n",
       "Unnamed 2          52  c76ea297ebd3a5a4d3bf9f75269f66fa      m   \n",
       "Unnamed 3          52  c76ea297ebd3a5a4d3bf9f75269f66fa      m   \n",
       "\n",
       "                               USER_ID_hash  \n",
       "0          d9dca3cb44bab12ba313eaa681f663eb  \n",
       "Unnamed 0  560574a339f1b25e57b0221e486907ed  \n",
       "Unnamed 1  e66ae91b978b3229f8fd858c80615b73  \n",
       "Unnamed 2  43fc18f32eafb05713ec02935e2c2825  \n",
       "Unnamed 3  dc6df8aa860f8db0d710ce9d4839840f  "
      ]
     },
     "execution_count": 97,
     "metadata": {},
     "output_type": "execute_result"
    }
   ],
   "source": [
    "test_x.head()"
   ]
  },
  {
   "cell_type": "code",
   "execution_count": 75,
   "id": "4fc48dfc",
   "metadata": {},
   "outputs": [
    {
     "data": {
      "text/html": [
       "<div>\n",
       "<style scoped>\n",
       "    .dataframe tbody tr th:only-of-type {\n",
       "        vertical-align: middle;\n",
       "    }\n",
       "\n",
       "    .dataframe tbody tr th {\n",
       "        vertical-align: top;\n",
       "    }\n",
       "\n",
       "    .dataframe thead th {\n",
       "        text-align: right;\n",
       "    }\n",
       "</style>\n",
       "<table border=\"1\" class=\"dataframe\">\n",
       "  <thead>\n",
       "    <tr style=\"text-align: right;\">\n",
       "      <th></th>\n",
       "      <th>PRICE_RATE</th>\n",
       "      <th>COUPON_ID_hash</th>\n",
       "      <th>SEX_ID</th>\n",
       "      <th>USER_ID_hash</th>\n",
       "    </tr>\n",
       "  </thead>\n",
       "  <tbody>\n",
       "  </tbody>\n",
       "</table>\n",
       "</div>"
      ],
      "text/plain": [
       "Empty DataFrame\n",
       "Columns: [PRICE_RATE, COUPON_ID_hash, SEX_ID, USER_ID_hash]\n",
       "Index: []"
      ]
     },
     "execution_count": 75,
     "metadata": {},
     "output_type": "execute_result"
    }
   ],
   "source": [
    "test_x"
   ]
  },
  {
   "cell_type": "code",
   "execution_count": 99,
   "id": "60d03b7e",
   "metadata": {},
   "outputs": [],
   "source": [
    "test_x.set_index(['COUPON_ID_hash', 'USER_ID_hash'], inplace = True)"
   ]
  },
  {
   "cell_type": "code",
   "execution_count": 102,
   "id": "5a2c7d18",
   "metadata": {},
   "outputs": [
    {
     "name": "stderr",
     "output_type": "stream",
     "text": [
      "<ipython-input-102-9e97ad19b14e>:1: SettingWithCopyWarning: \n",
      "A value is trying to be set on a copy of a slice from a DataFrame\n",
      "\n",
      "See the caveats in the documentation: https://pandas.pydata.org/pandas-docs/stable/user_guide/indexing.html#returning-a-view-versus-a-copy\n",
      "  test_x['SEX_ID'][test_x['SEX_ID']=='m'] = 1\n",
      "<ipython-input-102-9e97ad19b14e>:2: SettingWithCopyWarning: \n",
      "A value is trying to be set on a copy of a slice from a DataFrame\n",
      "\n",
      "See the caveats in the documentation: https://pandas.pydata.org/pandas-docs/stable/user_guide/indexing.html#returning-a-view-versus-a-copy\n",
      "  test_x['SEX_ID'][test_x['SEX_ID']=='f'] = 0\n"
     ]
    }
   ],
   "source": [
    "test_x['SEX_ID'][test_x['SEX_ID']=='m'] = 1\n",
    "test_x['SEX_ID'][test_x['SEX_ID']=='f'] = 0"
   ]
  },
  {
   "cell_type": "code",
   "execution_count": 108,
   "id": "80fdd3ca",
   "metadata": {},
   "outputs": [],
   "source": [
    "pred = model.predict_proba(test_x)"
   ]
  },
  {
   "cell_type": "code",
   "execution_count": 109,
   "id": "b3a50ce9",
   "metadata": {},
   "outputs": [
    {
     "data": {
      "text/plain": [
       "array([[0.96162709, 0.03837291],\n",
       "       [0.96162709, 0.03837291],\n",
       "       [0.957516  , 0.042484  ],\n",
       "       ...,\n",
       "       [0.9633949 , 0.0366051 ],\n",
       "       [0.9633949 , 0.0366051 ],\n",
       "       [0.9633949 , 0.0366051 ]])"
      ]
     },
     "execution_count": 109,
     "metadata": {},
     "output_type": "execute_result"
    }
   ],
   "source": [
    "pred"
   ]
  },
  {
   "cell_type": "code",
   "execution_count": 110,
   "id": "7d708293",
   "metadata": {
    "scrolled": true
   },
   "outputs": [
    {
     "data": {
      "text/plain": [
       "array([0.03837291, 0.03837291, 0.042484  , ..., 0.0366051 , 0.0366051 ,\n",
       "       0.0366051 ])"
      ]
     },
     "execution_count": 110,
     "metadata": {},
     "output_type": "execute_result"
    }
   ],
   "source": [
    "pred[:, 1]"
   ]
  },
  {
   "cell_type": "code",
   "execution_count": 114,
   "id": "5205bbeb",
   "metadata": {
    "scrolled": true
   },
   "outputs": [
    {
     "data": {
      "text/html": [
       "<div>\n",
       "<style scoped>\n",
       "    .dataframe tbody tr th:only-of-type {\n",
       "        vertical-align: middle;\n",
       "    }\n",
       "\n",
       "    .dataframe tbody tr th {\n",
       "        vertical-align: top;\n",
       "    }\n",
       "\n",
       "    .dataframe thead th {\n",
       "        text-align: right;\n",
       "    }\n",
       "</style>\n",
       "<table border=\"1\" class=\"dataframe\">\n",
       "  <thead>\n",
       "    <tr style=\"text-align: right;\">\n",
       "      <th></th>\n",
       "      <th>USER_ID_hash</th>\n",
       "      <th>PURCHASED_COUPONS</th>\n",
       "    </tr>\n",
       "  </thead>\n",
       "  <tbody>\n",
       "    <tr>\n",
       "      <th>0</th>\n",
       "      <td>0000b53e182165208887ba65c079fc21</td>\n",
       "      <td>NaN</td>\n",
       "    </tr>\n",
       "    <tr>\n",
       "      <th>1</th>\n",
       "      <td>00035b86e6884589ec8d28fbf2fe7757</td>\n",
       "      <td>NaN</td>\n",
       "    </tr>\n",
       "    <tr>\n",
       "      <th>2</th>\n",
       "      <td>0005b1068d5f2b8f2a7c978fcfe1ca06</td>\n",
       "      <td>NaN</td>\n",
       "    </tr>\n",
       "    <tr>\n",
       "      <th>3</th>\n",
       "      <td>000cc06982785a19e2a2fdb40b1c9d59</td>\n",
       "      <td>NaN</td>\n",
       "    </tr>\n",
       "    <tr>\n",
       "      <th>4</th>\n",
       "      <td>0013518e41c416cd6a181d277dd8ca0b</td>\n",
       "      <td>NaN</td>\n",
       "    </tr>\n",
       "  </tbody>\n",
       "</table>\n",
       "</div>"
      ],
      "text/plain": [
       "                       USER_ID_hash  PURCHASED_COUPONS\n",
       "0  0000b53e182165208887ba65c079fc21                NaN\n",
       "1  00035b86e6884589ec8d28fbf2fe7757                NaN\n",
       "2  0005b1068d5f2b8f2a7c978fcfe1ca06                NaN\n",
       "3  000cc06982785a19e2a2fdb40b1c9d59                NaN\n",
       "4  0013518e41c416cd6a181d277dd8ca0b                NaN"
      ]
     },
     "execution_count": 114,
     "metadata": {},
     "output_type": "execute_result"
    }
   ],
   "source": [
    "sample_submission.head()"
   ]
  },
  {
   "cell_type": "code",
   "execution_count": 194,
   "id": "cb5ba094",
   "metadata": {},
   "outputs": [
    {
     "data": {
      "text/html": [
       "<div>\n",
       "<style scoped>\n",
       "    .dataframe tbody tr th:only-of-type {\n",
       "        vertical-align: middle;\n",
       "    }\n",
       "\n",
       "    .dataframe tbody tr th {\n",
       "        vertical-align: top;\n",
       "    }\n",
       "\n",
       "    .dataframe thead th {\n",
       "        text-align: right;\n",
       "    }\n",
       "</style>\n",
       "<table border=\"1\" class=\"dataframe\">\n",
       "  <thead>\n",
       "    <tr style=\"text-align: right;\">\n",
       "      <th></th>\n",
       "      <th>COUPON_ID_hash</th>\n",
       "      <th>USER_ID_hash</th>\n",
       "      <th>PRICE_RATE</th>\n",
       "      <th>SEX_ID</th>\n",
       "    </tr>\n",
       "  </thead>\n",
       "  <tbody>\n",
       "    <tr>\n",
       "      <th>0</th>\n",
       "      <td>c76ea297ebd3a5a4d3bf9f75269f66fa</td>\n",
       "      <td>d9dca3cb44bab12ba313eaa681f663eb</td>\n",
       "      <td>52</td>\n",
       "      <td>0</td>\n",
       "    </tr>\n",
       "    <tr>\n",
       "      <th>1</th>\n",
       "      <td>c76ea297ebd3a5a4d3bf9f75269f66fa</td>\n",
       "      <td>560574a339f1b25e57b0221e486907ed</td>\n",
       "      <td>52</td>\n",
       "      <td>0</td>\n",
       "    </tr>\n",
       "    <tr>\n",
       "      <th>2</th>\n",
       "      <td>c76ea297ebd3a5a4d3bf9f75269f66fa</td>\n",
       "      <td>e66ae91b978b3229f8fd858c80615b73</td>\n",
       "      <td>52</td>\n",
       "      <td>1</td>\n",
       "    </tr>\n",
       "    <tr>\n",
       "      <th>3</th>\n",
       "      <td>c76ea297ebd3a5a4d3bf9f75269f66fa</td>\n",
       "      <td>43fc18f32eafb05713ec02935e2c2825</td>\n",
       "      <td>52</td>\n",
       "      <td>1</td>\n",
       "    </tr>\n",
       "    <tr>\n",
       "      <th>4</th>\n",
       "      <td>c76ea297ebd3a5a4d3bf9f75269f66fa</td>\n",
       "      <td>dc6df8aa860f8db0d710ce9d4839840f</td>\n",
       "      <td>52</td>\n",
       "      <td>1</td>\n",
       "    </tr>\n",
       "  </tbody>\n",
       "</table>\n",
       "</div>"
      ],
      "text/plain": [
       "                     COUPON_ID_hash                      USER_ID_hash  \\\n",
       "0  c76ea297ebd3a5a4d3bf9f75269f66fa  d9dca3cb44bab12ba313eaa681f663eb   \n",
       "1  c76ea297ebd3a5a4d3bf9f75269f66fa  560574a339f1b25e57b0221e486907ed   \n",
       "2  c76ea297ebd3a5a4d3bf9f75269f66fa  e66ae91b978b3229f8fd858c80615b73   \n",
       "3  c76ea297ebd3a5a4d3bf9f75269f66fa  43fc18f32eafb05713ec02935e2c2825   \n",
       "4  c76ea297ebd3a5a4d3bf9f75269f66fa  dc6df8aa860f8db0d710ce9d4839840f   \n",
       "\n",
       "   PRICE_RATE SEX_ID  \n",
       "0          52      0  \n",
       "1          52      0  \n",
       "2          52      1  \n",
       "3          52      1  \n",
       "4          52      1  "
      ]
     },
     "execution_count": 194,
     "metadata": {},
     "output_type": "execute_result"
    }
   ],
   "source": [
    "test_X.head()"
   ]
  },
  {
   "cell_type": "code",
   "execution_count": 252,
   "id": "858e07ed",
   "metadata": {},
   "outputs": [
    {
     "data": {
      "application/vnd.jupyter.widget-view+json": {
       "model_id": "4be2927322c8490b9041eac83a67305c",
       "version_major": 2,
       "version_minor": 0
      },
      "text/plain": [
       "  0%|          | 0/22873 [00:00<?, ?it/s]"
      ]
     },
     "metadata": {},
     "output_type": "display_data"
    }
   ],
   "source": [
    "test_X = test_x.reset_index()\n",
    "for row in tqdm(sample_submission.iterrows(), total = len(sample_submission)):\n",
    "    idx = pred[test_X['USER_ID_hash'] == row[1]['USER_ID_hash']][:,1].argsort()[-10:]\n",
    "#     coupon_ids = test_X['COUPON_ID_hash'][test_X['USER_ID_hash'] == row[1]['USER_ID_hash']].reset_index().iloc[idx]['COUPON_ID_hash']\n",
    "    coupon_ids = coupon_list_test['COUPON_ID_hash'].iloc[idx]\n",
    "    sample_submission['PURCHASED_COUPONS'][sample_submission['USER_ID_hash'] == row[1]['USER_ID_hash']] = ', '.join(coupon_ids)\n"
   ]
  },
  {
   "cell_type": "code",
   "execution_count": 253,
   "id": "c067aaa3",
   "metadata": {},
   "outputs": [
    {
     "data": {
      "text/html": [
       "<div>\n",
       "<style scoped>\n",
       "    .dataframe tbody tr th:only-of-type {\n",
       "        vertical-align: middle;\n",
       "    }\n",
       "\n",
       "    .dataframe tbody tr th {\n",
       "        vertical-align: top;\n",
       "    }\n",
       "\n",
       "    .dataframe thead th {\n",
       "        text-align: right;\n",
       "    }\n",
       "</style>\n",
       "<table border=\"1\" class=\"dataframe\">\n",
       "  <thead>\n",
       "    <tr style=\"text-align: right;\">\n",
       "      <th></th>\n",
       "      <th>USER_ID_hash</th>\n",
       "      <th>PURCHASED_COUPONS</th>\n",
       "    </tr>\n",
       "  </thead>\n",
       "  <tbody>\n",
       "    <tr>\n",
       "      <th>0</th>\n",
       "      <td>0000b53e182165208887ba65c079fc21</td>\n",
       "      <td>f8cd0c285f925936e2ef808eb3a8296a, b47340cbd4f4...</td>\n",
       "    </tr>\n",
       "    <tr>\n",
       "      <th>1</th>\n",
       "      <td>00035b86e6884589ec8d28fbf2fe7757</td>\n",
       "      <td>f8cd0c285f925936e2ef808eb3a8296a, b47340cbd4f4...</td>\n",
       "    </tr>\n",
       "    <tr>\n",
       "      <th>2</th>\n",
       "      <td>0005b1068d5f2b8f2a7c978fcfe1ca06</td>\n",
       "      <td>f8cd0c285f925936e2ef808eb3a8296a, b47340cbd4f4...</td>\n",
       "    </tr>\n",
       "    <tr>\n",
       "      <th>3</th>\n",
       "      <td>000cc06982785a19e2a2fdb40b1c9d59</td>\n",
       "      <td>f8cd0c285f925936e2ef808eb3a8296a, b47340cbd4f4...</td>\n",
       "    </tr>\n",
       "    <tr>\n",
       "      <th>4</th>\n",
       "      <td>0013518e41c416cd6a181d277dd8ca0b</td>\n",
       "      <td>f8cd0c285f925936e2ef808eb3a8296a, b47340cbd4f4...</td>\n",
       "    </tr>\n",
       "  </tbody>\n",
       "</table>\n",
       "</div>"
      ],
      "text/plain": [
       "                       USER_ID_hash  \\\n",
       "0  0000b53e182165208887ba65c079fc21   \n",
       "1  00035b86e6884589ec8d28fbf2fe7757   \n",
       "2  0005b1068d5f2b8f2a7c978fcfe1ca06   \n",
       "3  000cc06982785a19e2a2fdb40b1c9d59   \n",
       "4  0013518e41c416cd6a181d277dd8ca0b   \n",
       "\n",
       "                                   PURCHASED_COUPONS  \n",
       "0  f8cd0c285f925936e2ef808eb3a8296a, b47340cbd4f4...  \n",
       "1  f8cd0c285f925936e2ef808eb3a8296a, b47340cbd4f4...  \n",
       "2  f8cd0c285f925936e2ef808eb3a8296a, b47340cbd4f4...  \n",
       "3  f8cd0c285f925936e2ef808eb3a8296a, b47340cbd4f4...  \n",
       "4  f8cd0c285f925936e2ef808eb3a8296a, b47340cbd4f4...  "
      ]
     },
     "execution_count": 253,
     "metadata": {},
     "output_type": "execute_result"
    }
   ],
   "source": [
    "sample_submission.head()"
   ]
  },
  {
   "cell_type": "code",
   "execution_count": 239,
   "id": "0e857393",
   "metadata": {},
   "outputs": [
    {
     "data": {
      "text/plain": [
       "'f8cd0c285f925936e2ef808eb3a8296a, b47340cbd4f4c57f32637cfb86462cc3, 64b92e53b6e56f7f7bd158ec31887f3d, 16eb5a39ed9efd47cedbfdf8985df147, 9e22b913cb077f8ef844112bcfc72787, 53e6af8b95c14358a345910643a85382, 3ac97c8d840663c600471b44895dc4c0, 784c1314b9f64ae9f3c6e217fb10d15c, 96d275611439e0029db651a914965ea3, c988d799bc7db9254fe865ee6cf2d4ff'"
      ]
     },
     "execution_count": 239,
     "metadata": {},
     "output_type": "execute_result"
    }
   ],
   "source": [
    "#', '.join(coupons.reset_index().iloc[idx]['COUPON_ID_hash'])"
   ]
  },
  {
   "cell_type": "code",
   "execution_count": 254,
   "id": "0aba1348",
   "metadata": {
    "scrolled": false
   },
   "outputs": [],
   "source": [
    "sample_submission.to_csv('result.csv', index=False)"
   ]
  },
  {
   "cell_type": "code",
   "execution_count": null,
   "id": "dd576782",
   "metadata": {},
   "outputs": [],
   "source": []
  },
  {
   "cell_type": "code",
   "execution_count": null,
   "id": "2b135bc5",
   "metadata": {},
   "outputs": [],
   "source": []
  },
  {
   "cell_type": "code",
   "execution_count": 113,
   "id": "3baf0934",
   "metadata": {},
   "outputs": [],
   "source": [
    "?np.argmax"
   ]
  },
  {
   "cell_type": "code",
   "execution_count": 185,
   "id": "e7b3c938",
   "metadata": {},
   "outputs": [
    {
     "data": {
      "text/plain": [
       "array([5, 2])"
      ]
     },
     "execution_count": 185,
     "metadata": {},
     "output_type": "execute_result"
    }
   ],
   "source": [
    "l1 = np.array([5,2,3,6])\n",
    "l2 = np.array(['a','a','b','b'])\n",
    "l1[l2 =='a'] "
   ]
  },
  {
   "cell_type": "code",
   "execution_count": 175,
   "id": "40066fd3",
   "metadata": {},
   "outputs": [
    {
     "data": {
      "text/plain": [
       "array([ True,  True, False, False])"
      ]
     },
     "execution_count": 175,
     "metadata": {},
     "output_type": "execute_result"
    }
   ],
   "source": [
    "l2 =='a'"
   ]
  },
  {
   "cell_type": "code",
   "execution_count": 186,
   "id": "03737f0a",
   "metadata": {},
   "outputs": [
    {
     "data": {
      "text/plain": [
       "array([5, 2, 3, 6])"
      ]
     },
     "execution_count": 186,
     "metadata": {},
     "output_type": "execute_result"
    }
   ],
   "source": [
    "l1"
   ]
  },
  {
   "cell_type": "code",
   "execution_count": 178,
   "id": "2ab7dae0",
   "metadata": {},
   "outputs": [],
   "source": [
    "?l1.argsort"
   ]
  },
  {
   "cell_type": "code",
   "execution_count": 189,
   "id": "dd41ab4f",
   "metadata": {},
   "outputs": [
    {
     "data": {
      "text/plain": [
       "array([1, 2, 0, 3])"
      ]
     },
     "execution_count": 189,
     "metadata": {},
     "output_type": "execute_result"
    }
   ],
   "source": [
    "np.argsort(l1)"
   ]
  },
  {
   "cell_type": "code",
   "execution_count": 193,
   "id": "0ac32542",
   "metadata": {},
   "outputs": [
    {
     "data": {
      "text/plain": [
       "array([2, 3, 5, 6])"
      ]
     },
     "execution_count": 193,
     "metadata": {},
     "output_type": "execute_result"
    }
   ],
   "source": [
    "l1[l1.argsort()]"
   ]
  },
  {
   "cell_type": "code",
   "execution_count": null,
   "id": "43992033",
   "metadata": {},
   "outputs": [],
   "source": []
  }
 ],
 "metadata": {
  "kernelspec": {
   "display_name": "Python 3",
   "language": "python",
   "name": "python3"
  },
  "language_info": {
   "codemirror_mode": {
    "name": "ipython",
    "version": 3
   },
   "file_extension": ".py",
   "mimetype": "text/x-python",
   "name": "python",
   "nbconvert_exporter": "python",
   "pygments_lexer": "ipython3",
   "version": "3.9.5"
  }
 },
 "nbformat": 4,
 "nbformat_minor": 5
}
